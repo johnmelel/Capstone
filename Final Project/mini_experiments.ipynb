{
 "cells": [
  {
   "cell_type": "code",
   "id": "initial_id",
   "metadata": {
    "collapsed": true,
    "ExecuteTime": {
     "end_time": "2025-05-06T21:06:41.460072Z",
     "start_time": "2025-05-06T21:06:41.457115Z"
    }
   },
   "source": [
    "import subprocess\n",
    "import time\n",
    "import random\n",
    "from pathlib import Path\n",
    "import matplotlib.pyplot as plt\n",
    "from tqdm.auto import tqdm\n",
    "\n",
    "from langchain_community.document_loaders import DirectoryLoader, PyMuPDFLoader\n",
    "from langchain_text_splitters import RecursiveCharacterTextSplitter\n",
    "from langchain_openai import ChatOpenAI\n",
    "from langchain_core.prompts import PromptTemplate\n",
    "from langchain_huggingface import HuggingFaceEmbeddings\n",
    "from langchain_community.vectorstores import Milvus\n",
    "from pymilvus import utility, Collection, connections"
   ],
   "outputs": [],
   "execution_count": 61
  },
  {
   "metadata": {
    "ExecuteTime": {
     "end_time": "2025-05-06T21:08:04.618858Z",
     "start_time": "2025-05-06T21:08:04.616875Z"
    }
   },
   "cell_type": "code",
   "source": [
    "SAMPLE_SIZE = 100\n",
    "\n",
    "MILVUS_HOST = \"localhost\"\n",
    "MILVUS_PORT = \"19530\"\n",
    "\n",
    "COLLECTION_NAME = \"medical_knowledge_base_v2\""
   ],
   "id": "62750561bb2d5753",
   "outputs": [],
   "execution_count": 66
  },
  {
   "metadata": {
    "ExecuteTime": {
     "end_time": "2025-05-06T21:08:04.702410Z",
     "start_time": "2025-05-06T21:08:04.699401Z"
    }
   },
   "cell_type": "code",
   "source": [
    "def load_and_chunk(data_directory: str, chunk_size: int = 1000, chunk_overlap: int = 200):\n",
    "    \"\"\"Load PDFs from disk and split into text chunks.\"\"\"\n",
    "    loader = DirectoryLoader(\n",
    "        data_directory,\n",
    "        glob=\"**/*.pdf\",\n",
    "        loader_cls=PyMuPDFLoader\n",
    "    )\n",
    "    docs = loader.load()\n",
    "    for doc in docs:\n",
    "        doc.metadata[\"source\"] = Path(doc.metadata[\"source\"]).name\n",
    "    splitter = RecursiveCharacterTextSplitter(\n",
    "        chunk_size=chunk_size,\n",
    "        chunk_overlap=chunk_overlap\n",
    "    )\n",
    "    chunks = splitter.split_documents(docs)\n",
    "    print(f\"Loaded {len(docs)} pages → {len(chunks)} chunks\")\n",
    "    return chunks"
   ],
   "id": "2c4a6fa3c6cc3b13",
   "outputs": [],
   "execution_count": 67
  },
  {
   "metadata": {
    "ExecuteTime": {
     "end_time": "2025-05-06T21:08:24.918428Z",
     "start_time": "2025-05-06T21:08:04.819565Z"
    }
   },
   "cell_type": "code",
   "source": [
    "data_dir = \"/Users/Kyler/Codestuff/Capstone/papers/\"\n",
    "chunks = load_and_chunk(data_dir)\n",
    "total_chunks = len(chunks)"
   ],
   "id": "672fb5ab848d2e4d",
   "outputs": [
    {
     "name": "stdout",
     "output_type": "stream",
     "text": [
      "Loaded 7520 pages → 20021 chunks\n"
     ]
    }
   ],
   "execution_count": 68
  },
  {
   "metadata": {
    "ExecuteTime": {
     "end_time": "2025-05-06T21:08:24.937847Z",
     "start_time": "2025-05-06T21:08:24.935010Z"
    }
   },
   "cell_type": "code",
   "source": [
    "total_chunks = len(chunks)\n",
    "sampled_chunks = random.sample(chunks, SAMPLE_SIZE)"
   ],
   "id": "6f3841d0cfd72944",
   "outputs": [],
   "execution_count": 69
  },
  {
   "metadata": {
    "ExecuteTime": {
     "end_time": "2025-05-06T21:08:24.961291Z",
     "start_time": "2025-05-06T21:08:24.946456Z"
    }
   },
   "cell_type": "code",
   "source": [
    "connections.connect(\n",
    "        alias=\"default\",\n",
    "        host=MILVUS_HOST,\n",
    "        port=MILVUS_PORT\n",
    "    )"
   ],
   "id": "e3634933c96e8612",
   "outputs": [],
   "execution_count": 70
  },
  {
   "metadata": {
    "ExecuteTime": {
     "end_time": "2025-05-06T21:09:12.252238Z",
     "start_time": "2025-05-06T21:08:24.968441Z"
    }
   },
   "cell_type": "code",
   "source": [
    "embedder = HuggingFaceEmbeddings(model_name=\"sentence-transformers/all-MiniLM-L6-v2\")\n",
    "existing = utility.list_collections()\n",
    "print(\"Existing collections:\", existing)\n",
    "\n",
    "if COLLECTION_NAME not in existing:\n",
    "    vector_store = Milvus.from_documents(\n",
    "        documents=chunks,\n",
    "        embedding=embedder,\n",
    "        collection_name=COLLECTION_NAME,\n",
    "        connection_args={\"host\": MILVUS_HOST, \"port\": MILVUS_PORT}\n",
    "    )\n",
    "else:\n",
    "    vector_store = Milvus(\n",
    "        embedding_function=embedder,\n",
    "        collection_name=COLLECTION_NAME,\n",
    "        connection_args={\"host\": MILVUS_HOST, \"port\": MILVUS_PORT}\n",
    "    )\n",
    "    col = Collection(COLLECTION_NAME)\n",
    "    print(f\"Collection '{COLLECTION_NAME}' already contains {col.num_entities} chunks\")\n",
    "\n",
    "retriever = vector_store.as_retriever(search_kwargs={\"k\": 5})"
   ],
   "id": "ab70071091607296",
   "outputs": [
    {
     "name": "stdout",
     "output_type": "stream",
     "text": [
      "Existing collections: ['medical_knowledge_base_v1']\n"
     ]
    }
   ],
   "execution_count": 71
  },
  {
   "metadata": {
    "ExecuteTime": {
     "end_time": "2025-05-06T21:10:14.273410Z",
     "start_time": "2025-05-06T21:09:12.260652Z"
    }
   },
   "cell_type": "code",
   "source": [
    "llm = ChatOpenAI(model=\"gpt-4o\", temperature=0.7)\n",
    "prompt = PromptTemplate.from_template(\n",
    "    \"Generate one concise question answered by this passage:\\n\\n{text}\\n\\nQuestion:\"\n",
    ")\n",
    "questions = []\n",
    "for chunk in tqdm(sampled_chunks, desc=\"Generating questions\"):\n",
    "    resp = llm.invoke(prompt.format(text=chunk.page_content))\n",
    "    q = resp.content.strip()\n",
    "    questions.append({\"question\": q, \"source\": chunk.metadata[\"source\"]})\n",
    "    print(f\"Q from {chunk.metadata['source']}: '{q}'\")"
   ],
   "id": "25b0a365c87b5502",
   "outputs": [
    {
     "data": {
      "text/plain": [
       "Generating questions:   0%|          | 0/100 [00:00<?, ?it/s]"
      ],
      "application/vnd.jupyter.widget-view+json": {
       "version_major": 2,
       "version_minor": 0,
       "model_id": "e80ae0c4eb1545608e161366acea6efe"
      }
     },
     "metadata": {},
     "output_type": "display_data"
    },
    {
     "name": "stdout",
     "output_type": "stream",
     "text": [
      "Q from Diagnostic Imaging_ Gastrointestinal ( PDFDrive ).pdf: 'What is the recommended imaging tool for diagnosing acute viral hepatitis?'\n",
      "Q from CT and MRI of the Whole Body, 2-Volume Set, 6e, Volume I ( PDFDrive ).pdf: 'What imaging features characterize a desmoplastic infantile ganglioglioma (DIG) on MRI?'\n",
      "Q from Gastrointestinal Imaging_ The Requisites (Requisites in Radiology) 3rd ed ( PDFDrive ).pdf: 'What is the most common cause of free intraperitoneal air in hospitalized patients?'\n",
      "Q from Diagnostic Imaging_ Gastrointestinal ( PDFDrive ).pdf: 'What are the common imaging features of a solid and pseudopapillary neoplasm (SPEN) in the pancreas?'\n",
      "Q from CT and MRI of the Whole Body, 2-Volume Set, 6e, Volume I ( PDFDrive ).pdf: 'What roles does Gln play in the human brain according to the passage?'\n",
      "Q from Gastrointestinal Imaging_ The Requisites (Requisites in Radiology) 3rd ed ( PDFDrive ).pdf: 'How can liver density measurements help determine the cause of cardiac dysrhythmias during medication administration?'\n",
      "Q from CT and MRI of the Whole Body, 2-Volume Set, 6e, Volume I ( PDFDrive ).pdf: 'What is the formula for calculating cerebral blood volume (CBV) according to the central volume theorem?'\n",
      "Q from Diagnostic Imaging_ Gastrointestinal ( PDFDrive ).pdf: 'What is the prevalence of a trifurcation pattern in the hepatic duct junction among the population?'\n",
      "Q from CT and MRI of the Whole Body, 2-Volume Set, 6e, Volume I ( PDFDrive ).pdf: 'What is the purpose of applying different strengths of phase-encoding gradients in MRI?'\n",
      "Q from CT and MRI of the Whole Body, 2-Volume Set, 6e, Volume I ( PDFDrive ).pdf: 'What are the types of dural arteriovenous fistulas according to the Cognard classification?'\n",
      "Q from Diagnostic Imaging_ Gastrointestinal ( PDFDrive ).pdf: 'What is the recommended treatment approach for type I and IV choledochal cysts due to the risk of malignancy and complications?'\n",
      "Q from CT and MRI of the Whole Body, 2-Volume Set, 6e, Volume I ( PDFDrive ).pdf: 'What are the typical radiological manifestations of a clear cell tumor in the lung?'\n",
      "Q from Diagnostic Imaging Genitourinary ( PDFDrive ).pdf: 'What imaging findings are associated with medullary nephrocalcinosis in a patient with renal tubular acidosis?'\n",
      "Q from Diagnostic Imaging_ Gastrointestinal ( PDFDrive ).pdf: 'What imaging characteristics indicate the presence of a nodule-in-nodule pattern of HCC within a dysplastic nodule in a patient with chronic hepatitis C?'\n",
      "Q from CT and MRI of the Whole Body, 2-Volume Set, 6e, Volume I ( PDFDrive ).pdf: 'What complications can arise from DVAs in the brain?'\n",
      "Q from Diagnostic Imaging_ Gastrointestinal ( PDFDrive ).pdf: 'What are the common clinical features and treatment for pyogenic liver abscesses?'\n",
      "Q from Diagnostic Imaging_ Gastrointestinal ( PDFDrive ).pdf: 'What imaging changes are observed in the liver during and after yttrium-90 microsphere therapy for HCC?'\n",
      "Q from Liver imaging _ MRI with CT correlation ( PDFDrive ).pdf: 'What imaging techniques are recommended for non-cooperative patients when conducting a liver or general abdomen protocol at 1.5 T?'\n",
      "Q from Liver imaging _ MRI with CT correlation ( PDFDrive ).pdf: 'What imaging techniques are used to illustrate an enlarged fatty edematous liver due to hepatitis in Figure 12.11?'\n",
      "Q from Gastrointestinal Imaging_ The Requisites (Requisites in Radiology) 3rd ed ( PDFDrive ).pdf: 'What types of gastrointestinal bleeding are associated with melena and hematochezia, and what are their common causes?'\n",
      "Q from CT and MRI of the Whole Body, 2-Volume Set, 6e, Volume I ( PDFDrive ).pdf: 'What are the signs and imaging findings that suggest tumor invasion in the laryngeal region?'\n",
      "Q from Diagnostic Imaging_ Gastrointestinal ( PDFDrive ).pdf: 'What are the characteristic imaging findings of Budd-Chiari Syndrome?'\n",
      "Q from Radiology Illustrated_ Hepatobiliary and Pancreatic Radiology ( PDFDrive ).pdf: 'How does hematogenous spread manifest in CT scans for liver and lung metastases from gallbladder cancer?'\n",
      "Q from Gastrointestinal Imaging_ The Requisites (Requisites in Radiology) 3rd ed ( PDFDrive ).pdf: 'What is a minimally invasive treatment for gastroesophageal reflux disease mentioned in the passage?'\n",
      "Q from Diagnostic Imaging_ Gastrointestinal ( PDFDrive ).pdf: 'What are the common signs and symptoms during the chronic phase of this condition?'\n",
      "Q from Diagnostic Imaging_ Gastrointestinal ( PDFDrive ).pdf: 'How does FDG PET contribute to cancer diagnosis and treatment monitoring?'\n",
      "Q from CT and MRI of the Whole Body, 2-Volume Set, 6e, Volume I ( PDFDrive ).pdf: 'What are the common symptoms and typical age range for patients with dural AVFs?'\n",
      "Q from Diagnostic Imaging_ Gastrointestinal ( PDFDrive ).pdf: 'What are the common signs and symptoms of amebic colitis as described in the passage?'\n",
      "Q from Diagnostic Imaging_ Gastrointestinal ( PDFDrive ).pdf: 'What condition was confirmed through endoscopic sonography in the patient with duct dilation and cystic masses?'\n",
      "Q from fujita-et-al-2019-hyperintense-liver-masses-at-hepatobiliary-phase-gadoxetic-acid-enhanced-mri-imaging-appearances-and.pdf: 'How does the expression of OATPB1/B3 and MRP3 in hepatocellular adenoma correlate with Gd-EOB-DTPA uptake and malignancy risk?'\n",
      "Q from Radiology Illustrated_ Hepatobiliary and Pancreatic Radiology ( PDFDrive ).pdf: 'What conditions can mimic gallbladder cancer and how can they be distinguished?'\n",
      "Q from Diagnostic Imaging Genitourinary ( PDFDrive ).pdf: 'What is the significance of detecting seminal vesicle (SV) invasion in prostate cancer treatment?'\n",
      "Q from Radiology Illustrated_ Hepatobiliary and Pancreatic Radiology ( PDFDrive ).pdf: 'What imaging findings indicate active bleeding in a subcapsular hematoma in this case?'\n",
      "Q from CT and MRI of the Whole Body, 2-Volume Set, 6e, Volume I ( PDFDrive ).pdf: 'What is the earliest pulmonary manifestation of ankylosing spondylitis?'\n",
      "Q from Diagnostic Imaging_ Gastrointestinal ( PDFDrive ).pdf: 'What are the imaging characteristics of localized peritoneal mesothelioma on MRI and ultrasound?'\n",
      "Q from Diagnostic Imaging_ Gastrointestinal ( PDFDrive ).pdf: 'What are the common etiologies of gastritis and how is it typically imaged?'\n",
      "Q from Diagnostic Imaging Genitourinary ( PDFDrive ).pdf: 'What was the presumed cause of the moderate-size retroperitoneal hematoma in the patient?'\n",
      "Q from CT and MRI of the Whole Body, 2-Volume Set, 6e, Volume I ( PDFDrive ).pdf: 'What imaging characteristics are typically observed in cervical teratomas on antenatal ultrasound?'\n",
      "Q from CT and MRI of the Whole Body, 2-Volume Set, 6e, Volume I ( PDFDrive ).pdf: 'What is the significance of part-solid and nonsolid nodules in CT screening for lung cancer?'\n",
      "Q from Mayo Clinic Gastrointestinal Imaging Review ( PDFDrive ).pdf: 'What types of cancers and syndromes are associated with Lynch syndrome and other related genetic conditions?'\n",
      "Q from CT and MRI of the Whole Body, 2-Volume Set, 6e, Volume I ( PDFDrive ).pdf: 'What are the characteristic imaging findings of tuberculous spondylitis?'\n",
      "Q from Radiology Illustrated_ Hepatobiliary and Pancreatic Radiology ( PDFDrive ).pdf: 'What imaging technique is used to detect siderotic nodules?'\n",
      "Q from Diagnostic Imaging_ Gastrointestinal ( PDFDrive ).pdf: 'What are the possible manifestations of post-transplant lymphoproliferative disorder (PTLD) in renal transplant recipients?'\n",
      "Q from CT and MRI of the Whole Body, 2-Volume Set, 6e, Volume I ( PDFDrive ).pdf: 'What is the focus of the case report by Segal N et al. regarding intracranial infection?'\n",
      "Q from Gastrointestinal Imaging_ The Requisites (Requisites in Radiology) 3rd ed ( PDFDrive ).pdf: 'What are the common presenting symptoms of periampullary lesions?'\n",
      "Q from Diagnostic Imaging_ Gastrointestinal ( PDFDrive ).pdf: 'What are the typical features of primary biliary cholangitis (PBC) observed in imaging and liver pathology?'\n",
      "Q from Diagnostic Imaging_ Gastrointestinal ( PDFDrive ).pdf: 'What condition might cause a dilated esophagus with a persistent air-fluid level and a dilated duodenum in a young woman with dysphagia?'\n",
      "Q from LIRADS Lexicon Table.pdf: 'What role does hepatobiliary phase (HBP) hypointensity play in the LI-RADS CT/MRI diagnostic algorithm?'\n",
      "Q from Diagnostic Imaging_ Gastrointestinal ( PDFDrive ).pdf: 'What is the relationship between recurrent pyogenic cholangitis (RPC) and cholangiocarcinoma as demonstrated in this patient?'\n",
      "Q from WJH-13-1936.pdf: 'What are the enhancement characteristics of hypovascular, hypervascular, isovascular, and avascular metastases in MRI imaging?'\n",
      "Q from CT and MRI of the Whole Body, 2-Volume Set, 6e, Volume I ( PDFDrive ).pdf: 'What imaging techniques are used to study meningeal processes and related conditions?'\n",
      "Q from Radiology Illustrated_ Hepatobiliary and Pancreatic Radiology ( PDFDrive ).pdf: 'What imaging techniques are used to identify the \"cluster\" sign in a pyogenic hepatic abscess?'\n",
      "Q from CT and MRI of the Whole Body, 2-Volume Set, 6e, Volume I ( PDFDrive ).pdf: 'What is a defined procedure protocol in the context of radiology?'\n",
      "Q from CT and MRI of the Whole Body, 2-Volume Set, 6e, Volume I ( PDFDrive ).pdf: 'What are the pulmonary infectious complications associated with human immunodeficiency virus infection?'\n",
      "Q from Diagnostic Imaging_ Gastrointestinal ( PDFDrive ).pdf: 'What are the potential complications and signs associated with barotrauma?'\n",
      "Q from Diagnostic Imaging Genitourinary ( PDFDrive ).pdf: 'What are the common signs and symptoms associated with adrenal cysts?'\n",
      "Q from Liver imaging _ MRI with CT correlation ( PDFDrive ).pdf: 'What are the primary imaging techniques discussed in the book \"Liver Imaging: MRI with CT Correlation\"?'\n",
      "Q from MRI of the prostate_ a practical approach ( PDFDrive ).pdf: 'What position does the person mentioned hold at the NYU Langone Medical Center?'\n",
      "Q from CT and MRI of the Whole Body, 2-Volume Set, 6e, Volume I ( PDFDrive ).pdf: 'What imaging techniques were used in the study on the decline of neuronal density in glioma patients?'\n",
      "Q from Diagnostic Imaging_ Gastrointestinal ( PDFDrive ).pdf: 'What imaging modalities are recommended for detecting alcoholic steatohepatitis and monitoring cirrhosis progression?'\n",
      "Q from Diagnostic Imaging Genitourinary ( PDFDrive ).pdf: 'What is the best imaging tool for diagnosing urethral trauma?'\n",
      "Q from Radiology Illustrated_ Hepatobiliary and Pancreatic Radiology ( PDFDrive ).pdf: 'What are the imaging features used to identify hepatocellular adenomas (HCA) and hepatocellular carcinomas (HCCs)?'\n",
      "Q from Diagnostic Imaging_ Gastrointestinal ( PDFDrive ).pdf: 'What are the imaging characteristics and top differential diagnoses of hepatic angiosarcoma?'\n",
      "Q from Diagnostic Imaging_ Gastrointestinal ( PDFDrive ).pdf: 'What are some common and less common causes of esophageal conditions mentioned in the passage?'\n",
      "Q from Mayo Clinic Gastrointestinal Imaging Review ( PDFDrive ).pdf: 'What are some defecation disorders listed in the passage?'\n",
      "Q from LIRADS Lexicon Table.pdf: 'What imaging criteria on MRI indicate the presence of iron in a mass?'\n",
      "Q from Diagnostic Imaging_ Gastrointestinal ( PDFDrive ).pdf: 'What are the typical CT findings in the liver of a patient with HIV/AIDS?'\n",
      "Q from Diagnostic Imaging_ Gastrointestinal ( PDFDrive ).pdf: 'What are the differences in perfusion and cellular function between high-grade DNs and RNs?'\n",
      "Q from Genitourinary Radiology_ Radiology Requisites Series ( PDFDrive ) (1).pdf: 'What is the main topic or focus of the passage?'\n",
      "Q from Mayo Clinic Gastrointestinal Imaging Review ( PDFDrive ).pdf: 'What is the likelihood of obstructive or ischemic complications in ventral hernias with wide openings compared to those with narrow openings?'\n",
      "Q from Gastrointestinal Imaging_ The Requisites (Requisites in Radiology) 3rd ed ( PDFDrive ).pdf: 'What are epiphrenic diverticula and what complications can arise from them during an endoscopy?'\n",
      "Q from Gastrointestinal Imaging_ The Requisites (Requisites in Radiology) 3rd ed ( PDFDrive ).pdf: 'What factors can degrade the quality of mucosal coating during a barium examination of the stomach?'\n",
      "Q from CT and MRI of the Whole Body, 2-Volume Set, 6e, Volume I ( PDFDrive ).pdf: 'How does the variability of the HRF across different factors influence the analysis of fMRI data?'\n",
      "Q from Diagnostic Imaging Genitourinary ( PDFDrive ).pdf: 'What are common causes of abrupt onset adrenal insufficiency?'\n",
      "Q from CT and MRI of the Whole Body, 2-Volume Set, 6e, Volume I ( PDFDrive ).pdf: 'How can diffusion imaging be utilized in monitoring and predicting treatment response in high-grade tumors?'\n",
      "Q from Application _ RADS - Reporting and Data Systems Support.pdf: 'Can the LI-RADS diagnostic algorithm be used for patients with both cirrhosis and heart failure?'\n",
      "Q from Radiology Illustrated_ Hepatobiliary and Pancreatic Radiology ( PDFDrive ).pdf: 'What are the typical symptoms and imaging findings of Mirizzi syndrome?'\n",
      "Q from CT and MRI of the Whole Body, 2-Volume Set, 6e, Volume I ( PDFDrive ).pdf: 'What diagnostic imaging techniques are discussed for evaluating orbital conditions in the provided passages?'\n",
      "Q from Mayo Clinic Gastrointestinal Imaging Review ( PDFDrive ).pdf: 'What is the final diagnosis for the large hypoattenuating mass found in the left lobe of the liver?'\n",
      "Q from CT and MRI of the Whole Body, 2-Volume Set, 6e, Volume I ( PDFDrive ).pdf: 'How does CSF flow cytometry impact the diagnostic accuracy in CNS hematologic malignancies?'\n",
      "Q from Diagnostic Imaging Genitourinary ( PDFDrive ).pdf: 'What are the differences in prognosis and potential treatment between renal sinus lipomatosis and renal replacement lipomatosis?'\n",
      "Q from CT and MRI of the Whole Body, 2-Volume Set, 6e, Volume I ( PDFDrive ).pdf: 'What are the different types and subtypes of adenocarcinoma and other related lung carcinomas?'\n",
      "Q from Diagnostic Imaging_ Gastrointestinal ( PDFDrive ).pdf: 'What is the most common cause of rectal bleeding in patients over 40 years of age?'\n",
      "Q from CT and MRI of the Whole Body, 2-Volume Set, 6e, Volume I ( PDFDrive ).pdf: 'What diagnostic method is valuable for demonstrating a third or fourth branchial cleft fistula for surgical excision?'\n",
      "Q from CT and MRI of the Whole Body, 2-Volume Set, 6e, Volume I ( PDFDrive ).pdf: 'What are the treatment options for postnatally diagnosed CPAMs in symptomatic infants?'\n",
      "Q from Genitourinary Radiology_ Radiology Requisites Series ( PDFDrive ) (1).pdf: 'What is the main theme or subject of this passage?'\n",
      "Q from Diagnostic Imaging Genitourinary ( PDFDrive ).pdf: 'What imaging findings are observed in the right peripheral zone on T2-weighted MRI for a Stage IIA prostate cancer?'\n",
      "Q from Diagnostic Imaging_ Gastrointestinal ( PDFDrive ).pdf: 'What imaging techniques are used to diagnose pancreas divisum and its complications?'\n",
      "Q from Liver imaging _ MRI with CT correlation ( PDFDrive ).pdf: 'What imaging characteristics are consistent with focal nodular hyperplasia in the described liver lesion?'\n",
      "Q from Diagnostic Imaging_ Gastrointestinal ( PDFDrive ).pdf: 'What initial imaging method is recommended for assessing a pancreas transplant?'\n",
      "Q from Diagnostic Imaging Genitourinary ( PDFDrive ).pdf: 'How do the anterior and posterior pararenal spaces relate to the infrarenal retroperitoneal space?'\n",
      "Q from Diagnostic Imaging_ Gastrointestinal ( PDFDrive ).pdf: 'What are potential causes of pseudocalculus defects in the biliary tree observed during imaging?'\n",
      "Q from Diagnostic Imaging_ Gastrointestinal ( PDFDrive ).pdf: 'What are the clinical implications and risks associated with larger hernias resulting from a congenital mesenteric anomaly?'\n",
      "Q from MRI of the prostate_ a practical approach ( PDFDrive ).pdf: 'What imaging techniques are helpful for detecting subcapsular prostate tumors that may be difficult to identify on T2WI?'\n",
      "Q from Diagnostic Imaging_ Gastrointestinal ( PDFDrive ).pdf: 'What are the potential causes and implications of congenital defects in the posterolateral diaphragm?'\n",
      "Q from CT and MRI of the Whole Body, 2-Volume Set, 6e, Volume I ( PDFDrive ).pdf: 'How does presurgical fMRI mapping benefit patients with brain tumors and epilepsy?'\n",
      "Q from LI-RADS 2018 Core.pdf: 'Where can I download report templates and examples of LI-RADS reports for my practice?'\n",
      "Q from Diagnostic Imaging Genitourinary ( PDFDrive ).pdf: 'What are the most common signs and symptoms of acute pyelonephritis?'\n",
      "Q from CT and MRI of the Whole Body, 2-Volume Set, 6e, Volume I ( PDFDrive ).pdf: 'What are the characteristic MRI findings of a cerebral abscess?'\n",
      "Q from Diagnostic Imaging_ Gastrointestinal ( PDFDrive ).pdf: 'How does the mode of HIV transmission differ between the developing world and the USA?'\n"
     ]
    }
   ],
   "execution_count": 72
  },
  {
   "metadata": {
    "ExecuteTime": {
     "end_time": "2025-05-06T21:10:26.797639Z",
     "start_time": "2025-05-06T21:10:25.074867Z"
    }
   },
   "cell_type": "code",
   "source": [
    "hits = []\n",
    "for item in questions:\n",
    "    docs = retriever.get_relevant_documents(item[\"question\"])\n",
    "    sources = [d.metadata[\"source\"] for d in docs]\n",
    "    hit = item[\"source\"] in sources\n",
    "    hits.append(hit)\n",
    "    print(f\"Retrieved {sources} → Hit: {hit}\")\n",
    "\n",
    "recall_at_5 = sum(hits) / len(hits)\n",
    "print(f\"Recall@5: {recall_at_5:.2f}\")"
   ],
   "id": "a0a72793eb1d827",
   "outputs": [
    {
     "name": "stdout",
     "output_type": "stream",
     "text": [
      "Retrieved ['Diagnostic Imaging_ Gastrointestinal ( PDFDrive ).pdf', 'Diagnostic Imaging_ Gastrointestinal ( PDFDrive ).pdf', 'Diagnostic Imaging_ Gastrointestinal ( PDFDrive ).pdf', 'CT and MRI of the Whole Body, 2-Volume Set, 6e, Volume I ( PDFDrive ).pdf', 'Liver imaging _ MRI with CT correlation ( PDFDrive ).pdf'] → Hit: True\n",
      "Retrieved ['CT and MRI of the Whole Body, 2-Volume Set, 6e, Volume I ( PDFDrive ).pdf', 'CT and MRI of the Whole Body, 2-Volume Set, 6e, Volume I ( PDFDrive ).pdf', 'CT and MRI of the Whole Body, 2-Volume Set, 6e, Volume I ( PDFDrive ).pdf', 'CT and MRI of the Whole Body, 2-Volume Set, 6e, Volume I ( PDFDrive ).pdf', 'CT and MRI of the Whole Body, 2-Volume Set, 6e, Volume I ( PDFDrive ).pdf'] → Hit: True\n",
      "Retrieved ['Gastrointestinal Imaging_ The Requisites (Requisites in Radiology) 3rd ed ( PDFDrive ).pdf', 'Gastrointestinal Imaging_ The Requisites (Requisites in Radiology) 3rd ed ( PDFDrive ).pdf', 'Gastrointestinal Imaging_ The Requisites (Requisites in Radiology) 3rd ed ( PDFDrive ).pdf', 'Gastrointestinal Imaging_ The Requisites (Requisites in Radiology) 3rd ed ( PDFDrive ).pdf', 'Mayo Clinic Gastrointestinal Imaging Review ( PDFDrive ).pdf'] → Hit: True\n",
      "Retrieved ['Diagnostic Imaging_ Gastrointestinal ( PDFDrive ).pdf', 'Radiology Illustrated_ Hepatobiliary and Pancreatic Radiology ( PDFDrive ).pdf', 'Diagnostic Imaging_ Gastrointestinal ( PDFDrive ).pdf', 'Diagnostic Imaging_ Gastrointestinal ( PDFDrive ).pdf', 'Diagnostic Imaging_ Gastrointestinal ( PDFDrive ).pdf'] → Hit: True\n",
      "Retrieved ['CT and MRI of the Whole Body, 2-Volume Set, 6e, Volume I ( PDFDrive ).pdf', 'CT and MRI of the Whole Body, 2-Volume Set, 6e, Volume I ( PDFDrive ).pdf', 'CT and MRI of the Whole Body, 2-Volume Set, 6e, Volume I ( PDFDrive ).pdf', 'CT and MRI of the Whole Body, 2-Volume Set, 6e, Volume I ( PDFDrive ).pdf', 'CT and MRI of the Whole Body, 2-Volume Set, 6e, Volume I ( PDFDrive ).pdf'] → Hit: True\n",
      "Retrieved ['Gastrointestinal Imaging_ The Requisites (Requisites in Radiology) 3rd ed ( PDFDrive ).pdf', 'Mayo Clinic Gastrointestinal Imaging Review ( PDFDrive ).pdf', 'Diagnostic Imaging_ Gastrointestinal ( PDFDrive ).pdf', 'Radiology Illustrated_ Hepatobiliary and Pancreatic Radiology ( PDFDrive ).pdf', 'Mayo Clinic Gastrointestinal Imaging Review ( PDFDrive ).pdf'] → Hit: True\n",
      "Retrieved ['CT and MRI of the Whole Body, 2-Volume Set, 6e, Volume I ( PDFDrive ).pdf', 'CT and MRI of the Whole Body, 2-Volume Set, 6e, Volume I ( PDFDrive ).pdf', 'CT and MRI of the Whole Body, 2-Volume Set, 6e, Volume I ( PDFDrive ).pdf', 'CT and MRI of the Whole Body, 2-Volume Set, 6e, Volume I ( PDFDrive ).pdf', 'CT and MRI of the Whole Body, 2-Volume Set, 6e, Volume I ( PDFDrive ).pdf'] → Hit: True\n",
      "Retrieved ['Radiology Illustrated_ Hepatobiliary and Pancreatic Radiology ( PDFDrive ).pdf', 'Radiology Illustrated_ Hepatobiliary and Pancreatic Radiology ( PDFDrive ).pdf', 'Diagnostic Imaging_ Gastrointestinal ( PDFDrive ).pdf', 'Diagnostic Imaging_ Gastrointestinal ( PDFDrive ).pdf', 'Liver imaging _ MRI with CT correlation ( PDFDrive ).pdf'] → Hit: True\n",
      "Retrieved ['CT and MRI of the Whole Body, 2-Volume Set, 6e, Volume I ( PDFDrive ).pdf', 'CT and MRI of the Whole Body, 2-Volume Set, 6e, Volume I ( PDFDrive ).pdf', 'CT and MRI of the Whole Body, 2-Volume Set, 6e, Volume I ( PDFDrive ).pdf', 'CT and MRI of the Whole Body, 2-Volume Set, 6e, Volume I ( PDFDrive ).pdf', 'CT and MRI of the Whole Body, 2-Volume Set, 6e, Volume I ( PDFDrive ).pdf'] → Hit: True\n",
      "Retrieved ['CT and MRI of the Whole Body, 2-Volume Set, 6e, Volume I ( PDFDrive ).pdf', 'CT and MRI of the Whole Body, 2-Volume Set, 6e, Volume I ( PDFDrive ).pdf', 'CT and MRI of the Whole Body, 2-Volume Set, 6e, Volume I ( PDFDrive ).pdf', 'CT and MRI of the Whole Body, 2-Volume Set, 6e, Volume I ( PDFDrive ).pdf', 'CT and MRI of the Whole Body, 2-Volume Set, 6e, Volume I ( PDFDrive ).pdf'] → Hit: True\n",
      "Retrieved ['Radiology Illustrated_ Hepatobiliary and Pancreatic Radiology ( PDFDrive ).pdf', 'Diagnostic Imaging_ Gastrointestinal ( PDFDrive ).pdf', 'Diagnostic Imaging_ Gastrointestinal ( PDFDrive ).pdf', 'Diagnostic Imaging_ Gastrointestinal ( PDFDrive ).pdf', 'Diagnostic Imaging_ Gastrointestinal ( PDFDrive ).pdf'] → Hit: True\n",
      "Retrieved ['CT and MRI of the Whole Body, 2-Volume Set, 6e, Volume I ( PDFDrive ).pdf', 'CT and MRI of the Whole Body, 2-Volume Set, 6e, Volume I ( PDFDrive ).pdf', 'CT and MRI of the Whole Body, 2-Volume Set, 6e, Volume I ( PDFDrive ).pdf', 'CT and MRI of the Whole Body, 2-Volume Set, 6e, Volume I ( PDFDrive ).pdf', 'CT and MRI of the Whole Body, 2-Volume Set, 6e, Volume I ( PDFDrive ).pdf'] → Hit: True\n",
      "Retrieved ['Diagnostic Imaging Genitourinary ( PDFDrive ).pdf', 'Diagnostic Imaging Genitourinary ( PDFDrive ).pdf', 'Diagnostic Imaging Genitourinary ( PDFDrive ).pdf', 'Diagnostic Imaging Genitourinary ( PDFDrive ).pdf', 'Diagnostic Imaging Genitourinary ( PDFDrive ).pdf'] → Hit: True\n",
      "Retrieved ['Radiology Illustrated_ Hepatobiliary and Pancreatic Radiology ( PDFDrive ).pdf', 'RoleofMRIinEvaluationofSpectrumofLiverLesionsinCirrhoticPatients-JAPI.pdf', 'Diagnostic Imaging_ Gastrointestinal ( PDFDrive ).pdf', 'RoleofMRIinEvaluationofSpectrumofLiverLesionsinCirrhoticPatients-JAPI.pdf', 'Mayo Clinic Gastrointestinal Imaging Review ( PDFDrive ).pdf'] → Hit: True\n",
      "Retrieved ['CT and MRI of the Whole Body, 2-Volume Set, 6e, Volume I ( PDFDrive ).pdf', 'CT and MRI of the Whole Body, 2-Volume Set, 6e, Volume I ( PDFDrive ).pdf', 'CT and MRI of the Whole Body, 2-Volume Set, 6e, Volume I ( PDFDrive ).pdf', 'CT and MRI of the Whole Body, 2-Volume Set, 6e, Volume I ( PDFDrive ).pdf', 'CT and MRI of the Whole Body, 2-Volume Set, 6e, Volume I ( PDFDrive ).pdf'] → Hit: True\n",
      "Retrieved ['Gastrointestinal Imaging_ The Requisites (Requisites in Radiology) 3rd ed ( PDFDrive ).pdf', 'Diagnostic Imaging_ Gastrointestinal ( PDFDrive ).pdf', 'Liver imaging _ MRI with CT correlation ( PDFDrive ).pdf', 'Diagnostic Imaging_ Gastrointestinal ( PDFDrive ).pdf', 'Liver imaging _ MRI with CT correlation ( PDFDrive ).pdf'] → Hit: True\n",
      "Retrieved ['Diagnostic Imaging_ Gastrointestinal ( PDFDrive ).pdf', 'WJH-13-1936.pdf', 'fujita-et-al-2019-hyperintense-liver-masses-at-hepatobiliary-phase-gadoxetic-acid-enhanced-mri-imaging-appearances-and.pdf', 'an-et-al-2020-abbreviated-mri-for-hepatocellular-carcinoma-screening-and-surveillance.pdf', 'Liver imaging _ MRI with CT correlation ( PDFDrive ).pdf'] → Hit: True\n",
      "Retrieved ['LI-RADS US Surveillance v2024 Core.pdf', 'Liver imaging _ MRI with CT correlation ( PDFDrive ).pdf', 'Liver imaging _ MRI with CT correlation ( PDFDrive ).pdf', 'Liver imaging _ MRI with CT correlation ( PDFDrive ).pdf', 'Liver imaging _ MRI with CT correlation ( PDFDrive ).pdf'] → Hit: True\n",
      "Retrieved ['Liver imaging _ MRI with CT correlation ( PDFDrive ).pdf', 'Liver imaging _ MRI with CT correlation ( PDFDrive ).pdf', 'Liver imaging _ MRI with CT correlation ( PDFDrive ).pdf', 'Liver imaging _ MRI with CT correlation ( PDFDrive ).pdf', 'Liver imaging _ MRI with CT correlation ( PDFDrive ).pdf'] → Hit: True\n",
      "Retrieved ['Gastrointestinal Imaging_ The Requisites (Requisites in Radiology) 3rd ed ( PDFDrive ).pdf', 'Gastrointestinal Imaging_ The Requisites (Requisites in Radiology) 3rd ed ( PDFDrive ).pdf', 'Mayo Clinic Gastrointestinal Imaging Review ( PDFDrive ).pdf', 'Diagnostic Imaging_ Gastrointestinal ( PDFDrive ).pdf', 'Gastrointestinal Imaging_ The Requisites (Requisites in Radiology) 3rd ed ( PDFDrive ).pdf'] → Hit: True\n",
      "Retrieved ['CT and MRI of the Whole Body, 2-Volume Set, 6e, Volume I ( PDFDrive ).pdf', 'CT and MRI of the Whole Body, 2-Volume Set, 6e, Volume I ( PDFDrive ).pdf', 'CT and MRI of the Whole Body, 2-Volume Set, 6e, Volume I ( PDFDrive ).pdf', 'CT and MRI of the Whole Body, 2-Volume Set, 6e, Volume I ( PDFDrive ).pdf', 'CT and MRI of the Whole Body, 2-Volume Set, 6e, Volume I ( PDFDrive ).pdf'] → Hit: True\n",
      "Retrieved ['CT and MRI of the Whole Body, 2-Volume Set, 6e, Volume I ( PDFDrive ).pdf', 'Diagnostic Imaging Genitourinary ( PDFDrive ).pdf', 'CT and MRI of the Whole Body, 2-Volume Set, 6e, Volume I ( PDFDrive ).pdf', 'CT and MRI of the Whole Body, 2-Volume Set, 6e, Volume I ( PDFDrive ).pdf', 'Radiology Illustrated_ Hepatobiliary and Pancreatic Radiology ( PDFDrive ).pdf'] → Hit: False\n",
      "Retrieved ['Radiology Illustrated_ Hepatobiliary and Pancreatic Radiology ( PDFDrive ).pdf', 'Radiology Illustrated_ Hepatobiliary and Pancreatic Radiology ( PDFDrive ).pdf', 'Radiology Illustrated_ Hepatobiliary and Pancreatic Radiology ( PDFDrive ).pdf', 'Radiology Illustrated_ Hepatobiliary and Pancreatic Radiology ( PDFDrive ).pdf', 'Radiology Illustrated_ Hepatobiliary and Pancreatic Radiology ( PDFDrive ).pdf'] → Hit: True\n",
      "Retrieved ['Diagnostic Imaging_ Gastrointestinal ( PDFDrive ).pdf', 'Diagnostic Imaging_ Gastrointestinal ( PDFDrive ).pdf', 'Diagnostic Imaging_ Gastrointestinal ( PDFDrive ).pdf', 'Gastrointestinal Imaging_ The Requisites (Requisites in Radiology) 3rd ed ( PDFDrive ).pdf', 'Diagnostic Imaging_ Gastrointestinal ( PDFDrive ).pdf'] → Hit: True\n",
      "Retrieved ['Diagnostic Imaging_ Gastrointestinal ( PDFDrive ).pdf', 'Diagnostic Imaging_ Gastrointestinal ( PDFDrive ).pdf', 'Gastrointestinal Imaging_ The Requisites (Requisites in Radiology) 3rd ed ( PDFDrive ).pdf', 'Diagnostic Imaging Genitourinary ( PDFDrive ).pdf', 'CT and MRI of the Whole Body, 2-Volume Set, 6e, Volume I ( PDFDrive ).pdf'] → Hit: True\n",
      "Retrieved ['CT and MRI of the Whole Body, 2-Volume Set, 6e, Volume I ( PDFDrive ).pdf', 'CT and MRI of the Whole Body, 2-Volume Set, 6e, Volume I ( PDFDrive ).pdf', 'Diagnostic Imaging_ Gastrointestinal ( PDFDrive ).pdf', 'CT and MRI of the Whole Body, 2-Volume Set, 6e, Volume I ( PDFDrive ).pdf', 'CT and MRI of the Whole Body, 2-Volume Set, 6e, Volume I ( PDFDrive ).pdf'] → Hit: True\n",
      "Retrieved ['CT and MRI of the Whole Body, 2-Volume Set, 6e, Volume I ( PDFDrive ).pdf', 'CT and MRI of the Whole Body, 2-Volume Set, 6e, Volume I ( PDFDrive ).pdf', 'CT and MRI of the Whole Body, 2-Volume Set, 6e, Volume I ( PDFDrive ).pdf', 'CT and MRI of the Whole Body, 2-Volume Set, 6e, Volume I ( PDFDrive ).pdf', 'Diagnostic Imaging_ Gastrointestinal ( PDFDrive ).pdf'] → Hit: True\n",
      "Retrieved ['Diagnostic Imaging_ Gastrointestinal ( PDFDrive ).pdf', 'Gastrointestinal Imaging_ The Requisites (Requisites in Radiology) 3rd ed ( PDFDrive ).pdf', 'Diagnostic Imaging_ Gastrointestinal ( PDFDrive ).pdf', 'Diagnostic Imaging_ Gastrointestinal ( PDFDrive ).pdf', 'Diagnostic Imaging_ Gastrointestinal ( PDFDrive ).pdf'] → Hit: True\n",
      "Retrieved ['Mayo Clinic Gastrointestinal Imaging Review ( PDFDrive ).pdf', 'Diagnostic Imaging_ Gastrointestinal ( PDFDrive ).pdf', 'Diagnostic Imaging_ Gastrointestinal ( PDFDrive ).pdf', 'Diagnostic Imaging_ Gastrointestinal ( PDFDrive ).pdf', 'Diagnostic Imaging Genitourinary ( PDFDrive ).pdf'] → Hit: True\n",
      "Retrieved ['fujita-et-al-2019-hyperintense-liver-masses-at-hepatobiliary-phase-gadoxetic-acid-enhanced-mri-imaging-appearances-and.pdf', 'fujita-et-al-2019-hyperintense-liver-masses-at-hepatobiliary-phase-gadoxetic-acid-enhanced-mri-imaging-appearances-and.pdf', 'fujita-et-al-2019-hyperintense-liver-masses-at-hepatobiliary-phase-gadoxetic-acid-enhanced-mri-imaging-appearances-and.pdf', 'fujita-et-al-2019-hyperintense-liver-masses-at-hepatobiliary-phase-gadoxetic-acid-enhanced-mri-imaging-appearances-and.pdf', 'fujita-et-al-2019-hyperintense-liver-masses-at-hepatobiliary-phase-gadoxetic-acid-enhanced-mri-imaging-appearances-and.pdf'] → Hit: True\n",
      "Retrieved ['Diagnostic Imaging_ Gastrointestinal ( PDFDrive ).pdf', 'Gastrointestinal Imaging_ The Requisites (Requisites in Radiology) 3rd ed ( PDFDrive ).pdf', 'Radiology Illustrated_ Hepatobiliary and Pancreatic Radiology ( PDFDrive ).pdf', 'Gastrointestinal Imaging_ The Requisites (Requisites in Radiology) 3rd ed ( PDFDrive ).pdf', 'Diagnostic Imaging_ Gastrointestinal ( PDFDrive ).pdf'] → Hit: True\n",
      "Retrieved ['MRI of the prostate_ a practical approach ( PDFDrive ).pdf', 'MRI of the prostate_ a practical approach ( PDFDrive ).pdf', 'MRI of the prostate_ a practical approach ( PDFDrive ).pdf', 'MRI of the prostate_ a practical approach ( PDFDrive ).pdf', 'MRI of the prostate_ a practical approach ( PDFDrive ).pdf'] → Hit: False\n",
      "Retrieved ['Radiology Illustrated_ Hepatobiliary and Pancreatic Radiology ( PDFDrive ).pdf', 'Radiology Illustrated_ Hepatobiliary and Pancreatic Radiology ( PDFDrive ).pdf', 'Diagnostic Imaging_ Gastrointestinal ( PDFDrive ).pdf', 'Radiology Illustrated_ Hepatobiliary and Pancreatic Radiology ( PDFDrive ).pdf', 'Liver imaging _ MRI with CT correlation ( PDFDrive ).pdf'] → Hit: True\n",
      "Retrieved ['CT and MRI of the Whole Body, 2-Volume Set, 6e, Volume I ( PDFDrive ).pdf', 'CT and MRI of the Whole Body, 2-Volume Set, 6e, Volume I ( PDFDrive ).pdf', 'CT and MRI of the Whole Body, 2-Volume Set, 6e, Volume I ( PDFDrive ).pdf', 'CT and MRI of the Whole Body, 2-Volume Set, 6e, Volume I ( PDFDrive ).pdf', 'CT and MRI of the Whole Body, 2-Volume Set, 6e, Volume I ( PDFDrive ).pdf'] → Hit: True\n",
      "Retrieved ['CT and MRI of the Whole Body, 2-Volume Set, 6e, Volume I ( PDFDrive ).pdf', 'Mayo Clinic Gastrointestinal Imaging Review ( PDFDrive ).pdf', 'Diagnostic Imaging_ Gastrointestinal ( PDFDrive ).pdf', 'Diagnostic Imaging_ Gastrointestinal ( PDFDrive ).pdf', 'Diagnostic Imaging_ Gastrointestinal ( PDFDrive ).pdf'] → Hit: True\n",
      "Retrieved ['Diagnostic Imaging_ Gastrointestinal ( PDFDrive ).pdf', 'Diagnostic Imaging_ Gastrointestinal ( PDFDrive ).pdf', 'Diagnostic Imaging_ Gastrointestinal ( PDFDrive ).pdf', 'Diagnostic Imaging_ Gastrointestinal ( PDFDrive ).pdf', 'Gastrointestinal Imaging_ The Requisites (Requisites in Radiology) 3rd ed ( PDFDrive ).pdf'] → Hit: True\n",
      "Retrieved ['Diagnostic Imaging Genitourinary ( PDFDrive ).pdf', 'Diagnostic Imaging Genitourinary ( PDFDrive ).pdf', 'Diagnostic Imaging Genitourinary ( PDFDrive ).pdf', 'Diagnostic Imaging Genitourinary ( PDFDrive ).pdf', 'Diagnostic Imaging Genitourinary ( PDFDrive ).pdf'] → Hit: True\n",
      "Retrieved ['CT and MRI of the Whole Body, 2-Volume Set, 6e, Volume I ( PDFDrive ).pdf', 'Diagnostic Imaging Genitourinary ( PDFDrive ).pdf', 'LIRADS Lexicon Table.pdf', 'Diagnostic Imaging_ Gastrointestinal ( PDFDrive ).pdf', 'CT and MRI of the Whole Body, 2-Volume Set, 6e, Volume I ( PDFDrive ).pdf'] → Hit: True\n",
      "Retrieved ['CT and MRI of the Whole Body, 2-Volume Set, 6e, Volume I ( PDFDrive ).pdf', 'CT and MRI of the Whole Body, 2-Volume Set, 6e, Volume I ( PDFDrive ).pdf', 'CT and MRI of the Whole Body, 2-Volume Set, 6e, Volume I ( PDFDrive ).pdf', 'CT and MRI of the Whole Body, 2-Volume Set, 6e, Volume I ( PDFDrive ).pdf', 'CT and MRI of the Whole Body, 2-Volume Set, 6e, Volume I ( PDFDrive ).pdf'] → Hit: True\n",
      "Retrieved ['Gastrointestinal Imaging_ The Requisites (Requisites in Radiology) 3rd ed ( PDFDrive ).pdf', 'Mayo Clinic Gastrointestinal Imaging Review ( PDFDrive ).pdf', 'Gastrointestinal Imaging_ The Requisites (Requisites in Radiology) 3rd ed ( PDFDrive ).pdf', 'CT and MRI of the Whole Body, 2-Volume Set, 6e, Volume I ( PDFDrive ).pdf', 'Diagnostic Imaging_ Gastrointestinal ( PDFDrive ).pdf'] → Hit: True\n",
      "Retrieved ['CT and MRI of the Whole Body, 2-Volume Set, 6e, Volume I ( PDFDrive ).pdf', 'CT and MRI of the Whole Body, 2-Volume Set, 6e, Volume I ( PDFDrive ).pdf', 'CT and MRI of the Whole Body, 2-Volume Set, 6e, Volume I ( PDFDrive ).pdf', 'CT and MRI of the Whole Body, 2-Volume Set, 6e, Volume I ( PDFDrive ).pdf', 'CT and MRI of the Whole Body, 2-Volume Set, 6e, Volume I ( PDFDrive ).pdf'] → Hit: True\n",
      "Retrieved ['LIRADS Lexicon Table.pdf', 'Radiology Illustrated_ Hepatobiliary and Pancreatic Radiology ( PDFDrive ).pdf', 'Liver imaging _ MRI with CT correlation ( PDFDrive ).pdf', 'LIRADS Lexicon Table.pdf', 'Liver imaging _ MRI with CT correlation ( PDFDrive ).pdf'] → Hit: True\n",
      "Retrieved ['Diagnostic Imaging_ Gastrointestinal ( PDFDrive ).pdf', 'Diagnostic Imaging_ Gastrointestinal ( PDFDrive ).pdf', 'Diagnostic Imaging_ Gastrointestinal ( PDFDrive ).pdf', 'Diagnostic Imaging_ Gastrointestinal ( PDFDrive ).pdf', 'Diagnostic Imaging_ Gastrointestinal ( PDFDrive ).pdf'] → Hit: True\n",
      "Retrieved ['CT and MRI of the Whole Body, 2-Volume Set, 6e, Volume I ( PDFDrive ).pdf', 'CT and MRI of the Whole Body, 2-Volume Set, 6e, Volume I ( PDFDrive ).pdf', 'CT and MRI of the Whole Body, 2-Volume Set, 6e, Volume I ( PDFDrive ).pdf', 'CT and MRI of the Whole Body, 2-Volume Set, 6e, Volume I ( PDFDrive ).pdf', 'CT and MRI of the Whole Body, 2-Volume Set, 6e, Volume I ( PDFDrive ).pdf'] → Hit: True\n",
      "Retrieved ['CT and MRI of the Whole Body, 2-Volume Set, 6e, Volume I ( PDFDrive ).pdf', 'CT and MRI of the Whole Body, 2-Volume Set, 6e, Volume I ( PDFDrive ).pdf', 'CT and MRI of the Whole Body, 2-Volume Set, 6e, Volume I ( PDFDrive ).pdf', 'CT and MRI of the Whole Body, 2-Volume Set, 6e, Volume I ( PDFDrive ).pdf', 'CT and MRI of the Whole Body, 2-Volume Set, 6e, Volume I ( PDFDrive ).pdf'] → Hit: False\n",
      "Retrieved ['Diagnostic Imaging_ Gastrointestinal ( PDFDrive ).pdf', 'Radiology Illustrated_ Hepatobiliary and Pancreatic Radiology ( PDFDrive ).pdf', 'Diagnostic Imaging_ Gastrointestinal ( PDFDrive ).pdf', 'Diagnostic Imaging_ Gastrointestinal ( PDFDrive ).pdf', 'Radiology Illustrated_ Hepatobiliary and Pancreatic Radiology ( PDFDrive ).pdf'] → Hit: True\n",
      "Retrieved ['Diagnostic Imaging_ Gastrointestinal ( PDFDrive ).pdf', 'Diagnostic Imaging_ Gastrointestinal ( PDFDrive ).pdf', 'Diagnostic Imaging_ Gastrointestinal ( PDFDrive ).pdf', 'Diagnostic Imaging_ Gastrointestinal ( PDFDrive ).pdf', 'CT and MRI of the Whole Body, 2-Volume Set, 6e, Volume I ( PDFDrive ).pdf'] → Hit: True\n",
      "Retrieved ['LIRADS Lexicon Table.pdf', 'LI-RADS 2018 Core.pdf', 'LIRADS Lexicon Table.pdf', 'LIRADS Lexicon Table.pdf', 'LI-RADS 2018 Core.pdf'] → Hit: True\n",
      "Retrieved ['Diagnostic Imaging_ Gastrointestinal ( PDFDrive ).pdf', 'Radiology Illustrated_ Hepatobiliary and Pancreatic Radiology ( PDFDrive ).pdf', 'Radiology Illustrated_ Hepatobiliary and Pancreatic Radiology ( PDFDrive ).pdf', 'Radiology Illustrated_ Hepatobiliary and Pancreatic Radiology ( PDFDrive ).pdf', 'Mayo Clinic Gastrointestinal Imaging Review ( PDFDrive ).pdf'] → Hit: True\n",
      "Retrieved ['WJH-13-1936.pdf', 'Liver imaging _ MRI with CT correlation ( PDFDrive ).pdf', 'Liver imaging _ MRI with CT correlation ( PDFDrive ).pdf', 'Liver imaging _ MRI with CT correlation ( PDFDrive ).pdf', 'Liver imaging _ MRI with CT correlation ( PDFDrive ).pdf'] → Hit: True\n",
      "Retrieved ['CT and MRI of the Whole Body, 2-Volume Set, 6e, Volume I ( PDFDrive ).pdf', 'CT and MRI of the Whole Body, 2-Volume Set, 6e, Volume I ( PDFDrive ).pdf', 'CT and MRI of the Whole Body, 2-Volume Set, 6e, Volume I ( PDFDrive ).pdf', 'Liver imaging _ MRI with CT correlation ( PDFDrive ).pdf', 'CT and MRI of the Whole Body, 2-Volume Set, 6e, Volume I ( PDFDrive ).pdf'] → Hit: True\n",
      "Retrieved ['Radiology Illustrated_ Hepatobiliary and Pancreatic Radiology ( PDFDrive ).pdf', 'Radiology Illustrated_ Hepatobiliary and Pancreatic Radiology ( PDFDrive ).pdf', 'Radiology Illustrated_ Hepatobiliary and Pancreatic Radiology ( PDFDrive ).pdf', 'Radiology Illustrated_ Hepatobiliary and Pancreatic Radiology ( PDFDrive ).pdf', 'Liver imaging _ MRI with CT correlation ( PDFDrive ).pdf'] → Hit: True\n",
      "Retrieved ['CT and MRI of the Whole Body, 2-Volume Set, 6e, Volume I ( PDFDrive ).pdf', 'CT and MRI of the Whole Body, 2-Volume Set, 6e, Volume I ( PDFDrive ).pdf', 'CT and MRI of the Whole Body, 2-Volume Set, 6e, Volume I ( PDFDrive ).pdf', 'CT and MRI of the Whole Body, 2-Volume Set, 6e, Volume I ( PDFDrive ).pdf', 'CT and MRI of the Whole Body, 2-Volume Set, 6e, Volume I ( PDFDrive ).pdf'] → Hit: True\n",
      "Retrieved ['CT and MRI of the Whole Body, 2-Volume Set, 6e, Volume I ( PDFDrive ).pdf', 'CT and MRI of the Whole Body, 2-Volume Set, 6e, Volume I ( PDFDrive ).pdf', 'CT and MRI of the Whole Body, 2-Volume Set, 6e, Volume I ( PDFDrive ).pdf', 'Diagnostic Imaging_ Gastrointestinal ( PDFDrive ).pdf', 'CT and MRI of the Whole Body, 2-Volume Set, 6e, Volume I ( PDFDrive ).pdf'] → Hit: True\n",
      "Retrieved ['Diagnostic Imaging_ Gastrointestinal ( PDFDrive ).pdf', 'Diagnostic Imaging_ Gastrointestinal ( PDFDrive ).pdf', 'Diagnostic Imaging_ Gastrointestinal ( PDFDrive ).pdf', 'Diagnostic Imaging_ Gastrointestinal ( PDFDrive ).pdf', 'Diagnostic Imaging_ Gastrointestinal ( PDFDrive ).pdf'] → Hit: True\n",
      "Retrieved ['Diagnostic Imaging Genitourinary ( PDFDrive ).pdf', 'Diagnostic Imaging Genitourinary ( PDFDrive ).pdf', 'Diagnostic Imaging Genitourinary ( PDFDrive ).pdf', 'Diagnostic Imaging Genitourinary ( PDFDrive ).pdf', 'Diagnostic Imaging Genitourinary ( PDFDrive ).pdf'] → Hit: True\n",
      "Retrieved ['Liver imaging _ MRI with CT correlation ( PDFDrive ).pdf', 'Liver imaging _ MRI with CT correlation ( PDFDrive ).pdf', 'Liver imaging _ MRI with CT correlation ( PDFDrive ).pdf', 'Liver imaging _ MRI with CT correlation ( PDFDrive ).pdf', 'Gastrointestinal Imaging_ The Requisites (Requisites in Radiology) 3rd ed ( PDFDrive ).pdf'] → Hit: True\n",
      "Retrieved ['Diagnostic Imaging_ Gastrointestinal ( PDFDrive ).pdf', 'MRI of the prostate_ a practical approach ( PDFDrive ).pdf', 'CT and MRI of the Whole Body, 2-Volume Set, 6e, Volume I ( PDFDrive ).pdf', 'LI-RADS US Surveillance v2024 Core.pdf', 'Radiology Illustrated_ Hepatobiliary and Pancreatic Radiology ( PDFDrive ).pdf'] → Hit: True\n",
      "Retrieved ['CT and MRI of the Whole Body, 2-Volume Set, 6e, Volume I ( PDFDrive ).pdf', 'CT and MRI of the Whole Body, 2-Volume Set, 6e, Volume I ( PDFDrive ).pdf', 'CT and MRI of the Whole Body, 2-Volume Set, 6e, Volume I ( PDFDrive ).pdf', 'CT and MRI of the Whole Body, 2-Volume Set, 6e, Volume I ( PDFDrive ).pdf', 'CT and MRI of the Whole Body, 2-Volume Set, 6e, Volume I ( PDFDrive ).pdf'] → Hit: True\n",
      "Retrieved ['Diagnostic Imaging_ Gastrointestinal ( PDFDrive ).pdf', 'Diagnostic Imaging_ Gastrointestinal ( PDFDrive ).pdf', 'Diagnostic Imaging_ Gastrointestinal ( PDFDrive ).pdf', 'Diagnostic Imaging_ Gastrointestinal ( PDFDrive ).pdf', 'Diagnostic Imaging_ Gastrointestinal ( PDFDrive ).pdf'] → Hit: True\n",
      "Retrieved ['Diagnostic Imaging Genitourinary ( PDFDrive ).pdf', 'Diagnostic Imaging Genitourinary ( PDFDrive ).pdf', 'Diagnostic Imaging Genitourinary ( PDFDrive ).pdf', 'Diagnostic Imaging Genitourinary ( PDFDrive ).pdf', 'Diagnostic Imaging Genitourinary ( PDFDrive ).pdf'] → Hit: True\n",
      "Retrieved ['Liver imaging _ MRI with CT correlation ( PDFDrive ).pdf', 'Radiology Illustrated_ Hepatobiliary and Pancreatic Radiology ( PDFDrive ).pdf', 'Radiology Illustrated_ Hepatobiliary and Pancreatic Radiology ( PDFDrive ).pdf', 'Radiology Illustrated_ Hepatobiliary and Pancreatic Radiology ( PDFDrive ).pdf', 'Radiology Illustrated_ Hepatobiliary and Pancreatic Radiology ( PDFDrive ).pdf'] → Hit: True\n",
      "Retrieved ['Radiology Illustrated_ Hepatobiliary and Pancreatic Radiology ( PDFDrive ).pdf', 'Diagnostic Imaging_ Gastrointestinal ( PDFDrive ).pdf', 'Diagnostic Imaging_ Gastrointestinal ( PDFDrive ).pdf', 'Radiology Illustrated_ Hepatobiliary and Pancreatic Radiology ( PDFDrive ).pdf', 'Liver imaging _ MRI with CT correlation ( PDFDrive ).pdf'] → Hit: True\n",
      "Retrieved ['Mayo Clinic Gastrointestinal Imaging Review ( PDFDrive ).pdf', 'Gastrointestinal Imaging_ The Requisites (Requisites in Radiology) 3rd ed ( PDFDrive ).pdf', 'Gastrointestinal Imaging_ The Requisites (Requisites in Radiology) 3rd ed ( PDFDrive ).pdf', 'Gastrointestinal Imaging_ The Requisites (Requisites in Radiology) 3rd ed ( PDFDrive ).pdf', 'Gastrointestinal Imaging_ The Requisites (Requisites in Radiology) 3rd ed ( PDFDrive ).pdf'] → Hit: False\n",
      "Retrieved ['Mayo Clinic Gastrointestinal Imaging Review ( PDFDrive ).pdf', 'Gastrointestinal Imaging_ The Requisites (Requisites in Radiology) 3rd ed ( PDFDrive ).pdf', 'Mayo Clinic Gastrointestinal Imaging Review ( PDFDrive ).pdf', 'Mayo Clinic Gastrointestinal Imaging Review ( PDFDrive ).pdf', 'Diagnostic Imaging_ Gastrointestinal ( PDFDrive ).pdf'] → Hit: True\n",
      "Retrieved ['LIRADS Lexicon Table.pdf', 'Gastrointestinal Imaging_ The Requisites (Requisites in Radiology) 3rd ed ( PDFDrive ).pdf', 'LIRADS Lexicon Table.pdf', 'LIRADS Lexicon Table.pdf', 'Mayo Clinic Gastrointestinal Imaging Review ( PDFDrive ).pdf'] → Hit: True\n",
      "Retrieved ['Diagnostic Imaging_ Gastrointestinal ( PDFDrive ).pdf', 'Diagnostic Imaging_ Gastrointestinal ( PDFDrive ).pdf', 'Mayo Clinic Gastrointestinal Imaging Review ( PDFDrive ).pdf', 'Gastrointestinal Imaging_ The Requisites (Requisites in Radiology) 3rd ed ( PDFDrive ).pdf', 'Liver imaging _ MRI with CT correlation ( PDFDrive ).pdf'] → Hit: True\n",
      "Retrieved ['CT and MRI of the Whole Body, 2-Volume Set, 6e, Volume I ( PDFDrive ).pdf', 'CT and MRI of the Whole Body, 2-Volume Set, 6e, Volume I ( PDFDrive ).pdf', 'CT and MRI of the Whole Body, 2-Volume Set, 6e, Volume I ( PDFDrive ).pdf', 'CT and MRI of the Whole Body, 2-Volume Set, 6e, Volume I ( PDFDrive ).pdf', 'CT and MRI of the Whole Body, 2-Volume Set, 6e, Volume I ( PDFDrive ).pdf'] → Hit: False\n",
      "Retrieved ['Liver imaging _ MRI with CT correlation ( PDFDrive ).pdf', 'MRI of the prostate_ a practical approach ( PDFDrive ).pdf', 'CT and MRI of the Whole Body, 2-Volume Set, 6e, Volume I ( PDFDrive ).pdf', 'Liver imaging _ MRI with CT correlation ( PDFDrive ).pdf', 'Liver imaging _ MRI with CT correlation ( PDFDrive ).pdf'] → Hit: False\n",
      "Retrieved ['Mayo Clinic Gastrointestinal Imaging Review ( PDFDrive ).pdf', 'Gastrointestinal Imaging_ The Requisites (Requisites in Radiology) 3rd ed ( PDFDrive ).pdf', 'Gastrointestinal Imaging_ The Requisites (Requisites in Radiology) 3rd ed ( PDFDrive ).pdf', 'Diagnostic Imaging_ Gastrointestinal ( PDFDrive ).pdf', 'Mayo Clinic Gastrointestinal Imaging Review ( PDFDrive ).pdf'] → Hit: True\n",
      "Retrieved ['Diagnostic Imaging_ Gastrointestinal ( PDFDrive ).pdf', 'Gastrointestinal Imaging_ The Requisites (Requisites in Radiology) 3rd ed ( PDFDrive ).pdf', 'Gastrointestinal Imaging_ The Requisites (Requisites in Radiology) 3rd ed ( PDFDrive ).pdf', 'Diagnostic Imaging_ Gastrointestinal ( PDFDrive ).pdf', 'Gastrointestinal Imaging_ The Requisites (Requisites in Radiology) 3rd ed ( PDFDrive ).pdf'] → Hit: True\n",
      "Retrieved ['Gastrointestinal Imaging_ The Requisites (Requisites in Radiology) 3rd ed ( PDFDrive ).pdf', 'Gastrointestinal Imaging_ The Requisites (Requisites in Radiology) 3rd ed ( PDFDrive ).pdf', 'Gastrointestinal Imaging_ The Requisites (Requisites in Radiology) 3rd ed ( PDFDrive ).pdf', 'Gastrointestinal Imaging_ The Requisites (Requisites in Radiology) 3rd ed ( PDFDrive ).pdf', 'Mayo Clinic Gastrointestinal Imaging Review ( PDFDrive ).pdf'] → Hit: True\n",
      "Retrieved ['CT and MRI of the Whole Body, 2-Volume Set, 6e, Volume I ( PDFDrive ).pdf', 'CT and MRI of the Whole Body, 2-Volume Set, 6e, Volume I ( PDFDrive ).pdf', 'CT and MRI of the Whole Body, 2-Volume Set, 6e, Volume I ( PDFDrive ).pdf', 'CT and MRI of the Whole Body, 2-Volume Set, 6e, Volume I ( PDFDrive ).pdf', 'CT and MRI of the Whole Body, 2-Volume Set, 6e, Volume I ( PDFDrive ).pdf'] → Hit: True\n",
      "Retrieved ['Diagnostic Imaging Genitourinary ( PDFDrive ).pdf', 'Diagnostic Imaging Genitourinary ( PDFDrive ).pdf', 'Diagnostic Imaging Genitourinary ( PDFDrive ).pdf', 'Diagnostic Imaging Genitourinary ( PDFDrive ).pdf', 'Diagnostic Imaging Genitourinary ( PDFDrive ).pdf'] → Hit: True\n",
      "Retrieved ['CT and MRI of the Whole Body, 2-Volume Set, 6e, Volume I ( PDFDrive ).pdf', 'CT and MRI of the Whole Body, 2-Volume Set, 6e, Volume I ( PDFDrive ).pdf', 'LI-RADS 2018 Core.pdf', 'Diagnostic Imaging Genitourinary ( PDFDrive ).pdf', 'LI-RADS 2018 Core.pdf'] → Hit: True\n",
      "Retrieved ['Application _ RADS - Reporting and Data Systems Support.pdf', 'LI-RADS 2018 Core.pdf', 'Application _ RADS - Reporting and Data Systems Support.pdf', 'Application _ RADS - Reporting and Data Systems Support.pdf', 'm-cunha-et-al-2021-how-to-use-li-rads-to-report-liver-ct-and-mri-observations.pdf'] → Hit: True\n",
      "Retrieved ['Diagnostic Imaging Genitourinary ( PDFDrive ).pdf', 'CT and MRI of the Whole Body, 2-Volume Set, 6e, Volume I ( PDFDrive ).pdf', 'Mayo Clinic Gastrointestinal Imaging Review ( PDFDrive ).pdf', 'Liver imaging _ MRI with CT correlation ( PDFDrive ).pdf', 'CT and MRI of the Whole Body, 2-Volume Set, 6e, Volume I ( PDFDrive ).pdf'] → Hit: False\n",
      "Retrieved ['CT and MRI of the Whole Body, 2-Volume Set, 6e, Volume I ( PDFDrive ).pdf', 'Liver imaging _ MRI with CT correlation ( PDFDrive ).pdf', 'CT and MRI of the Whole Body, 2-Volume Set, 6e, Volume I ( PDFDrive ).pdf', 'Gastrointestinal Imaging_ The Requisites (Requisites in Radiology) 3rd ed ( PDFDrive ).pdf', 'CT and MRI of the Whole Body, 2-Volume Set, 6e, Volume I ( PDFDrive ).pdf'] → Hit: True\n",
      "Retrieved ['Diagnostic Imaging_ Gastrointestinal ( PDFDrive ).pdf', 'Diagnostic Imaging_ Gastrointestinal ( PDFDrive ).pdf', 'Mayo Clinic Gastrointestinal Imaging Review ( PDFDrive ).pdf', 'Mayo Clinic Gastrointestinal Imaging Review ( PDFDrive ).pdf', 'Diagnostic Imaging_ Gastrointestinal ( PDFDrive ).pdf'] → Hit: True\n",
      "Retrieved ['CT and MRI of the Whole Body, 2-Volume Set, 6e, Volume I ( PDFDrive ).pdf', 'CT and MRI of the Whole Body, 2-Volume Set, 6e, Volume I ( PDFDrive ).pdf', 'CT and MRI of the Whole Body, 2-Volume Set, 6e, Volume I ( PDFDrive ).pdf', 'CT and MRI of the Whole Body, 2-Volume Set, 6e, Volume I ( PDFDrive ).pdf', 'CT and MRI of the Whole Body, 2-Volume Set, 6e, Volume I ( PDFDrive ).pdf'] → Hit: True\n",
      "Retrieved ['Diagnostic Imaging Genitourinary ( PDFDrive ).pdf', 'Diagnostic Imaging Genitourinary ( PDFDrive ).pdf', 'Diagnostic Imaging Genitourinary ( PDFDrive ).pdf', 'Diagnostic Imaging Genitourinary ( PDFDrive ).pdf', 'Diagnostic Imaging Genitourinary ( PDFDrive ).pdf'] → Hit: True\n",
      "Retrieved ['CT and MRI of the Whole Body, 2-Volume Set, 6e, Volume I ( PDFDrive ).pdf', 'CT and MRI of the Whole Body, 2-Volume Set, 6e, Volume I ( PDFDrive ).pdf', 'CT and MRI of the Whole Body, 2-Volume Set, 6e, Volume I ( PDFDrive ).pdf', 'CT and MRI of the Whole Body, 2-Volume Set, 6e, Volume I ( PDFDrive ).pdf', 'CT and MRI of the Whole Body, 2-Volume Set, 6e, Volume I ( PDFDrive ).pdf'] → Hit: True\n",
      "Retrieved ['Gastrointestinal Imaging_ The Requisites (Requisites in Radiology) 3rd ed ( PDFDrive ).pdf', 'Gastrointestinal Imaging_ The Requisites (Requisites in Radiology) 3rd ed ( PDFDrive ).pdf', 'Diagnostic Imaging Genitourinary ( PDFDrive ).pdf', 'Gastrointestinal Imaging_ The Requisites (Requisites in Radiology) 3rd ed ( PDFDrive ).pdf', 'CT and MRI of the Whole Body, 2-Volume Set, 6e, Volume I ( PDFDrive ).pdf'] → Hit: False\n",
      "Retrieved ['Diagnostic Imaging_ Gastrointestinal ( PDFDrive ).pdf', 'Diagnostic Imaging_ Gastrointestinal ( PDFDrive ).pdf', 'CT and MRI of the Whole Body, 2-Volume Set, 6e, Volume I ( PDFDrive ).pdf', 'Diagnostic Imaging_ Gastrointestinal ( PDFDrive ).pdf', 'Diagnostic Imaging_ Gastrointestinal ( PDFDrive ).pdf'] → Hit: True\n",
      "Retrieved ['CT and MRI of the Whole Body, 2-Volume Set, 6e, Volume I ( PDFDrive ).pdf', 'CT and MRI of the Whole Body, 2-Volume Set, 6e, Volume I ( PDFDrive ).pdf', 'CT and MRI of the Whole Body, 2-Volume Set, 6e, Volume I ( PDFDrive ).pdf', 'CT and MRI of the Whole Body, 2-Volume Set, 6e, Volume I ( PDFDrive ).pdf', 'Diagnostic Imaging_ Gastrointestinal ( PDFDrive ).pdf'] → Hit: True\n",
      "Retrieved ['MRI of the prostate_ a practical approach ( PDFDrive ).pdf', 'Liver imaging _ MRI with CT correlation ( PDFDrive ).pdf', 'Mayo Clinic Gastrointestinal Imaging Review ( PDFDrive ).pdf', 'CT and MRI of the Whole Body, 2-Volume Set, 6e, Volume I ( PDFDrive ).pdf', 'Liver imaging _ MRI with CT correlation ( PDFDrive ).pdf'] → Hit: False\n",
      "Retrieved ['MRI of the prostate_ a practical approach ( PDFDrive ).pdf', 'MRI of the prostate_ a practical approach ( PDFDrive ).pdf', 'MRI of the prostate_ a practical approach ( PDFDrive ).pdf', 'MRI of the prostate_ a practical approach ( PDFDrive ).pdf', 'MRI of the prostate_ a practical approach ( PDFDrive ).pdf'] → Hit: False\n",
      "Retrieved ['Diagnostic Imaging_ Gastrointestinal ( PDFDrive ).pdf', 'Radiology Illustrated_ Hepatobiliary and Pancreatic Radiology ( PDFDrive ).pdf', 'Diagnostic Imaging_ Gastrointestinal ( PDFDrive ).pdf', 'Radiology Illustrated_ Hepatobiliary and Pancreatic Radiology ( PDFDrive ).pdf', 'Gastrointestinal Imaging_ The Requisites (Requisites in Radiology) 3rd ed ( PDFDrive ).pdf'] → Hit: True\n",
      "Retrieved ['Mayo Clinic Gastrointestinal Imaging Review ( PDFDrive ).pdf', 'Gastrointestinal Imaging_ The Requisites (Requisites in Radiology) 3rd ed ( PDFDrive ).pdf', 'Radiology Illustrated_ Hepatobiliary and Pancreatic Radiology ( PDFDrive ).pdf', 'Mayo Clinic Gastrointestinal Imaging Review ( PDFDrive ).pdf', 'Mayo Clinic Gastrointestinal Imaging Review ( PDFDrive ).pdf'] → Hit: False\n",
      "Retrieved ['Diagnostic Imaging_ Gastrointestinal ( PDFDrive ).pdf', 'Diagnostic Imaging_ Gastrointestinal ( PDFDrive ).pdf', 'Gastrointestinal Imaging_ The Requisites (Requisites in Radiology) 3rd ed ( PDFDrive ).pdf', 'Diagnostic Imaging_ Gastrointestinal ( PDFDrive ).pdf', 'Gastrointestinal Imaging_ The Requisites (Requisites in Radiology) 3rd ed ( PDFDrive ).pdf'] → Hit: True\n",
      "Retrieved ['Diagnostic Imaging Genitourinary ( PDFDrive ).pdf', 'Diagnostic Imaging Genitourinary ( PDFDrive ).pdf', 'Diagnostic Imaging Genitourinary ( PDFDrive ).pdf', 'Diagnostic Imaging Genitourinary ( PDFDrive ).pdf', 'Diagnostic Imaging Genitourinary ( PDFDrive ).pdf'] → Hit: True\n",
      "Retrieved ['Diagnostic Imaging_ Gastrointestinal ( PDFDrive ).pdf', 'Diagnostic Imaging_ Gastrointestinal ( PDFDrive ).pdf', 'Diagnostic Imaging_ Gastrointestinal ( PDFDrive ).pdf', 'Diagnostic Imaging_ Gastrointestinal ( PDFDrive ).pdf', 'Gastrointestinal Imaging_ The Requisites (Requisites in Radiology) 3rd ed ( PDFDrive ).pdf'] → Hit: True\n",
      "Retrieved ['Gastrointestinal Imaging_ The Requisites (Requisites in Radiology) 3rd ed ( PDFDrive ).pdf', 'Diagnostic Imaging_ Gastrointestinal ( PDFDrive ).pdf', 'Diagnostic Imaging_ Gastrointestinal ( PDFDrive ).pdf', 'Diagnostic Imaging_ Gastrointestinal ( PDFDrive ).pdf', 'Diagnostic Imaging_ Gastrointestinal ( PDFDrive ).pdf'] → Hit: True\n",
      "Retrieved ['MRI of the prostate_ a practical approach ( PDFDrive ).pdf', 'MRI of the prostate_ a practical approach ( PDFDrive ).pdf', 'MRI of the prostate_ a practical approach ( PDFDrive ).pdf', 'MRI of the prostate_ a practical approach ( PDFDrive ).pdf', 'MRI of the prostate_ a practical approach ( PDFDrive ).pdf'] → Hit: True\n",
      "Retrieved ['CT and MRI of the Whole Body, 2-Volume Set, 6e, Volume I ( PDFDrive ).pdf', 'CT and MRI of the Whole Body, 2-Volume Set, 6e, Volume I ( PDFDrive ).pdf', 'CT and MRI of the Whole Body, 2-Volume Set, 6e, Volume I ( PDFDrive ).pdf', 'Diagnostic Imaging_ Gastrointestinal ( PDFDrive ).pdf', 'Diagnostic Imaging_ Gastrointestinal ( PDFDrive ).pdf'] → Hit: True\n",
      "Retrieved ['CT and MRI of the Whole Body, 2-Volume Set, 6e, Volume I ( PDFDrive ).pdf', 'CT and MRI of the Whole Body, 2-Volume Set, 6e, Volume I ( PDFDrive ).pdf', 'CT and MRI of the Whole Body, 2-Volume Set, 6e, Volume I ( PDFDrive ).pdf', 'CT and MRI of the Whole Body, 2-Volume Set, 6e, Volume I ( PDFDrive ).pdf', 'CT and MRI of the Whole Body, 2-Volume Set, 6e, Volume I ( PDFDrive ).pdf'] → Hit: True\n",
      "Retrieved ['LI-RADS 2018 Core.pdf', 'm-cunha-et-al-2021-how-to-use-li-rads-to-report-liver-ct-and-mri-observations.pdf', 'LI-RADS 2018 Core.pdf', 'Diagnostic Categories _ RADS - Reporting and Data Systems Support.pdf', 'Getting Started _ RADS - Reporting and Data Systems Support.pdf'] → Hit: True\n",
      "Retrieved ['Diagnostic Imaging Genitourinary ( PDFDrive ).pdf', 'Diagnostic Imaging Genitourinary ( PDFDrive ).pdf', 'Diagnostic Imaging Genitourinary ( PDFDrive ).pdf', 'Diagnostic Imaging Genitourinary ( PDFDrive ).pdf', 'Diagnostic Imaging Genitourinary ( PDFDrive ).pdf'] → Hit: True\n",
      "Retrieved ['CT and MRI of the Whole Body, 2-Volume Set, 6e, Volume I ( PDFDrive ).pdf', 'CT and MRI of the Whole Body, 2-Volume Set, 6e, Volume I ( PDFDrive ).pdf', 'CT and MRI of the Whole Body, 2-Volume Set, 6e, Volume I ( PDFDrive ).pdf', 'CT and MRI of the Whole Body, 2-Volume Set, 6e, Volume I ( PDFDrive ).pdf', 'CT and MRI of the Whole Body, 2-Volume Set, 6e, Volume I ( PDFDrive ).pdf'] → Hit: True\n",
      "Retrieved ['Gastrointestinal Imaging_ The Requisites (Requisites in Radiology) 3rd ed ( PDFDrive ).pdf', 'Gastrointestinal Imaging_ The Requisites (Requisites in Radiology) 3rd ed ( PDFDrive ).pdf', 'CT and MRI of the Whole Body, 2-Volume Set, 6e, Volume I ( PDFDrive ).pdf', 'CT and MRI of the Whole Body, 2-Volume Set, 6e, Volume I ( PDFDrive ).pdf', 'CT and MRI of the Whole Body, 2-Volume Set, 6e, Volume I ( PDFDrive ).pdf'] → Hit: False\n",
      "Recall@5: 0.88\n"
     ]
    }
   ],
   "execution_count": 75
  },
  {
   "metadata": {
    "jupyter": {
     "is_executing": true
    },
    "ExecuteTime": {
     "start_time": "2025-05-06T21:12:16.957802Z"
    }
   },
   "cell_type": "code",
   "source": [
    "ks = [1, 3, 5, 10, 15, 20]\n",
    "recalls = []\n",
    "for k in ks:\n",
    "    retr = vector_store.as_retriever(search_kwargs={\"k\": k})\n",
    "    hits_k = [\n",
    "        (item[\"source\"] in [d.metadata[\"source\"] for d in retr.get_relevant_documents(item[\"question\"])])\n",
    "        for item in questions\n",
    "    ]\n",
    "    recalls.append(sum(hits_k) / len(hits_k))\n",
    "\n",
    "for k, recall in zip(ks, recalls):\n",
    "    print(f\"Recall@{k}: {recall:.2f}\")\n",
    "\n",
    "plt.plot(ks, recalls)\n",
    "plt.xlabel(\"k\")\n",
    "plt.ylabel(\"Recall@k\")\n",
    "plt.title(\"Retrieval Performance\")"
   ],
   "id": "64c70406d6ec43dc",
   "outputs": [],
   "execution_count": null
  },
  {
   "metadata": {
    "ExecuteTime": {
     "end_time": "2025-05-06T20:51:38.216203Z",
     "start_time": "2025-05-06T20:45:56.736547Z"
    }
   },
   "cell_type": "code",
   "source": "",
   "id": "7fd92b39f6042f8a",
   "outputs": [],
   "execution_count": null
  },
  {
   "metadata": {
    "ExecuteTime": {
     "end_time": "2025-05-06T20:51:38.217041Z",
     "start_time": "2025-05-06T20:45:56.751297Z"
    }
   },
   "cell_type": "code",
   "source": "",
   "id": "b0ba9cffd39a91a4",
   "outputs": [],
   "execution_count": null
  },
  {
   "metadata": {},
   "cell_type": "code",
   "outputs": [],
   "execution_count": null,
   "source": "",
   "id": "27c6699db6484a3c"
  }
 ],
 "metadata": {
  "kernelspec": {
   "display_name": "Python 3",
   "language": "python",
   "name": "python3"
  },
  "language_info": {
   "codemirror_mode": {
    "name": "ipython",
    "version": 2
   },
   "file_extension": ".py",
   "mimetype": "text/x-python",
   "name": "python",
   "nbconvert_exporter": "python",
   "pygments_lexer": "ipython2",
   "version": "2.7.6"
  }
 },
 "nbformat": 4,
 "nbformat_minor": 5
}
