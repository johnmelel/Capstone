{
 "cells": [
  {
   "cell_type": "markdown",
   "id": "a83e6795",
   "metadata": {},
   "source": [
    "1. Reconnect to Milvus\n",
    "\n",
    "2. Recreate the same embedder (for query embedding only)\n",
    "\n",
    "3. Point LangChain’s Milvus wrapper at the existing collection\n",
    "\n",
    "4. Use that as your retriever"
   ]
  },
  {
   "cell_type": "code",
   "execution_count": 1,
   "id": "13e5b169",
   "metadata": {},
   "outputs": [],
   "source": [
    "from pymilvus import connections\n",
    "from langchain_huggingface import HuggingFaceEmbeddings\n",
    "from langchain_community.vectorstores import Milvus"
   ]
  },
  {
   "cell_type": "markdown",
   "id": "6fd613b7",
   "metadata": {},
   "source": [
    "# Set-Up"
   ]
  },
  {
   "cell_type": "code",
   "execution_count": 2,
   "id": "b7911ebc",
   "metadata": {},
   "outputs": [
    {
     "name": "stderr",
     "output_type": "stream",
     "text": [
      "/opt/anaconda3/envs/capstone/lib/python3.10/site-packages/tqdm/auto.py:21: TqdmWarning: IProgress not found. Please update jupyter and ipywidgets. See https://ipywidgets.readthedocs.io/en/stable/user_install.html\n",
      "  from .autonotebook import tqdm as notebook_tqdm\n",
      "/var/folders/qf/l8sfrcpd6vq2564v1_qt31fm0000gn/T/ipykernel_72043/2631204849.py:8: LangChainDeprecationWarning: The class `Milvus` was deprecated in LangChain 0.2.0 and will be removed in 1.0. An updated version of the class exists in the :class:`~langchain-milvus package and should be used instead. To use it run `pip install -U :class:`~langchain-milvus` and import as `from :class:`~langchain_milvus import MilvusVectorStore``.\n",
      "  vector_store = Milvus(\n"
     ]
    }
   ],
   "source": [
    "# Reconnect\n",
    "connections.connect(host=\"localhost\", port=\"19530\")\n",
    "\n",
    "# Reuse embedding model\n",
    "embedder = HuggingFaceEmbeddings(model_name=\"sentence-transformers/all-MiniLM-L6-v2\")\n",
    "\n",
    "# Connect to existing collection\n",
    "vector_store = Milvus(\n",
    "    embedding_function=embedder,\n",
    "    collection_name=\"medical_knowledge_base_v2\",\n",
    "    connection_args={\"host\": \"localhost\", \"port\": \"19530\"}\n",
    ")\n",
    "\n",
    "# Build retriever\n",
    "retriever = vector_store.as_retriever(search_kwargs={\"k\": 5})"
   ]
  },
  {
   "cell_type": "code",
   "execution_count": 3,
   "id": "a5c60eda",
   "metadata": {},
   "outputs": [
    {
     "data": {
      "text/plain": [
       "True"
      ]
     },
     "execution_count": 3,
     "metadata": {},
     "output_type": "execute_result"
    }
   ],
   "source": [
    "import logging\n",
    "import numpy as np\n",
    "from typing import List, Any, Dict, Optional, Tuple\n",
    "\n",
    "from pymilvus import connections\n",
    "from langchain_huggingface import HuggingFaceEmbeddings\n",
    "from langchain_community.vectorstores import Milvus\n",
    "from langchain_openai import ChatOpenAI\n",
    "from langchain_core.prompts import ChatPromptTemplate, PromptTemplate\n",
    "from langchain_core.output_parsers import StrOutputParser\n",
    "from langchain_core.runnables import RunnablePassthrough\n",
    "from langchain.agents import AgentExecutor, create_react_agent, AgentType, initialize_agent\n",
    "from langchain.tools import Tool\n",
    "\n",
    "\n",
    "# Set up logging\n",
    "logging.basicConfig(level=logging.INFO, format=\"%(asctime)s - %(levelname)s - %(message)s\")\n",
    "logger = logging.getLogger(__name__)\n",
    "\n",
    "# Open AI Key\n",
    "from dotenv import load_dotenv\n",
    "from pathlib import Path\n",
    "env_path = Path('/Users/brunamedeiros/Documents/University of Chicago/Spring 2025 - Capstone I/Assignment Research 1 - Agents/.env')\n",
    "load_dotenv(dotenv_path=env_path)\n",
    "# print(os.getenv(\"OPENAI_API_KEY\"))\n"
   ]
  },
  {
   "cell_type": "markdown",
   "id": "f1eb02a1",
   "metadata": {},
   "source": [
    "# RL"
   ]
  },
  {
   "cell_type": "code",
   "execution_count": 4,
   "id": "f8864411",
   "metadata": {},
   "outputs": [],
   "source": [
    "class RLFeedbackSystem:\n",
    "    def __init__(self, rag_system):\n",
    "        self.rag_system = rag_system\n",
    "        self.feedback_history = []\n",
    "        self.exploration_rate = 0.2\n",
    "        self.min_k = 3\n",
    "        self.max_k = 10\n",
    "\n",
    "    def record_feedback(self, query: str, retrieved_docs: List[Any], answer: str, feedback_score: float):\n",
    "        self.feedback_history.append({\n",
    "            \"query\": query,\n",
    "            \"docs\": retrieved_docs,\n",
    "            \"answer\": answer,\n",
    "            \"score\": feedback_score,\n",
    "            \"params\": self.rag_system.retrieval_params.copy()\n",
    "        })\n",
    "\n",
    "        if len(self.feedback_history) % 10 == 0:\n",
    "            self._update_parameters()\n",
    "\n",
    "    def _update_parameters(self):\n",
    "        if len(self.feedback_history) < 10:\n",
    "            return\n",
    "\n",
    "        recent = self.feedback_history[-10:]\n",
    "        avg = sum(item[\"score\"] for item in recent) / 10\n",
    "        current_k = self.rag_system.retrieval_params.get(\"k\", 5)\n",
    "\n",
    "        if np.random.random() < self.exploration_rate:\n",
    "            new_k = np.random.randint(self.min_k, self.max_k + 1)\n",
    "        elif avg < 0.6:\n",
    "            new_k = min(current_k + 1, self.max_k)\n",
    "        elif avg > 0.8:\n",
    "            new_k = max(current_k - 1, self.min_k)\n",
    "        else:\n",
    "            new_k = current_k\n",
    "\n",
    "        self.rag_system.update_retrieval_params({\"k\": new_k})\n"
   ]
  },
  {
   "cell_type": "markdown",
   "id": "63e31f84",
   "metadata": {},
   "source": [
    "# Agent"
   ]
  },
  {
   "cell_type": "code",
   "execution_count": 5,
   "id": "a52c9a1a",
   "metadata": {},
   "outputs": [],
   "source": [
    "class AgentSystem:\n",
    "    def __init__(self, rag_system):\n",
    "        self.rag_system = rag_system\n",
    "\n",
    "        self.tools = [\n",
    "            Tool(\n",
    "                name=\"SearchDocs\",\n",
    "                description=\"Retrieve documents from the knowledge base\",\n",
    "                func=self._search_docs\n",
    "            ),\n",
    "            Tool(\n",
    "                name=\"SynthesizeAnswer\",\n",
    "                description=\"Generate a final answer from retrieved documents\",\n",
    "                func=self._synthesize_answer\n",
    "            )\n",
    "        ]\n",
    "\n",
    "        prompt_template = PromptTemplate(\n",
    "            input_variables=[\"input\", \"agent_scratchpad\", \"tools\", \"tool_names\"],\n",
    "            template=\"\"\"You are an intelligent agent using tools to answer questions.\n",
    "\n",
    "Tools:\n",
    "{tools}\n",
    "\n",
    "Use this format:\n",
    "Question: {input}\n",
    "Thought: I need to think about how to solve this\n",
    "Action: the action to take, should be one of [{tool_names}]\n",
    "Action Input: the input to the action\n",
    "Observation: the result of the action\n",
    "... (this Thought/Action/Action Input/Observation can repeat N times)\n",
    "Thought: I now know the final answer\n",
    "Final Answer: the final answer to the original input question\n",
    "\n",
    "{agent_scratchpad}\"\"\"\n",
    ")\n",
    "\n",
    "        self.agent = create_react_agent(\n",
    "            llm=self.rag_system.llm,\n",
    "            tools=self.tools,\n",
    "            prompt=prompt_template\n",
    "        )\n",
    "        self.agent_executor = AgentExecutor(\n",
    "            agent=self.agent,\n",
    "            tools=self.tools,\n",
    "            verbose=True,\n",
    "            max_iterations=10,\n",
    "            max_execution_time=60.0\n",
    "        )\n",
    "\n",
    "    def _search_docs(self, query: str) -> str:\n",
    "        docs = self.rag_system.retriever.invoke(query)\n",
    "        return \"\\n\\n\".join([d.page_content for d in docs])\n",
    "\n",
    "    def _synthesize_answer(self, _: str) -> str:\n",
    "        answer, _ = self.rag_system.answer_question(query)\n",
    "        return answer\n",
    "\n",
    "    def process_query(self, query: str) -> Dict[str, Any]:\n",
    "        self.last_query = query\n",
    "        return self.agent_executor.invoke({\"input\": query})\n"
   ]
  },
  {
   "cell_type": "markdown",
   "id": "7e57fc41",
   "metadata": {},
   "source": [
    "# Vector Store Manager"
   ]
  },
  {
   "cell_type": "code",
   "execution_count": 6,
   "id": "b60e1349",
   "metadata": {},
   "outputs": [],
   "source": [
    "class VectorStoreManager:\n",
    "    def __init__(self, embedder, host, port, collection_name):\n",
    "        connections.connect(host=host, port=port)\n",
    "        self.vector_store = Milvus(\n",
    "            embedding_function=embedder,\n",
    "            collection_name=collection_name,\n",
    "            connection_args={\"host\": host, \"port\": port}\n",
    "        )\n",
    "\n",
    "    def get_retriever(self, search_kwargs=None):\n",
    "        if search_kwargs is None:\n",
    "            search_kwargs = {\"k\": 5}\n",
    "        return self.vector_store.as_retriever(search_kwargs=search_kwargs)\n"
   ]
  },
  {
   "cell_type": "markdown",
   "id": "d35bf8f2",
   "metadata": {},
   "source": [
    "# RAG"
   ]
  },
  {
   "cell_type": "code",
   "execution_count": 7,
   "id": "60d74dd3",
   "metadata": {},
   "outputs": [],
   "source": [
    "class RAGSystem:\n",
    "    def __init__(self, vector_store_manager, model_name=\"gpt-4o\", temperature=0.1):\n",
    "        self.llm = ChatOpenAI(model=model_name, temperature=temperature)\n",
    "        self.vector_store_manager = vector_store_manager\n",
    "        self.retrieval_params = {\"k\": 5}\n",
    "        self.retriever = self.vector_store_manager.get_retriever(self.retrieval_params)\n",
    "\n",
    "        self.prompt = ChatPromptTemplate.from_template(\"\"\"\n",
    "        You are a helpful assistant. Use the context below to answer the question.\n",
    "        Context:\n",
    "        {context}\n",
    "\n",
    "        Question: {question}\n",
    "        \"\"\")\n",
    "        self.chain = (\n",
    "            {\"context\": self.retriever, \"question\": RunnablePassthrough()}\n",
    "            | self.prompt\n",
    "            | self.llm\n",
    "            | StrOutputParser()\n",
    "        )\n",
    "\n",
    "    def answer_question(self, question: str):\n",
    "        docs = self.retriever.invoke(question)\n",
    "        answer = self.chain.invoke(question)\n",
    "        return answer, docs\n",
    "\n",
    "    def update_retrieval_params(self, params):\n",
    "        self.retrieval_params.update(params)\n",
    "        self.retriever = self.vector_store_manager.get_retriever(self.retrieval_params)\n"
   ]
  },
  {
   "cell_type": "markdown",
   "id": "a1cf87e8",
   "metadata": {},
   "source": [
    "# Comprehensive RAG"
   ]
  },
  {
   "cell_type": "code",
   "execution_count": 8,
   "id": "c8b29e31",
   "metadata": {},
   "outputs": [],
   "source": [
    "class ComprehensiveRAGSystem:\n",
    "    def __init__(\n",
    "        self,\n",
    "        embedding_model=\"sentence-transformers/all-MiniLM-L6-v2\",\n",
    "        llm_model=\"gpt-4o\",\n",
    "        milvus_host=\"localhost\",\n",
    "        milvus_port=\"19530\",\n",
    "        collection_name=\"medical_knowledge_base_v2\"\n",
    "    ):\n",
    "        embedder = HuggingFaceEmbeddings(model_name=embedding_model)\n",
    "        self.vsm = VectorStoreManager(embedder, milvus_host, milvus_port, collection_name)\n",
    "        self.rag = RAGSystem(self.vsm, model_name=llm_model)\n",
    "        self.rl = RLFeedbackSystem(self.rag)\n",
    "        self.agent = AgentSystem(self.rag)\n",
    "\n",
    "    def answer_question(self, question: str, use_agent=False):\n",
    "        if use_agent:\n",
    "            return self.agent.process_query(question)[\"output\"]\n",
    "        return self.rag.answer_question(question)[0]\n",
    "\n",
    "    def provide_feedback(self, query, answer, feedback_score):\n",
    "        docs = self.rag.retriever.invoke(query)\n",
    "        self.rl.record_feedback(query, docs, answer, feedback_score)\n"
   ]
  },
  {
   "cell_type": "markdown",
   "id": "8458b56c",
   "metadata": {},
   "source": [
    "# Run System"
   ]
  },
  {
   "cell_type": "code",
   "execution_count": null,
   "id": "23ed93f0",
   "metadata": {},
   "outputs": [
    {
     "name": "stderr",
     "output_type": "stream",
     "text": [
      "2025-05-05 14:20:58,303 - INFO - Use pytorch device_name: mps\n",
      "2025-05-05 14:20:58,303 - INFO - Load pretrained SentenceTransformer: sentence-transformers/all-MiniLM-L6-v2\n",
      "2025-05-05 14:21:03,376 - INFO - HTTP Request: POST https://api.openai.com/v1/chat/completions \"HTTP/1.1 200 OK\"\n"
     ]
    },
    {
     "name": "stdout",
     "output_type": "stream",
     "text": [
      "\n",
      "🧠 RAG Answer: Pneumonia is an infection that inflames the air sacs in one or both lungs, which can fill with fluid or pus. Common symptoms of pneumonia include:\n",
      "\n",
      "1. Cough, which may produce phlegm (mucus)\n",
      "2. Fever, which may be mild or high\n",
      "3. Chills\n",
      "4. Shortness of breath\n",
      "5. Chest pain when you breathe or cough\n",
      "6. Fatigue or tiredness\n",
      "7. Loss of appetite\n",
      "8. Nausea or vomiting\n",
      "9. Confusion, especially in older adults\n",
      "10. Sweating and shaking chills\n",
      "\n",
      "It's important to note that symptoms can vary depending on the type of pneumonia, the age and health of the person, and the cause of the infection. If you suspect you or someone else has pneumonia, it is important to seek medical attention for proper diagnosis and treatment.\n",
      "\n",
      "\n",
      "\u001b[1m> Entering new AgentExecutor chain...\u001b[0m\n"
     ]
    },
    {
     "name": "stderr",
     "output_type": "stream",
     "text": [
      "2025-05-05 14:21:04,135 - INFO - HTTP Request: POST https://api.openai.com/v1/chat/completions \"HTTP/1.1 200 OK\"\n"
     ]
    },
    {
     "name": "stdout",
     "output_type": "stream",
     "text": [
      "\u001b[32;1m\u001b[1;3mQuestion: What are the symptoms of pneumonia?\n",
      "Thought: I need to think about how to solve this. First, I should retrieve relevant documents about pneumonia symptoms.\n",
      "Action: SearchDocs\n",
      "Action Input: \"symptoms of pneumonia\"\u001b[0m\u001b[36;1m\u001b[1;3m\u001b[0m"
     ]
    },
    {
     "name": "stderr",
     "output_type": "stream",
     "text": [
      "2025-05-05 14:21:05,297 - INFO - HTTP Request: POST https://api.openai.com/v1/chat/completions \"HTTP/1.1 200 OK\"\n"
     ]
    },
    {
     "name": "stdout",
     "output_type": "stream",
     "text": [
      "\u001b[32;1m\u001b[1;3mI have retrieved the necessary documents about the symptoms of pneumonia. Now, I should synthesize the information to provide a comprehensive answer.\n",
      "Action: SynthesizeAnswer\n",
      "Action Input: \"symptoms of pneumonia from retrieved documents\"\u001b[0m"
     ]
    },
    {
     "name": "stderr",
     "output_type": "stream",
     "text": [
      "2025-05-05 14:21:10,030 - INFO - HTTP Request: POST https://api.openai.com/v1/chat/completions \"HTTP/1.1 200 OK\"\n"
     ]
    },
    {
     "name": "stdout",
     "output_type": "stream",
     "text": [
      "\u001b[33;1m\u001b[1;3mPneumonia is an infection that inflames the air sacs in one or both lungs, which can fill with fluid or pus. The symptoms of pneumonia can vary from mild to severe and may include:\n",
      "\n",
      "1. Cough, which may produce phlegm (mucus)\n",
      "2. Fever, sweating, and chills\n",
      "3. Shortness of breath\n",
      "4. Rapid, shallow breathing\n",
      "5. Sharp or stabbing chest pain that worsens when breathing deeply or coughing\n",
      "6. Loss of appetite, low energy, and fatigue\n",
      "7. Nausea and vomiting, especially in young children\n",
      "8. Confusion, especially in older adults\n",
      "9. Headache\n",
      "10. Muscle pain\n",
      "\n",
      "It's important to seek medical attention if you suspect you or someone else has pneumonia, especially if symptoms are severe or if there are risk factors such as age or underlying health conditions.\u001b[0m"
     ]
    },
    {
     "name": "stderr",
     "output_type": "stream",
     "text": [
      "2025-05-05 14:21:10,468 - INFO - HTTP Request: POST https://api.openai.com/v1/chat/completions \"HTTP/1.1 200 OK\"\n"
     ]
    },
    {
     "name": "stdout",
     "output_type": "stream",
     "text": [
      "\u001b[32;1m\u001b[1;3mI now know the final answer. \n",
      "\n",
      "Final Answer: Pneumonia is an infection that inflames the air sacs in one or both lungs, which can fill with fluid or pus. The symptoms of pneumonia can vary from mild to severe and may include cough (which may produce phlegm), fever, sweating, chills, shortness of breath, rapid shallow breathing, sharp or stabbing chest pain that worsens when breathing deeply or coughing, loss of appetite, low energy, fatigue, nausea and vomiting (especially in young children), confusion (especially in older adults), headache, and muscle pain. It's important to seek medical attention if you suspect pneumonia, especially if symptoms are severe or if there are risk factors such as age or underlying health conditions.\u001b[0m\n",
      "\n",
      "\u001b[1m> Finished chain.\u001b[0m\n",
      "\n",
      "🤖 Agent Answer: Pneumonia is an infection that inflames the air sacs in one or both lungs, which can fill with fluid or pus. The symptoms of pneumonia can vary from mild to severe and may include cough (which may produce phlegm), fever, sweating, chills, shortness of breath, rapid shallow breathing, sharp or stabbing chest pain that worsens when breathing deeply or coughing, loss of appetite, low energy, fatigue, nausea and vomiting (especially in young children), confusion (especially in older adults), headache, and muscle pain. It's important to seek medical attention if you suspect pneumonia, especially if symptoms are severe or if there are risk factors such as age or underlying health conditions.\n"
     ]
    }
   ],
   "source": [
    "system = ComprehensiveRAGSystem(\n",
    "    embedding_model=\"sentence-transformers/all-MiniLM-L6-v2\",\n",
    "    llm_model=\"gpt-4o\",\n",
    "    milvus_host=\"localhost\",\n",
    "    milvus_port=\"19530\",\n",
    "    collection_name=\"medical_knowledge_base_v2\"\n",
    ")\n",
    "\n",
    "query = \"What are the symptoms of pneumonia?\"\n",
    "rag_answer = system.answer_question(query)\n",
    "print(\"\\n🧠 RAG Answer:\", rag_answer)\n",
    "\n",
    "agent_answer = system.answer_question(query, use_agent=True)\n",
    "print(\"\\n🤖 Agent Answer:\", agent_answer)\n"
   ]
  },
  {
   "cell_type": "code",
   "execution_count": null,
   "id": "e6003bf2",
   "metadata": {},
   "outputs": [],
   "source": [
    "# Activate RL?\n",
    "#system.provide_feedback(query, answer, feedback_score=0.9)"
   ]
  },
  {
   "cell_type": "code",
   "execution_count": null,
   "id": "8dadccc0",
   "metadata": {},
   "outputs": [],
   "source": []
  }
 ],
 "metadata": {
  "kernelspec": {
   "display_name": "capstone",
   "language": "python",
   "name": "python3"
  },
  "language_info": {
   "codemirror_mode": {
    "name": "ipython",
    "version": 3
   },
   "file_extension": ".py",
   "mimetype": "text/x-python",
   "name": "python",
   "nbconvert_exporter": "python",
   "pygments_lexer": "ipython3",
   "version": "3.10.16"
  }
 },
 "nbformat": 4,
 "nbformat_minor": 5
}
