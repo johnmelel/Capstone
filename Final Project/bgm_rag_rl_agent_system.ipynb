{
 "cells": [
  {
   "cell_type": "markdown",
   "id": "a83e6795",
   "metadata": {},
   "source": [
    "1. Reconnect to Milvus\n",
    "\n",
    "2. Recreate the same embedder (for query embedding only)\n",
    "\n",
    "3. Point LangChain’s Milvus wrapper at the existing collection\n",
    "\n",
    "4. Use that as your retriever"
   ]
  },
  {
   "cell_type": "code",
   "id": "13e5b169",
   "metadata": {
    "ExecuteTime": {
     "end_time": "2025-05-05T21:45:23.312750Z",
     "start_time": "2025-05-05T21:45:23.309563Z"
    }
   },
   "source": [
    "import logging\n",
    "import numpy as np\n",
    "from typing import List, Tuple, Dict, Any, Optional\n",
    "from collections import defaultdict\n",
    "from pymilvus import connections\n",
    "from langchain_huggingface import HuggingFaceEmbeddings\n",
    "from langchain_community.vectorstores import Milvus\n",
    "from langchain_openai import ChatOpenAI\n",
    "from langchain_core.prompts import ChatPromptTemplate, PromptTemplate\n",
    "from langchain_core.output_parsers import StrOutputParser\n",
    "from langchain_core.runnables import RunnablePassthrough\n",
    "from langchain.agents import AgentExecutor, create_react_agent\n",
    "from langchain.tools import Tool\n",
    "from dotenv import load_dotenv\n",
    "from pathlib import Path\n",
    "import sacrebleu\n",
    "import os\n",
    "from tqdm.notebook import tqdm"
   ],
   "outputs": [],
   "execution_count": 54
  },
  {
   "metadata": {
    "ExecuteTime": {
     "end_time": "2025-05-05T21:45:23.408818Z",
     "start_time": "2025-05-05T21:45:23.406443Z"
    }
   },
   "cell_type": "code",
   "source": [
    "to_import = None\n",
    "from datasets import load_dataset\n",
    "\n",
    "from transformers import CLIPProcessor, CLIPModel\n",
    "from PIL import Image\n",
    "import requests"
   ],
   "id": "a561cae0984c43aa",
   "outputs": [],
   "execution_count": 55
  },
  {
   "cell_type": "markdown",
   "id": "6fd613b7",
   "metadata": {},
   "source": [
    "# Set-Up"
   ]
  },
  {
   "cell_type": "code",
   "id": "b7911ebc",
   "metadata": {
    "ExecuteTime": {
     "end_time": "2025-05-05T21:45:24.554996Z",
     "start_time": "2025-05-05T21:45:23.412856Z"
    }
   },
   "source": [
    "# Reconnect\n",
    "connections.connect(host=\"localhost\", port=\"19530\")\n",
    "\n",
    "# Reuse embedding model\n",
    "embedder = HuggingFaceEmbeddings(model_name=\"sentence-transformers/all-MiniLM-L6-v2\")\n",
    "\n",
    "# Connect to existing collection\n",
    "vector_store = Milvus(\n",
    "    embedding_function=embedder,\n",
    "    collection_name=\"medical_knowledge_base_v2\",\n",
    "    connection_args={\"host\": \"localhost\", \"port\": \"19530\"}\n",
    ")\n",
    "\n",
    "# Build retriever\n",
    "retriever = vector_store.as_retriever(search_kwargs={\"k\": 5})"
   ],
   "outputs": [
    {
     "name": "stderr",
     "output_type": "stream",
     "text": [
      "2025-05-05 16:45:23,427 - INFO - Use pytorch device_name: mps\n",
      "2025-05-05 16:45:23,428 - INFO - Load pretrained SentenceTransformer: sentence-transformers/all-MiniLM-L6-v2\n"
     ]
    }
   ],
   "execution_count": 56
  },
  {
   "cell_type": "code",
   "id": "a5c60eda",
   "metadata": {
    "ExecuteTime": {
     "end_time": "2025-05-05T21:45:24.634170Z",
     "start_time": "2025-05-05T21:45:24.630868Z"
    }
   },
   "source": [
    "# Set up logging\n",
    "logging.basicConfig(level=logging.INFO, format=\"%(asctime)s - %(levelname)s - %(message)s\")\n",
    "logger = logging.getLogger(__name__)\n",
    "\n",
    "# Open AI Key\n",
    "env_path = Path('.env')\n",
    "load_dotenv(dotenv_path=env_path)\n",
    "# print(os.getenv(\"OPENAI_API_KEY\"))\n"
   ],
   "outputs": [
    {
     "data": {
      "text/plain": [
       "False"
      ]
     },
     "execution_count": 57,
     "metadata": {},
     "output_type": "execute_result"
    }
   ],
   "execution_count": 57
  },
  {
   "cell_type": "markdown",
   "id": "f1eb02a1",
   "metadata": {},
   "source": [
    "# RL"
   ]
  },
  {
   "cell_type": "code",
   "id": "f8864411",
   "metadata": {
    "ExecuteTime": {
     "end_time": "2025-05-05T21:45:24.715863Z",
     "start_time": "2025-05-05T21:45:24.711266Z"
    }
   },
   "source": [
    "class RLFeedbackSystem:\n",
    "    def __init__(self, rag_system):\n",
    "        self.rag_system = rag_system\n",
    "        self.feedback_history = []\n",
    "        self.exploration_rate = 0.2\n",
    "        self.min_k = 3\n",
    "        self.max_k = 10\n",
    "\n",
    "    def record_feedback(self, query: str, retrieved_docs: List[Any], answer: str, feedback_score: float):\n",
    "        self.feedback_history.append({\n",
    "            \"query\": query,\n",
    "            \"docs\": retrieved_docs,\n",
    "            \"answer\": answer,\n",
    "            \"score\": feedback_score,\n",
    "            \"params\": self.rag_system.retrieval_params.copy()\n",
    "        })\n",
    "\n",
    "        if len(self.feedback_history) % 10 == 0:\n",
    "            self._update_parameters()\n",
    "\n",
    "    def _update_parameters(self):\n",
    "        if len(self.feedback_history) < 10:\n",
    "            return\n",
    "\n",
    "        recent = self.feedback_history[-10:]\n",
    "        avg = sum(item[\"score\"] for item in recent) / 10\n",
    "        current_k = self.rag_system.retrieval_params.get(\"k\", 5)\n",
    "\n",
    "        if np.random.random() < self.exploration_rate:\n",
    "            new_k = np.random.randint(self.min_k, self.max_k + 1)\n",
    "        elif avg < 0.6:\n",
    "            new_k = min(current_k + 1, self.max_k)\n",
    "        elif avg > 0.8:\n",
    "            new_k = max(current_k - 1, self.min_k)\n",
    "        else:\n",
    "            new_k = current_k\n",
    "\n",
    "        self.rag_system.update_retrieval_params({\"k\": new_k})\n"
   ],
   "outputs": [],
   "execution_count": 58
  },
  {
   "cell_type": "markdown",
   "id": "7e57fc41",
   "metadata": {},
   "source": [
    "# Vector Store Manager"
   ]
  },
  {
   "cell_type": "code",
   "id": "b60e1349",
   "metadata": {
    "ExecuteTime": {
     "end_time": "2025-05-05T21:45:24.798142Z",
     "start_time": "2025-05-05T21:45:24.795158Z"
    }
   },
   "source": [
    "class VectorStoreManager:\n",
    "    def __init__(self, embedder, host, port, collection_name):\n",
    "        connections.connect(host=host, port=port)\n",
    "        self.vector_store = Milvus(\n",
    "            embedding_function=embedder,\n",
    "            collection_name=collection_name,\n",
    "            connection_args={\"host\": host, \"port\": port}\n",
    "        )\n",
    "\n",
    "    def get_retriever(self, search_kwargs=None):\n",
    "        if search_kwargs is None:\n",
    "            search_kwargs = {\"k\": 5}\n",
    "        return self.vector_store.as_retriever(search_kwargs=search_kwargs)\n"
   ],
   "outputs": [],
   "execution_count": 59
  },
  {
   "cell_type": "markdown",
   "id": "d35bf8f2",
   "metadata": {},
   "source": [
    "# RAG"
   ]
  },
  {
   "cell_type": "code",
   "id": "60d74dd3",
   "metadata": {
    "ExecuteTime": {
     "end_time": "2025-05-05T21:45:24.881040Z",
     "start_time": "2025-05-05T21:45:24.875524Z"
    }
   },
   "source": [
    "class RAGSystem:\n",
    "    def __init__(self, vsm: VectorStoreManager,\n",
    "                 clip_model: CLIPModel, clip_proc: CLIPProcessor,\n",
    "                 model_name=\"gpt-4o\", temp=0.1):\n",
    "        self.llm = ChatOpenAI(model=model_name, temperature=temp)\n",
    "        self.vsm = vsm\n",
    "        self.clip_model = clip_model\n",
    "        self.clip_proc  = clip_proc\n",
    "\n",
    "        self.text_rtr = self.vsm.vector_store.as_retriever(\n",
    "            search_kwargs={\"k\":5, \"filter\":{\"modality\":\"text\"}}\n",
    "        )\n",
    "\n",
    "        self.prompt = ChatPromptTemplate.from_template(\n",
    "            \"\"\"\n",
    "            Context:\n",
    "            {context}\n",
    "\n",
    "            Question: {question}\n",
    "            \"\"\"\n",
    "        )\n",
    "        self.chain = (\n",
    "            {\"context\": self.text_rtr, \"question\": RunnablePassthrough()}\n",
    "            | self.prompt\n",
    "            | self.llm\n",
    "            | StrOutputParser()\n",
    "        )\n",
    "\n",
    "    def answer_text(self, question: str) -> Tuple[str, List[Any]]:\n",
    "        docs = self.text_rtr.invoke(question)\n",
    "        ctx  = \"\\n\\n\".join(d.page_content for d in docs)\n",
    "        ans  = self.chain.invoke({\"context\": ctx, \"question\": question})\n",
    "        return ans, docs\n",
    "\n",
    "    def answer_multimodal(self, question: str, image_input) -> Tuple[str, List[Any]]:\n",
    "        docs_text = self.text_rtr.invoke(question)\n",
    "\n",
    "        if isinstance(image_input, str):\n",
    "            img = Image.open(image_input).convert(\"RGB\")\n",
    "        elif isinstance(image_input, Image.Image):\n",
    "            img = image_input.convert(\"RGB\")\n",
    "        else:\n",
    "            raise ValueError(\"answer_multimodal: image_input must be path or PIL.Image\")\n",
    "\n",
    "        inputs = self.clip_proc(images=img, return_tensors=\"pt\")\n",
    "        emb    = self.clip_model.get_image_features(**inputs).detach().cpu().numpy()[0]\n",
    "\n",
    "        docs_img = self.vsm.vector_store.similarity_search_by_vector(\n",
    "            emb.tolist(),\n",
    "            k=5,\n",
    "            filter={\"modality\":\"image\"},\n",
    "        )\n",
    "\n",
    "        docs = docs_text + docs_img\n",
    "        ctx  = \"\\n\\n\".join(d.page_content for d in docs)\n",
    "        ans  = self.chain.invoke({\"context\": ctx, \"question\": question})\n",
    "        return ans, docs"
   ],
   "outputs": [],
   "execution_count": 60
  },
  {
   "metadata": {},
   "cell_type": "markdown",
   "source": "# Agent",
   "id": "63e31f84"
  },
  {
   "metadata": {
    "ExecuteTime": {
     "end_time": "2025-05-05T21:45:24.968188Z",
     "start_time": "2025-05-05T21:45:24.963081Z"
    }
   },
   "cell_type": "code",
   "source": [
    "class AgentSystem:\n",
    "    def __init__(\n",
    "        self,\n",
    "        rag_system: RAGSystem,\n",
    "        clip_model: CLIPModel,\n",
    "        clip_proc: CLIPProcessor,\n",
    "    ):\n",
    "        self.rag_system = rag_system\n",
    "        self.clip_model  = clip_model\n",
    "        self.clip_proc   = clip_proc\n",
    "\n",
    "        self.tools = [\n",
    "            Tool(\n",
    "                name=\"SearchDocs\",\n",
    "                description=\"Retrieve documents from the knowledge base\",\n",
    "                func=self._search_docs\n",
    "            ),\n",
    "            Tool(\n",
    "                name=\"SynthesizeAnswer\",\n",
    "                description=\"Generate a final answer from retrieved documents\",\n",
    "                func=self._synthesize_answer\n",
    "            )\n",
    "        ]\n",
    "        prompt_template = PromptTemplate(\n",
    "            input_variables=[\"input\", \"agent_scratchpad\", \"tools\", \"tool_names\"],\n",
    "            template=\"\"\"You are an intelligent agent using tools to answer questions.\n",
    "\n",
    "                    Tools:\n",
    "                    {tools}\n",
    "\n",
    "                    Use this format:\n",
    "                    Question: {input}\n",
    "                    Thought: I need to think about how to solve this\n",
    "                    Action: the action to take, should be one of [{tool_names}]\n",
    "                    Action Input: the input to the action\n",
    "                    Observation: the result of the action\n",
    "                    ... (this Thought/Action/Action Input/Observation can repeat N times)\n",
    "                    Thought: I now know the final answer\n",
    "                    Final Answer: the final answer to the original input question\n",
    "\n",
    "                    {agent_scratchpad}\"\"\"\n",
    "        )\n",
    "        self.agent = create_react_agent(\n",
    "            llm=self.rag_system.llm,\n",
    "            tools=self.tools,\n",
    "            prompt=prompt_template\n",
    "        )\n",
    "        self.agent_executor = AgentExecutor(\n",
    "            agent=self.agent,\n",
    "            tools=self.tools,\n",
    "            verbose=True,\n",
    "            max_iterations=10,\n",
    "            max_execution_time=60.0,\n",
    "            handle_parsing_errors=True,\n",
    "        )\n",
    "\n",
    "    def _search_docs(self, query: str) -> str:\n",
    "        docs = self.rag_system.text_rtr.invoke(query)\n",
    "        return \"\\n\\n\".join(d.page_content for d in docs)\n",
    "\n",
    "    def _synthesize_answer(self, query: str) -> str:\n",
    "        answer, _ = self.rag_system.answer_text(query)\n",
    "        return answer\n",
    "\n",
    "    def process_query(self, question: str, image_input=None) -> Dict[str,Any]:\n",
    "        if image_input is not None:\n",
    "            answer, docs = self.rag_system.answer_multimodal(question, image_input)\n",
    "            return {\"output\": answer, \"docs\": docs}\n",
    "        else:\n",
    "            return self.agent_executor.invoke({\"input\": question})"
   ],
   "id": "a52c9a1a",
   "outputs": [],
   "execution_count": 61
  },
  {
   "cell_type": "markdown",
   "id": "a1cf87e8",
   "metadata": {},
   "source": [
    "# Comprehensive RAG"
   ]
  },
  {
   "cell_type": "code",
   "id": "c8b29e31",
   "metadata": {
    "ExecuteTime": {
     "end_time": "2025-05-05T21:45:25.060366Z",
     "start_time": "2025-05-05T21:45:25.055747Z"
    }
   },
   "source": [
    "class ComprehensiveRAGSystem:\n",
    "    def __init__(\n",
    "        self,\n",
    "        embedding_model=\"sentence-transformers/all-MiniLM-L6-v2\",\n",
    "        llm_model=\"gpt-4o\",\n",
    "        milvus_host=\"localhost\",\n",
    "        milvus_port=\"19530\",\n",
    "        collection_name=\"medical_knowledge_base_v2\"\n",
    "    ):\n",
    "        clip_model = CLIPModel.from_pretrained(\"openai/clip-vit-base-patch32\")\n",
    "        clip_proc  = CLIPProcessor.from_pretrained(\"openai/clip-vit-base-patch32\")\n",
    "\n",
    "        embedder = HuggingFaceEmbeddings(model_name=embedding_model)\n",
    "        self.vsm = VectorStoreManager(embedder, milvus_host, milvus_port, collection_name)\n",
    "        self.rag = RAGSystem(self.vsm, model_name=llm_model, clip_model=clip_model, clip_proc=clip_proc)\n",
    "        self.rl = RLFeedbackSystem(self.rag)\n",
    "        self.agent = AgentSystem(self.rag, self.rag.clip_model, self.rag.clip_proc)\n",
    "\n",
    "    def answer_question(self, question: str, use_agent=False):\n",
    "        if use_agent:\n",
    "            return self.agent.process_query(question)[\"output\"]\n",
    "        return self.rag.answer_text(question)[0]\n",
    "\n",
    "    def provide_feedback(self, query, answer, feedback_score):\n",
    "        docs = self.rag.retriever.invoke(query)\n",
    "        self.rl.record_feedback(query, docs, answer, feedback_score)\n"
   ],
   "outputs": [],
   "execution_count": 62
  },
  {
   "cell_type": "markdown",
   "id": "8458b56c",
   "metadata": {},
   "source": [
    "# Run System"
   ]
  },
  {
   "cell_type": "code",
   "id": "23ed93f0",
   "metadata": {
    "ExecuteTime": {
     "end_time": "2025-05-05T21:45:38.477901Z",
     "start_time": "2025-05-05T21:45:25.148966Z"
    }
   },
   "source": [
    "system = ComprehensiveRAGSystem(\n",
    "    embedding_model=\"sentence-transformers/all-MiniLM-L6-v2\",\n",
    "    llm_model=\"gpt-4o\",\n",
    "    milvus_host=\"localhost\",\n",
    "    milvus_port=\"19530\",\n",
    "    collection_name=\"medical_knowledge_base_v2\"\n",
    ")\n",
    "\n",
    "query = \"What are the symptoms of pneumonia?\"\n",
    "rag_answer = system.answer_question(query)\n",
    "print(\"\\n🧠 RAG Answer:\", rag_answer)\n",
    "\n",
    "agent_answer = system.answer_question(query, use_agent=True)\n",
    "print(\"\\n🤖 Agent Answer:\", agent_answer)\n"
   ],
   "outputs": [
    {
     "name": "stderr",
     "output_type": "stream",
     "text": [
      "2025-05-05 16:45:26,433 - INFO - Use pytorch device_name: mps\n",
      "2025-05-05 16:45:26,434 - INFO - Load pretrained SentenceTransformer: sentence-transformers/all-MiniLM-L6-v2\n",
      "2025-05-05 16:45:30,414 - INFO - HTTP Request: POST https://api.openai.com/v1/chat/completions \"HTTP/1.1 200 OK\"\n"
     ]
    },
    {
     "name": "stdout",
     "output_type": "stream",
     "text": [
      "\n",
      "🧠 RAG Answer: Pneumonia is an infection that inflames the air sacs in one or both lungs, which can fill with fluid or pus. The symptoms of pneumonia can vary from mild to severe and may include:\n",
      "\n",
      "1. Cough, which may produce phlegm (mucus)\n",
      "2. Fever, sweating, and chills\n",
      "3. Shortness of breath\n",
      "4. Rapid, shallow breathing\n",
      "5. Sharp or stabbing chest pain that worsens when you breathe deeply or cough\n",
      "6. Loss of appetite, low energy, and fatigue\n",
      "7. Nausea and vomiting, especially in young children\n",
      "8. Confusion, especially in older adults\n",
      "9. Headache\n",
      "10. Muscle pain\n",
      "\n",
      "It's important to seek medical attention if you suspect pneumonia, especially if you have difficulty breathing, chest pain, persistent fever, or a persistent cough.\n",
      "\n",
      "\n",
      "\u001B[1m> Entering new AgentExecutor chain...\u001B[0m\n"
     ]
    },
    {
     "name": "stderr",
     "output_type": "stream",
     "text": [
      "2025-05-05 16:45:30,732 - INFO - HTTP Request: POST https://api.openai.com/v1/chat/completions \"HTTP/1.1 200 OK\"\n"
     ]
    },
    {
     "name": "stdout",
     "output_type": "stream",
     "text": [
      "\u001B[32;1m\u001B[1;3mQuestion: What are the symptoms of pneumonia?\n",
      "Thought: I need to think about how to solve this\n",
      "Action: SearchDocs\n",
      "Action Input: \"symptoms of pneumonia\"\u001B[0m\u001B[36;1m\u001B[1;3m\u001B[0m"
     ]
    },
    {
     "name": "stderr",
     "output_type": "stream",
     "text": [
      "2025-05-05 16:45:31,574 - INFO - HTTP Request: POST https://api.openai.com/v1/chat/completions \"HTTP/1.1 200 OK\"\n"
     ]
    },
    {
     "name": "stdout",
     "output_type": "stream",
     "text": [
      "\u001B[32;1m\u001B[1;3mI have retrieved relevant documents about the symptoms of pneumonia. Now, I need to synthesize this information to provide a comprehensive answer.\n",
      "Action: SynthesizeAnswer\n",
      "Action Input: \"symptoms of pneumonia\"\u001B[0m"
     ]
    },
    {
     "name": "stderr",
     "output_type": "stream",
     "text": [
      "2025-05-05 16:45:36,599 - INFO - HTTP Request: POST https://api.openai.com/v1/chat/completions \"HTTP/1.1 200 OK\"\n"
     ]
    },
    {
     "name": "stdout",
     "output_type": "stream",
     "text": [
      "\u001B[33;1m\u001B[1;3mPneumonia is an infection that inflames the air sacs in one or both lungs, which can fill with fluid or pus. The symptoms of pneumonia can vary from mild to severe and may include:\n",
      "\n",
      "1. **Cough**: Often producing phlegm or mucus.\n",
      "2. **Fever**: Usually high, sometimes with chills.\n",
      "3. **Shortness of Breath**: Difficulty breathing or rapid breathing.\n",
      "4. **Chest Pain**: Sharp or stabbing pain that worsens with deep breathing or coughing.\n",
      "5. **Fatigue**: Feeling very tired or weak.\n",
      "6. **Sweating and Shaking Chills**: Often accompanying fever.\n",
      "7. **Nausea, Vomiting, or Diarrhea**: Sometimes present.\n",
      "8. **Confusion or Changes in Mental Awareness**: Particularly in older adults.\n",
      "9. **Lower than Normal Body Temperature**: Especially in older adults and people with weak immune systems.\n",
      "\n",
      "It's important to seek medical attention if you suspect pneumonia, especially if you have difficulty breathing, chest pain, persistent fever, or a persistent cough.\u001B[0m"
     ]
    },
    {
     "name": "stderr",
     "output_type": "stream",
     "text": [
      "2025-05-05 16:45:36,878 - INFO - HTTP Request: POST https://api.openai.com/v1/chat/completions \"HTTP/1.1 200 OK\"\n"
     ]
    },
    {
     "name": "stdout",
     "output_type": "stream",
     "text": [
      "\u001B[32;1m\u001B[1;3mI now know the final answer. \n",
      "\n",
      "Final Answer: The symptoms of pneumonia can vary from mild to severe and typically include cough (often producing phlegm), fever (usually high, sometimes with chills), shortness of breath, chest pain, fatigue, sweating and shaking chills, nausea, vomiting, or diarrhea, confusion or changes in mental awareness (particularly in older adults), and lower than normal body temperature (especially in older adults and people with weak immune systems). It's important to seek medical attention if you suspect pneumonia, especially if you experience difficulty breathing, chest pain, persistent fever, or a persistent cough.\u001B[0m\n",
      "\n",
      "\u001B[1m> Finished chain.\u001B[0m\n",
      "\n",
      "🤖 Agent Answer: The symptoms of pneumonia can vary from mild to severe and typically include cough (often producing phlegm), fever (usually high, sometimes with chills), shortness of breath, chest pain, fatigue, sweating and shaking chills, nausea, vomiting, or diarrhea, confusion or changes in mental awareness (particularly in older adults), and lower than normal body temperature (especially in older adults and people with weak immune systems). It's important to seek medical attention if you suspect pneumonia, especially if you experience difficulty breathing, chest pain, persistent fever, or a persistent cough.\n"
     ]
    }
   ],
   "execution_count": 63
  },
  {
   "cell_type": "code",
   "id": "e6003bf2",
   "metadata": {
    "ExecuteTime": {
     "end_time": "2025-05-05T21:45:38.563385Z",
     "start_time": "2025-05-05T21:45:38.561201Z"
    }
   },
   "source": [
    "# Activate RL?\n",
    "#system.provide_feedback(query, answer, feedback_score=0.9)"
   ],
   "outputs": [],
   "execution_count": 64
  },
  {
   "metadata": {
    "ExecuteTime": {
     "end_time": "2025-05-05T21:46:15.493584Z",
     "start_time": "2025-05-05T21:46:13.215932Z"
    }
   },
   "cell_type": "code",
   "source": [
    "txt_embedder = HuggingFaceEmbeddings(model_name=\"sentence-transformers/all-MiniLM-L6-v2\")\n",
    "vsm = VectorStoreManager(txt_embedder, \"localhost\", 19530, \"medical_knowledge_base_v2\")\n",
    "\n",
    "clip_model = CLIPModel.from_pretrained(\"openai/clip-vit-base-patch32\")\n",
    "clip_proc  = CLIPProcessor.from_pretrained(\"openai/clip-vit-base-patch32\")\n",
    "\n",
    "ds = load_dataset(\"flaviagiammarino/vqa-rad\", split=\"test\").shuffle(42).select(range(5))\n",
    "data = []\n",
    "for ex in ds:\n",
    "    q, a, img = ex[\"question\"], ex[\"answer\"], ex[\"image\"]  # PIL.Image\n",
    "    qt = \"binary\" if a.lower() in (\"yes\",\"no\") else \"open-ended\"\n",
    "    data.append({\"question\":q,\"answer\":a,\"image\":img,\"qtype\":qt})\n"
   ],
   "id": "6c262c9e1809719",
   "outputs": [
    {
     "name": "stderr",
     "output_type": "stream",
     "text": [
      "2025-05-05 16:46:13,219 - INFO - Use pytorch device_name: mps\n",
      "2025-05-05 16:46:13,220 - INFO - Load pretrained SentenceTransformer: sentence-transformers/all-MiniLM-L6-v2\n"
     ]
    }
   ],
   "execution_count": 66
  },
  {
   "metadata": {
    "ExecuteTime": {
     "end_time": "2025-05-05T21:46:15.520674Z",
     "start_time": "2025-05-05T21:46:15.502790Z"
    }
   },
   "cell_type": "code",
   "source": [
    "rag   = RAGSystem(vsm, clip_model, clip_proc)\n",
    "agent = AgentSystem(rag, clip_model, clip_proc)"
   ],
   "id": "f2e9578b206a5bee",
   "outputs": [],
   "execution_count": 67
  },
  {
   "metadata": {
    "ExecuteTime": {
     "end_time": "2025-05-05T21:46:26.127094Z",
     "start_time": "2025-05-05T21:46:15.603190Z"
    }
   },
   "cell_type": "code",
   "source": [
    "res1 = agent.process_query(\"What are the symptoms of pneumonia?\")\n",
    "print(res1[\"output\"])"
   ],
   "id": "9b737e2139741d8c",
   "outputs": [
    {
     "name": "stdout",
     "output_type": "stream",
     "text": [
      "\n",
      "\n",
      "\u001B[1m> Entering new AgentExecutor chain...\u001B[0m\n"
     ]
    },
    {
     "name": "stderr",
     "output_type": "stream",
     "text": [
      "2025-05-05 16:46:15,991 - INFO - HTTP Request: POST https://api.openai.com/v1/chat/completions \"HTTP/1.1 200 OK\"\n"
     ]
    },
    {
     "name": "stdout",
     "output_type": "stream",
     "text": [
      "\u001B[32;1m\u001B[1;3mQuestion: What are the symptoms of pneumonia?\n",
      "Thought: I need to think about how to solve this\n",
      "Action: SearchDocs\n",
      "Action Input: \"symptoms of pneumonia\"\u001B[0m\u001B[36;1m\u001B[1;3m\u001B[0m"
     ]
    },
    {
     "name": "stderr",
     "output_type": "stream",
     "text": [
      "2025-05-05 16:46:16,545 - INFO - HTTP Request: POST https://api.openai.com/v1/chat/completions \"HTTP/1.1 200 OK\"\n"
     ]
    },
    {
     "name": "stdout",
     "output_type": "stream",
     "text": [
      "\u001B[32;1m\u001B[1;3mI have retrieved relevant documents about the symptoms of pneumonia. Now, I need to synthesize this information to provide a comprehensive answer.\n",
      "Action: SynthesizeAnswer\n",
      "Action Input: \"symptoms of pneumonia\"\u001B[0m"
     ]
    },
    {
     "name": "stderr",
     "output_type": "stream",
     "text": [
      "2025-05-05 16:46:24,032 - INFO - HTTP Request: POST https://api.openai.com/v1/chat/completions \"HTTP/1.1 200 OK\"\n"
     ]
    },
    {
     "name": "stdout",
     "output_type": "stream",
     "text": [
      "\u001B[33;1m\u001B[1;3mPneumonia is an infection that inflames the air sacs in one or both lungs, which can fill with fluid or pus. The symptoms of pneumonia can vary from mild to severe, depending on factors such as the type of germ causing the infection, age, and overall health. Common symptoms include:\n",
      "\n",
      "1. **Cough**: Often producing phlegm or mucus.\n",
      "2. **Fever**: Usually high, sometimes with chills.\n",
      "3. **Shortness of Breath**: Difficulty breathing or rapid breathing.\n",
      "4. **Chest Pain**: Sharp or stabbing pain that worsens with deep breathing or coughing.\n",
      "5. **Fatigue**: Feeling very tired or weak.\n",
      "6. **Sweating and Shaking Chills**: Often accompanying fever.\n",
      "7. **Nausea, Vomiting, or Diarrhea**: Sometimes present, especially in children.\n",
      "8. **Confusion or Changes in Mental Awareness**: Particularly in older adults.\n",
      "9. **Lower than Normal Body Temperature**: Especially in older adults and people with weak immune systems.\n",
      "\n",
      "If you suspect you or someone else has pneumonia, it is important to seek medical attention for proper diagnosis and treatment.\u001B[0m"
     ]
    },
    {
     "name": "stderr",
     "output_type": "stream",
     "text": [
      "2025-05-05 16:46:24,341 - INFO - HTTP Request: POST https://api.openai.com/v1/chat/completions \"HTTP/1.1 200 OK\"\n"
     ]
    },
    {
     "name": "stdout",
     "output_type": "stream",
     "text": [
      "\u001B[32;1m\u001B[1;3mI now know the final answer. \n",
      "\n",
      "Final Answer: The symptoms of pneumonia can vary from mild to severe and include cough (often producing phlegm), fever (usually high, sometimes with chills), shortness of breath, chest pain, fatigue, sweating and shaking chills, nausea, vomiting, or diarrhea, confusion or changes in mental awareness (particularly in older adults), and lower than normal body temperature (especially in older adults and people with weak immune systems). It is important to seek medical attention if pneumonia is suspected.\u001B[0m\n",
      "\n",
      "\u001B[1m> Finished chain.\u001B[0m\n",
      "The symptoms of pneumonia can vary from mild to severe and include cough (often producing phlegm), fever (usually high, sometimes with chills), shortness of breath, chest pain, fatigue, sweating and shaking chills, nausea, vomiting, or diarrhea, confusion or changes in mental awareness (particularly in older adults), and lower than normal body temperature (especially in older adults and people with weak immune systems). It is important to seek medical attention if pneumonia is suspected.\n"
     ]
    }
   ],
   "execution_count": 68
  },
  {
   "metadata": {
    "ExecuteTime": {
     "end_time": "2025-05-05T21:46:26.255308Z",
     "start_time": "2025-05-05T21:46:26.208872Z"
    }
   },
   "cell_type": "code",
   "source": [
    "import re, math, numpy as np\n",
    "from typing import List\n",
    "from sentence_transformers import SentenceTransformer, util\n",
    "from rapidfuzz import fuzz"
   ],
   "id": "13364dc48f28af69",
   "outputs": [],
   "execution_count": 69
  },
  {
   "metadata": {
    "ExecuteTime": {
     "end_time": "2025-05-05T21:46:27.333748Z",
     "start_time": "2025-05-05T21:46:26.332539Z"
    }
   },
   "cell_type": "code",
   "source": [
    "_number_re = re.compile(r\"[-+]?\\d*\\.?\\d+\")\n",
    "_SBERT     = SentenceTransformer(\"sentence-transformers/all-MiniLM-L6-v2\")\n",
    "\n",
    "def _norm(s: str) -> str:\n",
    "    return re.sub(r\"[^\\w\\s]\", \" \", s.lower().strip())\n",
    "\n",
    "def _extract_number(s: str):\n",
    "    m = _number_re.search(s)\n",
    "    return float(m.group()) if m else None\n",
    "\n",
    "def vqa_soft_accuracy(pred: str, ref: str, num_tol: float = 0.05) -> float:\n",
    "    \"\"\"\n",
    "    1) yes/no or categorical → exact match\n",
    "    2) numeric → within ±tol% (floor 0.5 units)\n",
    "    3) short phrase → fuzzy token-set ratio then SBERT cosine\n",
    "    \"\"\"\n",
    "    p, r = _norm(pred), _norm(ref)\n",
    "    # binary / yes-no\n",
    "    if r in {\"yes\", \"no\", \"true\", \"false\"}:\n",
    "        return 1.0 if p == r else 0.0\n",
    "    # numeric\n",
    "    rn, pn = _extract_number(r), _extract_number(p)\n",
    "    if rn is not None and pn is not None:\n",
    "        tol = max(abs(rn) * num_tol, 0.5)\n",
    "        return 1.0 if abs(rn - pn) <= tol else 0.0\n",
    "    # fuzzy for very short\n",
    "    if len(r.split()) <= 4 and fuzz.token_set_ratio(p, r) >= 90:\n",
    "        return 1.0\n",
    "    # SBERT cosine fallback\n",
    "    e1, e2 = _SBERT.encode([pred, ref], convert_to_tensor=True)\n",
    "    return float(util.cos_sim(e1, e2).item())"
   ],
   "id": "ad5054559a65df0e",
   "outputs": [
    {
     "name": "stderr",
     "output_type": "stream",
     "text": [
      "2025-05-05 16:46:26,337 - INFO - Use pytorch device_name: mps\n",
      "2025-05-05 16:46:26,337 - INFO - Load pretrained SentenceTransformer: sentence-transformers/all-MiniLM-L6-v2\n"
     ]
    }
   ],
   "execution_count": 70
  },
  {
   "cell_type": "code",
   "id": "8dadccc0",
   "metadata": {
    "ExecuteTime": {
     "end_time": "2025-05-05T21:46:27.412722Z",
     "start_time": "2025-05-05T21:46:27.410376Z"
    }
   },
   "source": [
    "def compute_bleu(pred: str, ref: str) -> float:\n",
    "        return sacrebleu.corpus_bleu([pred], [[ref]]).score / 100.0"
   ],
   "outputs": [],
   "execution_count": 71
  },
  {
   "metadata": {
    "ExecuteTime": {
     "end_time": "2025-05-05T21:46:27.496092Z",
     "start_time": "2025-05-05T21:46:27.493890Z"
    }
   },
   "cell_type": "code",
   "source": [
    "def compute_exact_match(prediction: str, reference: str) -> float:\n",
    "    return 1.0 if prediction.strip().lower() == reference.strip().lower() else 0.0"
   ],
   "id": "978e61fb72d398df",
   "outputs": [],
   "execution_count": 72
  },
  {
   "metadata": {
    "ExecuteTime": {
     "end_time": "2025-05-05T21:46:27.580599Z",
     "start_time": "2025-05-05T21:46:27.577664Z"
    }
   },
   "cell_type": "code",
   "source": [
    "def compute_recall_at_k(docs: List[Any], gt: str, k: int) -> float:\n",
    "    return float(any(gt.lower() in d.page_content.lower() for d in docs[:k]))"
   ],
   "id": "382f29e63049418d",
   "outputs": [],
   "execution_count": 73
  },
  {
   "metadata": {
    "ExecuteTime": {
     "end_time": "2025-05-05T21:46:27.677219Z",
     "start_time": "2025-05-05T21:46:27.674778Z"
    }
   },
   "cell_type": "code",
   "source": [
    "def run_baseline_llm(rag: RAGSystem, data: List[Dict[str,Any]]):\n",
    "    scores = []\n",
    "    for ex in data:\n",
    "        pred, _ = rag.answer_text(ex[\"question\"])\n",
    "        scores.append(vqa_soft_accuracy(pred, ex[\"answer\"]))\n",
    "    return {\"avg_accuracy\": float(np.mean(scores))}"
   ],
   "id": "a7a01f959ea39fd5",
   "outputs": [],
   "execution_count": 74
  },
  {
   "metadata": {
    "ExecuteTime": {
     "end_time": "2025-05-05T21:46:27.755256Z",
     "start_time": "2025-05-05T21:46:27.752329Z"
    }
   },
   "cell_type": "code",
   "source": [
    "def run_modality_ablation(rag: RAGSystem, data: List[Dict[str,Any]]):\n",
    "    out = {\"text\":[], \"mm\":[]}\n",
    "\n",
    "    for ex in data:\n",
    "        qt, qa, qi = ex[\"question\"], ex[\"answer\"], ex[\"image\"]\n",
    "        p_txt,_ = rag.answer_text(qt)\n",
    "        p_mm,_  = rag.answer_multimodal(qt, qi)\n",
    "        out[\"text\"].append(vqa_soft_accuracy(p_txt, qa))\n",
    "        out[\"mm\"].append(vqa_soft_accuracy(p_mm, qa))\n",
    "\n",
    "    return {\n",
    "        mode: {\"avg_accuracy\": float(np.mean(vals))}\n",
    "        for mode, vals in out.items()\n",
    "    }"
   ],
   "id": "29dfe29b18faa1e6",
   "outputs": [],
   "execution_count": 75
  },
  {
   "metadata": {
    "ExecuteTime": {
     "end_time": "2025-05-05T21:47:13.006972Z",
     "start_time": "2025-05-05T21:46:27.836473Z"
    }
   },
   "cell_type": "code",
   "source": [
    "print(\"Baseline LLM:\", run_baseline_llm(rag, data))\n",
    "print(\"Modality Ablation:\", run_modality_ablation(rag, data))"
   ],
   "id": "fc29b0b5ca50ca9e",
   "outputs": [
    {
     "name": "stderr",
     "output_type": "stream",
     "text": [
      "2025-05-05 16:46:29,017 - INFO - HTTP Request: POST https://api.openai.com/v1/chat/completions \"HTTP/1.1 200 OK\"\n"
     ]
    },
    {
     "data": {
      "text/plain": [
       "Batches:   0%|          | 0/1 [00:00<?, ?it/s]"
      ],
      "application/vnd.jupyter.widget-view+json": {
       "version_major": 2,
       "version_minor": 0,
       "model_id": "76542ffa84c24a858351cbb2b38b1ea3"
      }
     },
     "metadata": {},
     "output_type": "display_data"
    },
    {
     "name": "stderr",
     "output_type": "stream",
     "text": [
      "2025-05-05 16:46:36,701 - INFO - HTTP Request: POST https://api.openai.com/v1/chat/completions \"HTTP/1.1 200 OK\"\n"
     ]
    },
    {
     "data": {
      "text/plain": [
       "Batches:   0%|          | 0/1 [00:00<?, ?it/s]"
      ],
      "application/vnd.jupyter.widget-view+json": {
       "version_major": 2,
       "version_minor": 0,
       "model_id": "b0acde4064c04426a053f46a2cf5c9da"
      }
     },
     "metadata": {},
     "output_type": "display_data"
    },
    {
     "name": "stderr",
     "output_type": "stream",
     "text": [
      "2025-05-05 16:46:39,217 - INFO - HTTP Request: POST https://api.openai.com/v1/chat/completions \"HTTP/1.1 200 OK\"\n",
      "2025-05-05 16:46:40,525 - INFO - HTTP Request: POST https://api.openai.com/v1/chat/completions \"HTTP/1.1 200 OK\"\n",
      "2025-05-05 16:46:42,182 - INFO - HTTP Request: POST https://api.openai.com/v1/chat/completions \"HTTP/1.1 200 OK\"\n"
     ]
    },
    {
     "name": "stdout",
     "output_type": "stream",
     "text": [
      "Baseline LLM: {'avg_accuracy': 0.0816872701048851}\n"
     ]
    },
    {
     "name": "stderr",
     "output_type": "stream",
     "text": [
      "2025-05-05 16:46:44,481 - INFO - HTTP Request: POST https://api.openai.com/v1/chat/completions \"HTTP/1.1 200 OK\"\n",
      "2025-05-05 16:46:46,177 - INFO - HTTP Request: POST https://api.openai.com/v1/chat/completions \"HTTP/1.1 200 OK\"\n"
     ]
    },
    {
     "data": {
      "text/plain": [
       "Batches:   0%|          | 0/1 [00:00<?, ?it/s]"
      ],
      "application/vnd.jupyter.widget-view+json": {
       "version_major": 2,
       "version_minor": 0,
       "model_id": "756d560dca36443cbdfddffbd548bf87"
      }
     },
     "metadata": {},
     "output_type": "display_data"
    },
    {
     "data": {
      "text/plain": [
       "Batches:   0%|          | 0/1 [00:00<?, ?it/s]"
      ],
      "application/vnd.jupyter.widget-view+json": {
       "version_major": 2,
       "version_minor": 0,
       "model_id": "091aaa948fcb41439edaa8e42b019df8"
      }
     },
     "metadata": {},
     "output_type": "display_data"
    },
    {
     "name": "stderr",
     "output_type": "stream",
     "text": [
      "2025-05-05 16:46:52,737 - INFO - HTTP Request: POST https://api.openai.com/v1/chat/completions \"HTTP/1.1 200 OK\"\n",
      "2025-05-05 16:46:58,260 - INFO - HTTP Request: POST https://api.openai.com/v1/chat/completions \"HTTP/1.1 200 OK\"\n"
     ]
    },
    {
     "data": {
      "text/plain": [
       "Batches:   0%|          | 0/1 [00:00<?, ?it/s]"
      ],
      "application/vnd.jupyter.widget-view+json": {
       "version_major": 2,
       "version_minor": 0,
       "model_id": "40ac6d9ef7874c0aa5d6ed4f593f37e2"
      }
     },
     "metadata": {},
     "output_type": "display_data"
    },
    {
     "data": {
      "text/plain": [
       "Batches:   0%|          | 0/1 [00:00<?, ?it/s]"
      ],
      "application/vnd.jupyter.widget-view+json": {
       "version_major": 2,
       "version_minor": 0,
       "model_id": "b33596d3db444ab396cbfaa78c1d9d7e"
      }
     },
     "metadata": {},
     "output_type": "display_data"
    },
    {
     "name": "stderr",
     "output_type": "stream",
     "text": [
      "2025-05-05 16:47:00,686 - INFO - HTTP Request: POST https://api.openai.com/v1/chat/completions \"HTTP/1.1 200 OK\"\n",
      "2025-05-05 16:47:03,707 - INFO - HTTP Request: POST https://api.openai.com/v1/chat/completions \"HTTP/1.1 200 OK\"\n",
      "2025-05-05 16:47:05,030 - INFO - HTTP Request: POST https://api.openai.com/v1/chat/completions \"HTTP/1.1 200 OK\"\n",
      "2025-05-05 16:47:06,426 - INFO - HTTP Request: POST https://api.openai.com/v1/chat/completions \"HTTP/1.1 200 OK\"\n",
      "2025-05-05 16:47:10,148 - INFO - HTTP Request: POST https://api.openai.com/v1/chat/completions \"HTTP/1.1 200 OK\"\n",
      "2025-05-05 16:47:13,003 - INFO - HTTP Request: POST https://api.openai.com/v1/chat/completions \"HTTP/1.1 200 OK\"\n"
     ]
    },
    {
     "name": "stdout",
     "output_type": "stream",
     "text": [
      "Modality Ablation: {'text': {'avg_accuracy': 0.07756358161568641}, 'mm': {'avg_accuracy': 0.07804577872157097}}\n"
     ]
    }
   ],
   "execution_count": 76
  },
  {
   "metadata": {
    "ExecuteTime": {
     "end_time": "2025-05-05T21:51:10.158138Z",
     "start_time": "2025-05-05T21:50:57.731182Z"
    }
   },
   "cell_type": "code",
   "source": [
    "SHORT_PROMPT = \"\"\"\\\n",
    "{context}\n",
    "\n",
    "Question: {question}\n",
    "**Answer in ≤4 words.\n",
    "If yes/no, output only yes or no.\n",
    "If numeric, output only the number.**\"\"\"\n",
    "\n",
    "rag.prompt = ChatPromptTemplate.from_template(SHORT_PROMPT)\n",
    "\n",
    "scores = run_baseline_llm(rag, data)          # expect jump from ~0.08 → >0.3\n",
    "print(scores)"
   ],
   "id": "a437b3776b2c2d6",
   "outputs": [
    {
     "name": "stderr",
     "output_type": "stream",
     "text": [
      "2025-05-05 16:50:59,561 - INFO - HTTP Request: POST https://api.openai.com/v1/chat/completions \"HTTP/1.1 200 OK\"\n"
     ]
    },
    {
     "data": {
      "text/plain": [
       "Batches:   0%|          | 0/1 [00:00<?, ?it/s]"
      ],
      "application/vnd.jupyter.widget-view+json": {
       "version_major": 2,
       "version_minor": 0,
       "model_id": "7564c0bf440d41a3ac7618f13e1f731e"
      }
     },
     "metadata": {},
     "output_type": "display_data"
    },
    {
     "name": "stderr",
     "output_type": "stream",
     "text": [
      "2025-05-05 16:51:03,748 - INFO - HTTP Request: POST https://api.openai.com/v1/chat/completions \"HTTP/1.1 200 OK\"\n"
     ]
    },
    {
     "data": {
      "text/plain": [
       "Batches:   0%|          | 0/1 [00:00<?, ?it/s]"
      ],
      "application/vnd.jupyter.widget-view+json": {
       "version_major": 2,
       "version_minor": 0,
       "model_id": "6c5908bb841044309cd9cb318062e8e6"
      }
     },
     "metadata": {},
     "output_type": "display_data"
    },
    {
     "name": "stderr",
     "output_type": "stream",
     "text": [
      "2025-05-05 16:51:06,015 - INFO - HTTP Request: POST https://api.openai.com/v1/chat/completions \"HTTP/1.1 200 OK\"\n",
      "2025-05-05 16:51:07,382 - INFO - HTTP Request: POST https://api.openai.com/v1/chat/completions \"HTTP/1.1 200 OK\"\n",
      "2025-05-05 16:51:10,150 - INFO - HTTP Request: POST https://api.openai.com/v1/chat/completions \"HTTP/1.1 200 OK\"\n"
     ]
    },
    {
     "name": "stdout",
     "output_type": "stream",
     "text": [
      "{'avg_accuracy': 0.07649514973163604}\n"
     ]
    }
   ],
   "execution_count": 80
  },
  {
   "metadata": {
    "ExecuteTime": {
     "end_time": "2025-05-05T21:47:13.122232Z",
     "start_time": "2025-05-05T21:47:13.118093Z"
    }
   },
   "cell_type": "code",
   "source": [
    "def run_prompt_refinement(rag: RAGSystem, data: List[Dict[str,Any]], max_iter=2):\n",
    "    results = {i:[] for i in range(max_iter+1)}\n",
    "    for ex in data:\n",
    "        q, a, img = ex[\"question\"], ex[\"answer\"], ex[\"image\"]\n",
    "        ans0, docs = rag.answer_multimodal(q, img)\n",
    "        ctx = \"\\n\\n\".join(d.page_content for d in docs)\n",
    "        prev = ans0\n",
    "\n",
    "        for i in range(max_iter+1):\n",
    "            if i>0:\n",
    "                prompt = (\n",
    "                    f\"Context:\\n{ctx}\\nQuestion: {q}\\n\"\n",
    "                    f\"Your previous answer: {prev}\\nPlease improve.\"\n",
    "                )\n",
    "                gen = rag.llm.invoke(prompt)\n",
    "                prev = gen.content if hasattr(gen, \"content\") else str(gen)\n",
    "            results[i].append(vqa_soft_accuracy(prev, a))\n",
    "\n",
    "    return {\n",
    "        i: {\"avg_accuracy\": float(np.mean(scores))}\n",
    "        for i, scores in results.items()\n",
    "    }"
   ],
   "id": "7c3b0bc428003985",
   "outputs": [],
   "execution_count": 77
  },
  {
   "metadata": {
    "ExecuteTime": {
     "end_time": "2025-05-05T21:47:13.211037Z",
     "start_time": "2025-05-05T21:47:13.208521Z"
    }
   },
   "cell_type": "code",
   "source": [
    "def run_zero_shot(rag: RAGSystem, data: List[Dict[str,Any]], qtype: str):\n",
    "    subset = [ex for ex in data if ex[\"qtype\"]==qtype]\n",
    "    scores = []\n",
    "\n",
    "    for ex in subset:\n",
    "        pred, _ = rag.answer_multimodal(ex[\"question\"], ex[\"image\"])\n",
    "        scores.append(vqa_soft_accuracy(pred, ex[\"answer\"]))\n",
    "\n",
    "    return {\"avg_accuracy\": float(np.mean(scores))}"
   ],
   "id": "3dd35a150bf2b7c4",
   "outputs": [],
   "execution_count": 78
  },
  {
   "metadata": {
    "ExecuteTime": {
     "end_time": "2025-05-05T21:48:14.114490Z",
     "start_time": "2025-05-05T21:47:13.392580Z"
    }
   },
   "cell_type": "code",
   "source": [
    "print(\"Prompt Refinement:\", run_prompt_refinement(rag, data, max_iter=2))\n",
    "print(\"Zero-Shot (binary):\", run_zero_shot(rag, data, \"binary\"))\n",
    "print(\"Zero-Shot (open-ended):\", run_zero_shot(rag, data, \"open-ended\"))"
   ],
   "id": "bdb2648de83955f0",
   "outputs": [
    {
     "name": "stderr",
     "output_type": "stream",
     "text": [
      "2025-05-05 16:47:15,847 - INFO - HTTP Request: POST https://api.openai.com/v1/chat/completions \"HTTP/1.1 200 OK\"\n"
     ]
    },
    {
     "data": {
      "text/plain": [
       "Batches:   0%|          | 0/1 [00:00<?, ?it/s]"
      ],
      "application/vnd.jupyter.widget-view+json": {
       "version_major": 2,
       "version_minor": 0,
       "model_id": "d1effcc7a149449a80acd288db8c3b5b"
      }
     },
     "metadata": {},
     "output_type": "display_data"
    },
    {
     "name": "stderr",
     "output_type": "stream",
     "text": [
      "2025-05-05 16:47:17,719 - INFO - HTTP Request: POST https://api.openai.com/v1/chat/completions \"HTTP/1.1 200 OK\"\n"
     ]
    },
    {
     "data": {
      "text/plain": [
       "Batches:   0%|          | 0/1 [00:00<?, ?it/s]"
      ],
      "application/vnd.jupyter.widget-view+json": {
       "version_major": 2,
       "version_minor": 0,
       "model_id": "4c10e07af3044fef8e00bbae0bddec8f"
      }
     },
     "metadata": {},
     "output_type": "display_data"
    },
    {
     "name": "stderr",
     "output_type": "stream",
     "text": [
      "2025-05-05 16:47:19,342 - INFO - HTTP Request: POST https://api.openai.com/v1/chat/completions \"HTTP/1.1 200 OK\"\n"
     ]
    },
    {
     "data": {
      "text/plain": [
       "Batches:   0%|          | 0/1 [00:00<?, ?it/s]"
      ],
      "application/vnd.jupyter.widget-view+json": {
       "version_major": 2,
       "version_minor": 0,
       "model_id": "1456024c6fdc49a5870a16400a4f8826"
      }
     },
     "metadata": {},
     "output_type": "display_data"
    },
    {
     "name": "stderr",
     "output_type": "stream",
     "text": [
      "2025-05-05 16:47:24,400 - INFO - HTTP Request: POST https://api.openai.com/v1/chat/completions \"HTTP/1.1 200 OK\"\n"
     ]
    },
    {
     "data": {
      "text/plain": [
       "Batches:   0%|          | 0/1 [00:00<?, ?it/s]"
      ],
      "application/vnd.jupyter.widget-view+json": {
       "version_major": 2,
       "version_minor": 0,
       "model_id": "cee5088b62e148ccb6f22d319c909429"
      }
     },
     "metadata": {},
     "output_type": "display_data"
    },
    {
     "name": "stderr",
     "output_type": "stream",
     "text": [
      "2025-05-05 16:47:31,205 - INFO - HTTP Request: POST https://api.openai.com/v1/chat/completions \"HTTP/1.1 200 OK\"\n"
     ]
    },
    {
     "data": {
      "text/plain": [
       "Batches:   0%|          | 0/1 [00:00<?, ?it/s]"
      ],
      "application/vnd.jupyter.widget-view+json": {
       "version_major": 2,
       "version_minor": 0,
       "model_id": "f1568c8b20004b9b8b1d919deb98bdbf"
      }
     },
     "metadata": {},
     "output_type": "display_data"
    },
    {
     "name": "stderr",
     "output_type": "stream",
     "text": [
      "2025-05-05 16:47:39,484 - INFO - HTTP Request: POST https://api.openai.com/v1/chat/completions \"HTTP/1.1 200 OK\"\n"
     ]
    },
    {
     "data": {
      "text/plain": [
       "Batches:   0%|          | 0/1 [00:00<?, ?it/s]"
      ],
      "application/vnd.jupyter.widget-view+json": {
       "version_major": 2,
       "version_minor": 0,
       "model_id": "ab4c47b9f66340d2a3e1b96c253be32f"
      }
     },
     "metadata": {},
     "output_type": "display_data"
    },
    {
     "name": "stderr",
     "output_type": "stream",
     "text": [
      "2025-05-05 16:47:41,568 - INFO - HTTP Request: POST https://api.openai.com/v1/chat/completions \"HTTP/1.1 200 OK\"\n",
      "2025-05-05 16:47:43,501 - INFO - HTTP Request: POST https://api.openai.com/v1/chat/completions \"HTTP/1.1 200 OK\"\n",
      "2025-05-05 16:47:45,461 - INFO - HTTP Request: POST https://api.openai.com/v1/chat/completions \"HTTP/1.1 200 OK\"\n",
      "2025-05-05 16:47:47,170 - INFO - HTTP Request: POST https://api.openai.com/v1/chat/completions \"HTTP/1.1 200 OK\"\n",
      "2025-05-05 16:47:49,335 - INFO - HTTP Request: POST https://api.openai.com/v1/chat/completions \"HTTP/1.1 200 OK\"\n",
      "2025-05-05 16:47:53,408 - INFO - HTTP Request: POST https://api.openai.com/v1/chat/completions \"HTTP/1.1 200 OK\"\n",
      "2025-05-05 16:47:55,927 - INFO - HTTP Request: POST https://api.openai.com/v1/chat/completions \"HTTP/1.1 200 OK\"\n",
      "2025-05-05 16:47:57,556 - INFO - HTTP Request: POST https://api.openai.com/v1/chat/completions \"HTTP/1.1 200 OK\"\n",
      "2025-05-05 16:47:58,654 - INFO - HTTP Request: POST https://api.openai.com/v1/chat/completions \"HTTP/1.1 200 OK\"\n"
     ]
    },
    {
     "name": "stdout",
     "output_type": "stream",
     "text": [
      "Prompt Refinement: {0: {'avg_accuracy': 0.06146879494190216}, 1: {'avg_accuracy': 0.07250726372003555}, 2: {'avg_accuracy': 0.07340931445360184}}\n"
     ]
    },
    {
     "name": "stderr",
     "output_type": "stream",
     "text": [
      "2025-05-05 16:48:01,588 - INFO - HTTP Request: POST https://api.openai.com/v1/chat/completions \"HTTP/1.1 200 OK\"\n",
      "2025-05-05 16:48:03,136 - INFO - HTTP Request: POST https://api.openai.com/v1/chat/completions \"HTTP/1.1 200 OK\"\n",
      "2025-05-05 16:48:06,036 - INFO - HTTP Request: POST https://api.openai.com/v1/chat/completions \"HTTP/1.1 200 OK\"\n"
     ]
    },
    {
     "name": "stdout",
     "output_type": "stream",
     "text": [
      "Zero-Shot (binary): {'avg_accuracy': 0.0}\n"
     ]
    },
    {
     "name": "stderr",
     "output_type": "stream",
     "text": [
      "2025-05-05 16:48:08,155 - INFO - HTTP Request: POST https://api.openai.com/v1/chat/completions \"HTTP/1.1 200 OK\"\n"
     ]
    },
    {
     "data": {
      "text/plain": [
       "Batches:   0%|          | 0/1 [00:00<?, ?it/s]"
      ],
      "application/vnd.jupyter.widget-view+json": {
       "version_major": 2,
       "version_minor": 0,
       "model_id": "f8ac322d5c2b49acbe5d72dabdfea244"
      }
     },
     "metadata": {},
     "output_type": "display_data"
    },
    {
     "name": "stderr",
     "output_type": "stream",
     "text": [
      "2025-05-05 16:48:14,042 - INFO - HTTP Request: POST https://api.openai.com/v1/chat/completions \"HTTP/1.1 200 OK\"\n"
     ]
    },
    {
     "data": {
      "text/plain": [
       "Batches:   0%|          | 0/1 [00:00<?, ?it/s]"
      ],
      "application/vnd.jupyter.widget-view+json": {
       "version_major": 2,
       "version_minor": 0,
       "model_id": "59db44d4d6e5464aba06ed8c50d933c6"
      }
     },
     "metadata": {},
     "output_type": "display_data"
    },
    {
     "name": "stdout",
     "output_type": "stream",
     "text": [
      "Zero-Shot (open-ended): {'avg_accuracy': 0.18615511618554592}\n"
     ]
    }
   ],
   "execution_count": 79
  },
  {
   "metadata": {
    "ExecuteTime": {
     "end_time": "2025-05-05T21:48:14.230373Z",
     "start_time": "2025-05-05T21:48:14.228280Z"
    }
   },
   "cell_type": "code",
   "source": "",
   "id": "7f4ddcd6b1bbb07f",
   "outputs": [],
   "execution_count": null
  },
  {
   "metadata": {},
   "cell_type": "code",
   "outputs": [],
   "execution_count": null,
   "source": "",
   "id": "302ac1eca9df40ac"
  },
  {
   "metadata": {},
   "cell_type": "code",
   "outputs": [],
   "execution_count": null,
   "source": "",
   "id": "16fd386239198bb1"
  }
 ],
 "metadata": {
  "kernelspec": {
   "display_name": "capstone",
   "language": "python",
   "name": "python3"
  },
  "language_info": {
   "codemirror_mode": {
    "name": "ipython",
    "version": 3
   },
   "file_extension": ".py",
   "mimetype": "text/x-python",
   "name": "python",
   "nbconvert_exporter": "python",
   "pygments_lexer": "ipython3",
   "version": "3.10.16"
  }
 },
 "nbformat": 4,
 "nbformat_minor": 5
}
