{
 "cells": [
  {
   "cell_type": "markdown",
   "id": "a83e6795",
   "metadata": {},
   "source": [
    "1. Reconnect to Milvus\n",
    "\n",
    "2. Recreate the same embedder (for query embedding only)\n",
    "\n",
    "3. Point LangChain’s Milvus wrapper at the existing collection\n",
    "\n",
    "4. Use that as your retriever"
   ]
  },
  {
   "cell_type": "code",
   "execution_count": 117,
   "id": "13e5b169",
   "metadata": {},
   "outputs": [],
   "source": [
    "from pymilvus import connections\n",
    "from langchain_huggingface import HuggingFaceEmbeddings\n",
    "from langchain_community.vectorstores import Milvus"
   ]
  },
  {
   "cell_type": "markdown",
   "id": "6fd613b7",
   "metadata": {},
   "source": [
    "# Set-Up"
   ]
  },
  {
   "cell_type": "code",
   "execution_count": 118,
   "id": "b7911ebc",
   "metadata": {},
   "outputs": [
    {
     "name": "stderr",
     "output_type": "stream",
     "text": [
      "2025-05-04 16:35:45,640 - INFO - Use pytorch device_name: mps\n",
      "2025-05-04 16:35:45,641 - INFO - Load pretrained SentenceTransformer: sentence-transformers/all-MiniLM-L6-v2\n"
     ]
    }
   ],
   "source": [
    "# Reconnect\n",
    "connections.connect(host=\"localhost\", port=\"19530\")\n",
    "\n",
    "# Reuse embedding model\n",
    "embedder = HuggingFaceEmbeddings(model_name=\"sentence-transformers/all-MiniLM-L6-v2\")\n",
    "\n",
    "# Connect to existing collection\n",
    "vector_store = Milvus(\n",
    "    embedding_function=embedder,\n",
    "    collection_name=\"medical_knowledge_base_v2\",\n",
    "    connection_args={\"host\": \"localhost\", \"port\": \"19530\"}\n",
    ")\n",
    "\n",
    "# Build retriever\n",
    "retriever = vector_store.as_retriever(search_kwargs={\"k\": 5})"
   ]
  },
  {
   "cell_type": "code",
   "execution_count": 119,
   "id": "a5c60eda",
   "metadata": {},
   "outputs": [
    {
     "data": {
      "text/plain": [
       "True"
      ]
     },
     "execution_count": 119,
     "metadata": {},
     "output_type": "execute_result"
    }
   ],
   "source": [
    "import logging\n",
    "import numpy as np\n",
    "from typing import List, Any, Dict, Optional, Tuple\n",
    "\n",
    "from pymilvus import connections\n",
    "from langchain_huggingface import HuggingFaceEmbeddings\n",
    "from langchain_community.vectorstores import Milvus\n",
    "from langchain_openai import ChatOpenAI\n",
    "from langchain_core.prompts import ChatPromptTemplate, PromptTemplate\n",
    "from langchain_core.output_parsers import StrOutputParser\n",
    "from langchain_core.runnables import RunnablePassthrough\n",
    "from langchain.agents import AgentExecutor, create_react_agent, AgentType, initialize_agent\n",
    "from langchain.tools import Tool\n",
    "\n",
    "\n",
    "# Set up logging\n",
    "logging.basicConfig(level=logging.INFO, format=\"%(asctime)s - %(levelname)s - %(message)s\")\n",
    "logger = logging.getLogger(__name__)\n",
    "\n",
    "# Open AI Key\n",
    "from dotenv import load_dotenv\n",
    "from pathlib import Path\n",
    "env_path = Path('/Users/brunamedeiros/Documents/University of Chicago/Spring 2025 - Capstone I/Assignment Research 1 - Agents/.env')\n",
    "load_dotenv(dotenv_path=env_path)\n",
    "# print(os.getenv(\"OPENAI_API_KEY\"))\n"
   ]
  },
  {
   "cell_type": "markdown",
   "id": "f1eb02a1",
   "metadata": {},
   "source": [
    "# RL"
   ]
  },
  {
   "cell_type": "code",
   "execution_count": 120,
   "id": "f8864411",
   "metadata": {},
   "outputs": [],
   "source": [
    "class RLFeedbackSystem:\n",
    "    def __init__(self, rag_system):\n",
    "        self.rag_system = rag_system\n",
    "        self.feedback_history = []\n",
    "        self.exploration_rate = 0.2\n",
    "        self.min_k = 3\n",
    "        self.max_k = 10\n",
    "\n",
    "    def record_feedback(self, query: str, retrieved_docs: List[Any], answer: str, feedback_score: float):\n",
    "        self.feedback_history.append({\n",
    "            \"query\": query,\n",
    "            \"docs\": retrieved_docs,\n",
    "            \"answer\": answer,\n",
    "            \"score\": feedback_score,\n",
    "            \"params\": self.rag_system.retrieval_params.copy()\n",
    "        })\n",
    "\n",
    "        if len(self.feedback_history) % 10 == 0:\n",
    "            self._update_parameters()\n",
    "\n",
    "    def _update_parameters(self):\n",
    "        if len(self.feedback_history) < 10:\n",
    "            return\n",
    "\n",
    "        recent = self.feedback_history[-10:]\n",
    "        avg = sum(item[\"score\"] for item in recent) / 10\n",
    "        current_k = self.rag_system.retrieval_params.get(\"k\", 5)\n",
    "\n",
    "        if np.random.random() < self.exploration_rate:\n",
    "            new_k = np.random.randint(self.min_k, self.max_k + 1)\n",
    "        elif avg < 0.6:\n",
    "            new_k = min(current_k + 1, self.max_k)\n",
    "        elif avg > 0.8:\n",
    "            new_k = max(current_k - 1, self.min_k)\n",
    "        else:\n",
    "            new_k = current_k\n",
    "\n",
    "        self.rag_system.update_retrieval_params({\"k\": new_k})\n"
   ]
  },
  {
   "cell_type": "markdown",
   "id": "63e31f84",
   "metadata": {},
   "source": [
    "# Agent"
   ]
  },
  {
   "cell_type": "code",
   "execution_count": 121,
   "id": "a52c9a1a",
   "metadata": {},
   "outputs": [],
   "source": [
    "class AgentSystem:\n",
    "    def __init__(self, rag_system):\n",
    "        self.rag_system = rag_system\n",
    "\n",
    "        self.tools = [\n",
    "            Tool(\n",
    "                name=\"SearchDocs\",\n",
    "                description=\"Retrieve documents from the knowledge base\",\n",
    "                func=self._search_docs\n",
    "            ),\n",
    "            Tool(\n",
    "                name=\"SynthesizeAnswer\",\n",
    "                description=\"Generate a final answer from retrieved documents\",\n",
    "                func=self._synthesize_answer\n",
    "            )\n",
    "        ]\n",
    "\n",
    "        prompt_template = PromptTemplate(\n",
    "            input_variables=[\"input\", \"agent_scratchpad\", \"tools\", \"tool_names\"],\n",
    "            template=\"\"\"You are an intelligent agent using tools to answer questions.\n",
    "\n",
    "Tools:\n",
    "{tools}\n",
    "\n",
    "Use this format:\n",
    "Question: {input}\n",
    "Thought: I need to think about how to solve this\n",
    "Action: the action to take, should be one of [{tool_names}]\n",
    "Action Input: the input to the action\n",
    "Observation: the result of the action\n",
    "... (this Thought/Action/Action Input/Observation can repeat N times)\n",
    "Thought: I now know the final answer\n",
    "Final Answer: the final answer to the original input question\n",
    "\n",
    "{agent_scratchpad}\"\"\"\n",
    ")\n",
    "\n",
    "        self.agent = create_react_agent(\n",
    "            llm=self.rag_system.llm,\n",
    "            tools=self.tools,\n",
    "            prompt=prompt_template\n",
    "        )\n",
    "        self.agent_executor = AgentExecutor(\n",
    "            agent=self.agent,\n",
    "            tools=self.tools,\n",
    "            verbose=True,\n",
    "            max_iterations=10,\n",
    "            max_execution_time=60.0\n",
    "        )\n",
    "\n",
    "    def _search_docs(self, query: str) -> str:\n",
    "        docs = self.rag_system.retriever.invoke(query)\n",
    "        return \"\\n\\n\".join([d.page_content for d in docs])\n",
    "\n",
    "    def _synthesize_answer(self, _: str) -> str:\n",
    "        answer, _ = self.rag_system.answer_question(query)\n",
    "        return answer\n",
    "\n",
    "    def process_query(self, query: str) -> Dict[str, Any]:\n",
    "        self.last_query = query\n",
    "        return self.agent_executor.invoke({\"input\": query})\n"
   ]
  },
  {
   "cell_type": "markdown",
   "id": "7e57fc41",
   "metadata": {},
   "source": [
    "# Vector Store Manager"
   ]
  },
  {
   "cell_type": "code",
   "execution_count": 122,
   "id": "b60e1349",
   "metadata": {},
   "outputs": [],
   "source": [
    "class VectorStoreManager:\n",
    "    def __init__(self, embedder, host, port, collection_name):\n",
    "        connections.connect(host=host, port=port)\n",
    "        self.vector_store = Milvus(\n",
    "            embedding_function=embedder,\n",
    "            collection_name=collection_name,\n",
    "            connection_args={\"host\": host, \"port\": port}\n",
    "        )\n",
    "\n",
    "    def get_retriever(self, search_kwargs=None):\n",
    "        if search_kwargs is None:\n",
    "            search_kwargs = {\"k\": 5}\n",
    "        return self.vector_store.as_retriever(search_kwargs=search_kwargs)\n"
   ]
  },
  {
   "cell_type": "markdown",
   "id": "d35bf8f2",
   "metadata": {},
   "source": [
    "# RAG"
   ]
  },
  {
   "cell_type": "code",
   "execution_count": 123,
   "id": "60d74dd3",
   "metadata": {},
   "outputs": [],
   "source": [
    "class RAGSystem:\n",
    "    def __init__(self, vector_store_manager, model_name=\"gpt-4o\", temperature=0.1):\n",
    "        self.llm = ChatOpenAI(model=model_name, temperature=temperature)\n",
    "        self.vector_store_manager = vector_store_manager\n",
    "        self.retrieval_params = {\"k\": 5}\n",
    "        self.retriever = self.vector_store_manager.get_retriever(self.retrieval_params)\n",
    "\n",
    "        self.prompt = ChatPromptTemplate.from_template(\"\"\"\n",
    "        You are a helpful assistant. Use the context below to answer the question.\n",
    "        Context:\n",
    "        {context}\n",
    "\n",
    "        Question: {question}\n",
    "        \"\"\")\n",
    "        self.chain = (\n",
    "            {\"context\": self.retriever, \"question\": RunnablePassthrough()}\n",
    "            | self.prompt\n",
    "            | self.llm\n",
    "            | StrOutputParser()\n",
    "        )\n",
    "\n",
    "    def answer_question(self, question: str):\n",
    "        docs = self.retriever.invoke(question)\n",
    "        answer = self.chain.invoke(question)\n",
    "        return answer, docs\n",
    "\n",
    "    def update_retrieval_params(self, params):\n",
    "        self.retrieval_params.update(params)\n",
    "        self.retriever = self.vector_store_manager.get_retriever(self.retrieval_params)\n"
   ]
  },
  {
   "cell_type": "markdown",
   "id": "a1cf87e8",
   "metadata": {},
   "source": [
    "# Comprehensive RAG"
   ]
  },
  {
   "cell_type": "code",
   "execution_count": 124,
   "id": "c8b29e31",
   "metadata": {},
   "outputs": [],
   "source": [
    "class ComprehensiveRAGSystem:\n",
    "    def __init__(\n",
    "        self,\n",
    "        embedding_model=\"sentence-transformers/all-MiniLM-L6-v2\",\n",
    "        llm_model=\"gpt-4o\",\n",
    "        milvus_host=\"localhost\",\n",
    "        milvus_port=\"19530\",\n",
    "        collection_name=\"medical_knowledge_base_v2\"\n",
    "    ):\n",
    "        embedder = HuggingFaceEmbeddings(model_name=embedding_model)\n",
    "        self.vsm = VectorStoreManager(embedder, milvus_host, milvus_port, collection_name)\n",
    "        self.rag = RAGSystem(self.vsm, model_name=llm_model)\n",
    "        self.rl = RLFeedbackSystem(self.rag)\n",
    "        self.agent = AgentSystem(self.rag)\n",
    "\n",
    "    def answer_question(self, question: str, use_agent=False):\n",
    "        if use_agent:\n",
    "            return self.agent.process_query(question)[\"output\"]\n",
    "        return self.rag.answer_question(question)[0]\n",
    "\n",
    "    def provide_feedback(self, query, answer, feedback_score):\n",
    "        docs = self.rag.retriever.invoke(query)\n",
    "        self.rl.record_feedback(query, docs, answer, feedback_score)\n"
   ]
  },
  {
   "cell_type": "markdown",
   "id": "8458b56c",
   "metadata": {},
   "source": [
    "# Run System"
   ]
  },
  {
   "cell_type": "code",
   "execution_count": 125,
   "id": "23ed93f0",
   "metadata": {},
   "outputs": [
    {
     "name": "stderr",
     "output_type": "stream",
     "text": [
      "2025-05-04 16:35:48,019 - INFO - Use pytorch device_name: mps\n",
      "2025-05-04 16:35:48,019 - INFO - Load pretrained SentenceTransformer: sentence-transformers/all-MiniLM-L6-v2\n",
      "2025-05-04 16:35:51,583 - INFO - HTTP Request: POST https://api.openai.com/v1/chat/completions \"HTTP/1.1 200 OK\"\n"
     ]
    },
    {
     "name": "stdout",
     "output_type": "stream",
     "text": [
      "🧠 RAG Answer: The provided context does not specifically mention the symptoms of pneumonia. However, common symptoms of pneumonia generally include cough, fever, chills, difficulty breathing, chest pain, and fatigue. If you need detailed information about pneumonia, it would be best to consult a medical resource or healthcare professional.\n",
      "\n",
      "\n",
      "\u001b[1m> Entering new AgentExecutor chain...\u001b[0m\n"
     ]
    },
    {
     "name": "stderr",
     "output_type": "stream",
     "text": [
      "2025-05-04 16:35:52,246 - INFO - HTTP Request: POST https://api.openai.com/v1/chat/completions \"HTTP/1.1 200 OK\"\n"
     ]
    },
    {
     "name": "stdout",
     "output_type": "stream",
     "text": [
      "\u001b[32;1m\u001b[1;3mQuestion: What are the symptoms of pneumonia?\n",
      "Thought: I need to think about how to solve this by retrieving relevant documents about pneumonia symptoms.\n",
      "Action: SearchDocs\n",
      "Action Input: \"symptoms of pneumonia\"\u001b[0m\u001b[36;1m\u001b[1;3msyndrome)\n",
      "○Pathogenesis (nontraumatic)\n",
      "– Stress or adrenal tumor → increased ACTH →\n",
      "increased arterial blood flow + limited venous\n",
      "drainage → hemorrhage\n",
      "– Coagulopathies →  venous stasis → thrombosis →\n",
      "hemorrhage\n",
      "• Associated abnormalities\n",
      "○Adrenal or renal vein thrombosis\n",
      "○Adrenal tumor, hemorrhagic disorders\n",
      "Microscopic Features\n",
      "• Necrosis of all 3 cortical layers + medullary cells\n",
      "CLINICAL ISSUES\n",
      "Presentation\n",
      "• Most common signs/symptoms\n",
      "○Nonspecific: Abdominal, lumbar, thoracic pain\n",
      "○Fever, tachycardia, hypotension\n",
      "○Acute adrenal insufficiency\n",
      "– Fatigue, anorexia, nausea, and vomiting\n",
      "○Acute abdomen\n",
      "– Guarding, rigidity, rebound tenderness\n",
      "○Confusion, disorientation, shock in late phase\n",
      "○Symptoms of associated underlying conditions (e.g.,\n",
      "tumor)\n",
      "○Rarely asymptomatic; may be incidental finding (imaging)\n",
      "○Waterhouse-Friderichsen syndrome: Skin rash, cough,\n",
      "headache, dizziness, arthralgias, and myalgias\n",
      "– Due to septicemia, especially with meningococcal\n",
      "organisms\n",
      "• Lab data\n",
      "\n",
      "• Clinical manifestation\n",
      "○Pyelonephritis, flank pain, fever\n",
      "○Renal colic secondary to \"fungus ball\"\n",
      "• Treatment\n",
      "○Systemic antifungal\n",
      "○Percutaneous nephrostomy with extraction\n",
      "Pneumocystis carinii\n",
      "• Most common opportunistic infection in HIV patients\n",
      "• Opportunistic infections in patients with HIV/AIDS seen\n",
      "with CD4 < 200\n",
      "• Renal involvement is uncommon\n",
      "○Almost always associated with Pneumocystis pneumonia\n",
      "• CT: Punctate cortical calcification in healing phase\n",
      "○Diffuse or ill-defined hypodense lesions in acute phase\n",
      "• US: Multiple focal areas of ↑ echogenicity in cortex and\n",
      "medulla\n",
      "• Pathology: Areas of tubular destruction with focal\n",
      "calcifications in cortex\n",
      "Aspergillosis\n",
      "• Rare\n",
      "• Immunocompromised subjects\n",
      "• Etiology: Aspergillus fumigatus and Aspergillus flavus\n",
      "• Imaging findings\n",
      "○Filling defects within dilated collecting system (\"fungus\n",
      "balls\")\n",
      "○Renal aspergilloma (pseudotumor)\n",
      "○Uni- or bilateral\n",
      "○Multiple abscesses within kidney, with possible extension\n",
      "into perirenal space\n",
      "\n",
      "Kidney and Renal Pelvis\n",
      "162\n",
      "Opportunistic Renal Infections\n",
      "KEY FACTS\n",
      "TERMINOLOGY\n",
      "• Renal involvement by unusual infections in\n",
      "immunocompromised or debilitated host\n",
      "IMAGING\n",
      "• CT or ultrasound\n",
      "TOP DIFFERENTIAL DIAGNOSES\n",
      "• Candidiasis\n",
      "○Multiple, low-attenuation, nonenhancing lesions with\n",
      "hydronephrosis on CT\n",
      "○Nonenhancing filling defect within collecting system on\n",
      "CT\n",
      "• Pneumocystis carinii\n",
      "○Punctate cortical calcifications in healing phase\n",
      "○Multiple focal areas of ↑ echogenicity in cortex and\n",
      "medulla\n",
      "• Aspergillosis\n",
      "○Immunocompromised patients\n",
      "○Filling defects (\"fungus balls\") within dilated collecting\n",
      "system\n",
      "○Renal aspergilloma (pseudotumor)\n",
      "• Tuberculosis\n",
      "○Hematogenous spread of!Mycobacterium tuberculosis\n",
      "○4-8% of patients with pulmonary disease\n",
      "○Strictures (ureter, infundibulum, pelvis)\n",
      "○Caliectasis; hydronephrosis\n",
      "○Calcifications (punctate, linear, curvilinear, diffuse)\n",
      "• Mucormycosis\n",
      "○Renal infarction\n",
      "○Thrombosis of renal vessels\n",
      "DIAGNOSTIC CHECKLIST\n",
      "\n",
      "• Most respond to antibiotic therapy\n",
      "○Empiric antibiotic choice based upon patient age\n",
      "– Prepubescent, middle-aged males: Coliform bacteria\n",
      "– Patients 14-35 years of age: Gonococcus/chlamydia\n",
      "DIAGNOSTIC CHECKLIST\n",
      "• Consider repeat ultrasound if no clinical improvement with\n",
      "empiric antibiotic therapy\n",
      "• Assess for complications (testicular abscess, infarction) or\n",
      "atypical infection (mycobacterium)\n",
      "(Left) Sagittal grayscale\n",
      "ultrasound of the scrotum in a\n",
      "19-year-old male presenting\n",
      "with fever and acute scrotal\n",
      "pain demonstrates linear\n",
      "strands of pus ﬅ within the\n",
      "tunica vaginalis, consistent\n",
      "with a pyocele. (Right) Sagittal\n",
      "power Doppler ultrasound in\n",
      "the same patient reveals\n",
      "epididymal ﬅ and testicular\n",
      "ﬆ hyperemia (hallmarks of\n",
      "epididymo-orchitis).\n",
      "(Left) Sagittal grayscale\n",
      "ultrasound in a 37-year-old\n",
      "man presenting with acute\n",
      "scrotal pain, fever, and dysuria\n",
      "demonstrates a large pyocele\n",
      "with numerous septations ﬅ.\n",
      "(Right) Sagittal color Doppler\n",
      "ultrasound of epididymis in the\n",
      "\n",
      "• Solitary, nonenhancing lesion\n",
      "• CT: Absence of perinephric stranding, \"rim\" sign, shaggy\n",
      "wall, hyperintense mass\n",
      "• May be indistinguishable on imaging\n",
      "PATHOLOGY\n",
      "General Features\n",
      "• Etiology\n",
      "○Sequelae of acute renal infections\n",
      "– Acute pyelonephritis or focal bacterial nephritis\n",
      "– Usually seen 1-2 weeks after infection\n",
      "○Ascending urinary tract infections\n",
      "– Calculi, obstruction, renal anomalies, urinary reflux\n",
      "(diabetes or pregnancy)\u001b[0m"
     ]
    },
    {
     "name": "stderr",
     "output_type": "stream",
     "text": [
      "2025-05-04 16:35:54,334 - INFO - HTTP Request: POST https://api.openai.com/v1/chat/completions \"HTTP/1.1 200 OK\"\n"
     ]
    },
    {
     "name": "stdout",
     "output_type": "stream",
     "text": [
      "\u001b[32;1m\u001b[1;3mI need to synthesize the information from the retrieved documents to provide a concise answer about the symptoms of pneumonia.\n",
      "Action: SynthesizeAnswer\n",
      "Action Input: The retrieved document contains information about various infections and conditions, but I need to focus on extracting the relevant symptoms of pneumonia.\u001b[0m"
     ]
    },
    {
     "name": "stderr",
     "output_type": "stream",
     "text": [
      "2025-05-04 16:35:58,053 - INFO - HTTP Request: POST https://api.openai.com/v1/chat/completions \"HTTP/1.1 200 OK\"\n"
     ]
    },
    {
     "name": "stdout",
     "output_type": "stream",
     "text": [
      "\u001b[33;1m\u001b[1;3mThe provided context does not specifically mention the symptoms of pneumonia. However, common symptoms of pneumonia generally include cough, fever, chills, difficulty breathing, chest pain, fatigue, and sometimes nausea or vomiting. If you need information specific to a medical text or document, please provide the relevant context or details.\u001b[0m"
     ]
    },
    {
     "name": "stderr",
     "output_type": "stream",
     "text": [
      "2025-05-04 16:35:58,979 - INFO - HTTP Request: POST https://api.openai.com/v1/chat/completions \"HTTP/1.1 200 OK\"\n"
     ]
    },
    {
     "name": "stdout",
     "output_type": "stream",
     "text": [
      "\u001b[32;1m\u001b[1;3mI now know the final answer.\n",
      "\n",
      "Final Answer: Common symptoms of pneumonia include cough, fever, chills, difficulty breathing, chest pain, fatigue, and sometimes nausea or vomiting.\u001b[0m\n",
      "\n",
      "\u001b[1m> Finished chain.\u001b[0m\n",
      "🤖 Agent Answer: Common symptoms of pneumonia include cough, fever, chills, difficulty breathing, chest pain, fatigue, and sometimes nausea or vomiting.\n"
     ]
    }
   ],
   "source": [
    "system = ComprehensiveRAGSystem(\n",
    "    embedding_model=\"sentence-transformers/all-MiniLM-L6-v2\",\n",
    "    llm_model=\"gpt-4o\",\n",
    "    milvus_host=\"localhost\",\n",
    "    milvus_port=\"19530\",\n",
    "    collection_name=\"medical_knowledge_base_v2\"\n",
    ")\n",
    "\n",
    "query = \"What are the symptoms of pneumonia?\"\n",
    "rag_answer = system.answer_question(query)\n",
    "print(\"🧠 RAG Answer:\", rag_answer)\n",
    "\n",
    "agent_answer = system.answer_question(query, use_agent=True)\n",
    "print(\"🤖 Agent Answer:\", agent_answer)\n",
    "\n",
    "system.provide_feedback(query, rag_answer, feedback_score=0.9)\n"
   ]
  },
  {
   "cell_type": "code",
   "execution_count": 126,
   "id": "e6003bf2",
   "metadata": {},
   "outputs": [],
   "source": [
    "# Activate RL?\n",
    "# system.provide_feedback(query, answer, feedback_score=0.9)"
   ]
  },
  {
   "cell_type": "code",
   "execution_count": null,
   "id": "8dadccc0",
   "metadata": {},
   "outputs": [],
   "source": []
  }
 ],
 "metadata": {
  "kernelspec": {
   "display_name": "capstone",
   "language": "python",
   "name": "python3"
  },
  "language_info": {
   "codemirror_mode": {
    "name": "ipython",
    "version": 3
   },
   "file_extension": ".py",
   "mimetype": "text/x-python",
   "name": "python",
   "nbconvert_exporter": "python",
   "pygments_lexer": "ipython3",
   "version": "3.10.16"
  }
 },
 "nbformat": 4,
 "nbformat_minor": 5
}
