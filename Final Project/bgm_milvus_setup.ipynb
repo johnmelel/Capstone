{
 "cells": [
  {
   "cell_type": "markdown",
   "id": "b9c2e853",
   "metadata": {},
   "source": [
    "# Information\n",
    "- Milvus running on local host. Need to change it when placing on cloud\n",
    "- Only one PDF was loaded into milvus, so need to update it\n",
    "\n",
    "\n",
    "### Information on architecture built\n",
    "- MILVUS STORAGE name: `medical_knowledge_base_v2`\n",
    "- embedding model: `sentence-transformers/all-MiniLM-L6-v2`"
   ]
  },
  {
   "cell_type": "markdown",
   "id": "1e62ec8c",
   "metadata": {},
   "source": [
    "# Loading PDFs"
   ]
  },
  {
   "cell_type": "code",
   "execution_count": 21,
   "id": "25ff420e",
   "metadata": {},
   "outputs": [],
   "source": [
    "from pathlib import Path\n",
    "import os\n",
    "import logging\n",
    "from typing import List, Set, Dict, Any\n",
    "import time\n",
    "\n",
    "# Set up logging\n",
    "logging.basicConfig(level=logging.INFO, format='%(asctime)s - %(levelname)s - %(message)s')\n",
    "logger = logging.getLogger(__name__)\n",
    "\n",
    "# Document loading\n",
    "from langchain_community.document_loaders import DirectoryLoader, PyMuPDFLoader\n",
    "from langchain_text_splitters import RecursiveCharacterTextSplitter\n",
    "\n",
    "# Vector database\n",
    "from pymilvus import connections, utility\n",
    "from pymilvus.orm.collection import Collection\n",
    "from pymilvus.exceptions import MilvusException\n",
    "from langchain_huggingface import HuggingFaceEmbeddings\n",
    "from langchain_community.vectorstores import Milvus\n",
    "\n",
    "# Constants\n",
    "MILVUS_COLLECTION_NAME = \"medical_knowledge_base_v2\"\n",
    "EMBEDDING_MODEL = \"sentence-transformers/all-MiniLM-L6-v2\"\n",
    "CHUNK_SIZE = 1000\n",
    "CHUNK_OVERLAP = 200"
   ]
  },
  {
   "cell_type": "code",
   "execution_count": 22,
   "id": "c66b1e88",
   "metadata": {},
   "outputs": [],
   "source": [
    "def connect_to_milvus(host: str = \"localhost\", port: str = \"19530\") -> bool:\n",
    "    \"\"\"Establish connection to Milvus server with error handling.\"\"\"\n",
    "    try:\n",
    "        # First disconnect to reset any existing connections\n",
    "        try:\n",
    "            connections.disconnect(\"default\")\n",
    "        except:\n",
    "            pass  # Ignore if no connection exists\n",
    "        \n",
    "        # Connect to Milvus\n",
    "        connections.connect(host=host, port=port)\n",
    "        \n",
    "        # Verify connection by listing collections\n",
    "        utility.list_collections()\n",
    "        logger.info(f\"✅ Connected to Milvus server at {host}:{port}\")\n",
    "        return True\n",
    "    except Exception as e:\n",
    "        logger.error(f\"❌ Failed to connect to Milvus: {str(e)}\")\n",
    "        return False"
   ]
  },
  {
   "cell_type": "code",
   "execution_count": 23,
   "id": "04c4721e",
   "metadata": {},
   "outputs": [],
   "source": [
    "def load_pdfs(data_directory: str) -> List:\n",
    "    \"\"\"Load PDF documents with error handling.\"\"\"\n",
    "    try:\n",
    "        # Find PDFs on disk\n",
    "        pdf_files = list(Path(data_directory).rglob(\"*.pdf\"))\n",
    "        logger.info(f\"Found {len(pdf_files)} PDF files:\")\n",
    "        for p in pdf_files:\n",
    "            logger.info(f\"  {p.name}\")\n",
    "        \n",
    "        # Load every page as a Document\n",
    "        loader = DirectoryLoader(\n",
    "            data_directory, \n",
    "            glob=\"**/*.pdf\", \n",
    "            loader_cls=PyMuPDFLoader)\n",
    "        \n",
    "        docs = loader.load()\n",
    "        logger.info(f\"✅ Loaded {len(docs)} pages from your PDFs\")\n",
    "        return docs\n",
    "    except Exception as e:\n",
    "        logger.error(f\"❌ Error loading PDFs: {str(e)}\")\n",
    "        return []"
   ]
  },
  {
   "cell_type": "code",
   "execution_count": 24,
   "id": "4dbd6eaf",
   "metadata": {},
   "outputs": [],
   "source": [
    "def connect_to_milvus(host: str = \"localhost\", port: str = \"19530\") -> bool:\n",
    "    \"\"\"Establish connection to Milvus server with error handling.\"\"\"\n",
    "    try:\n",
    "        # First disconnect to reset any existing connections\n",
    "        try:\n",
    "            connections.disconnect(\"default\")\n",
    "        except:\n",
    "            pass  # Ignore if no connection exists\n",
    "        \n",
    "        # Connect to Milvus\n",
    "        connections.connect(host=host, port=port)\n",
    "        \n",
    "        # Verify connection by listing collections\n",
    "        utility.list_collections()\n",
    "        logger.info(f\"✅ Connected to Milvus server at {host}:{port}\")\n",
    "        return True\n",
    "    except Exception as e:\n",
    "        logger.error(f\"❌ Failed to connect to Milvus: {str(e)}\")\n",
    "        return False"
   ]
  },
  {
   "cell_type": "code",
   "execution_count": 25,
   "id": "debbf165",
   "metadata": {},
   "outputs": [],
   "source": [
    "def get_existing_sources(collection_name: str) -> Set[str]:\n",
    "    \"\"\"Retrieve existing document sources from Milvus collection with pagination.\"\"\"\n",
    "    try:\n",
    "        col = Collection(collection_name)\n",
    "        col.load()\n",
    "        \n",
    "        # Get total count of entities\n",
    "        count = col.num_entities\n",
    "        logger.info(f\"Total entities in collection: {count}\")\n",
    "        \n",
    "        # Use pagination to handle large collections\n",
    "        batch_size = 10000\n",
    "        offset = 0\n",
    "        all_sources = set()\n",
    "        \n",
    "        while offset < count:\n",
    "            results = col.query(\n",
    "                expr=\"\",\n",
    "                output_fields=[\"source\"],\n",
    "                limit=batch_size,\n",
    "                offset=offset\n",
    "            )\n",
    "            sources = {row[\"source\"] for row in results if \"source\" in row}\n",
    "            all_sources.update(sources)\n",
    "            offset += batch_size\n",
    "            \n",
    "        logger.info(f\"✅ Retrieved {len(all_sources)} unique source paths from Milvus\")\n",
    "        return all_sources\n",
    "    except Exception as e:\n",
    "        logger.error(f\"❌ Error retrieving existing sources: {str(e)}\")\n",
    "        return set()"
   ]
  },
  {
   "cell_type": "code",
   "execution_count": 26,
   "id": "43da5501",
   "metadata": {},
   "outputs": [],
   "source": [
    "def filter_and_chunk_documents(docs, existing_sources: Set[str], chunk_size: int, chunk_overlap: int):\n",
    "    \"\"\"Filter out already processed documents and chunk new ones.\"\"\"\n",
    "    try:\n",
    "        # Filter out docs whose source PDF is already in Milvus\n",
    "        new_docs = [doc for doc in docs if doc.metadata[\"source\"] not in existing_sources]\n",
    "        logger.info(f\"🛡  Skipping {len(docs) - len(new_docs)} pages already uploaded\")\n",
    "        logger.info(f\"🔄  Will process {len(new_docs)} new pages\")\n",
    "        \n",
    "        if not new_docs:\n",
    "            logger.info(\"No new documents to process.\")\n",
    "            return []\n",
    "            \n",
    "        # Chunk only new pages\n",
    "        splitter = RecursiveCharacterTextSplitter(chunk_size=chunk_size, chunk_overlap=chunk_overlap)\n",
    "        chunks = splitter.split_documents(new_docs)\n",
    "        logger.info(f\"✅  Created {len(chunks)} chunks from new documents\")\n",
    "        return chunks\n",
    "    except Exception as e:\n",
    "        logger.error(f\"❌ Error filtering and chunking documents: {str(e)}\")\n",
    "        return []"
   ]
  },
  {
   "cell_type": "code",
   "execution_count": 27,
   "id": "8a8f382d",
   "metadata": {},
   "outputs": [],
   "source": [
    "def add_to_vector_store(chunks, collection_name: str, embedding_model: str, host: str, port: str):\n",
    "    \"\"\"Add document chunks to Milvus vector store with error handling.\"\"\"\n",
    "    if not chunks:\n",
    "        logger.info(\"No chunks to add to vector store.\")\n",
    "        return False\n",
    "        \n",
    "    try:\n",
    "        # Initialize embedding model\n",
    "        start_time = time.time()\n",
    "        embedder = HuggingFaceEmbeddings(model_name=embedding_model)\n",
    "        logger.info(f\"Initialized embedder: {embedding_model}\")\n",
    "        \n",
    "        try:\n",
    "            # Try to connect to an existing Milvus collection\n",
    "            vector_store = Milvus(\n",
    "                embedding_function=embedder,\n",
    "                collection_name=collection_name,\n",
    "                connection_args={\"host\": host, \"port\": port}\n",
    "            )\n",
    "            vector_store.add_documents(chunks)\n",
    "            logger.info(f\"✅ Added {len(chunks)} chunks to existing collection '{collection_name}'\")\n",
    "        except Exception as e:\n",
    "            logger.info(f\"Creating new collection: {str(e)}\")\n",
    "            # If collection doesn't exist, create it and insert\n",
    "            vector_store = Milvus.from_documents(\n",
    "                documents=chunks,\n",
    "                embedding=embedder,\n",
    "                collection_name=collection_name,\n",
    "                connection_args={\"host\": host, \"port\": port}\n",
    "            )\n",
    "            logger.info(f\"✅ Created new collection '{collection_name}' with {len(chunks)} chunks\")\n",
    "        \n",
    "        # Log performance metrics\n",
    "        elapsed_time = time.time() - start_time\n",
    "        logger.info(f\"Processing took {elapsed_time:.2f} seconds ({len(chunks)/elapsed_time:.2f} chunks/second)\")\n",
    "        \n",
    "        return True\n",
    "    except Exception as e:\n",
    "        logger.error(f\"❌ Error adding chunks to vector store: {str(e)}\")\n",
    "        return False"
   ]
  },
  {
   "cell_type": "code",
   "execution_count": 28,
   "id": "bcd39862",
   "metadata": {},
   "outputs": [],
   "source": [
    "def main():\n",
    "    \"\"\"Main function to orchestrate the PDF loading and vector storage process.\"\"\"\n",
    "    # Configuration - update these for cloud deployment\n",
    "    data_directory = \"/Users/brunamedeiros/Documents/University of Chicago/Spring 2025 - Capstone I/FINAL_DATASET_TEST\"\n",
    "    host = \"localhost\"  # Change for cloud deployment\n",
    "    port = \"19530\"      # Change for cloud deployment\n",
    "    \n",
    "    # Connect to Milvus\n",
    "    if not connect_to_milvus(host, port):\n",
    "        logger.error(\"Exiting due to Milvus connection failure\")\n",
    "        return\n",
    "    \n",
    "    # Load PDFs\n",
    "    docs = load_pdfs(data_directory)\n",
    "    if not docs:\n",
    "        logger.error(\"Exiting due to PDF loading failure\")\n",
    "        return\n",
    "    \n",
    "    # Get existing sources from Milvus\n",
    "    existing_sources = get_existing_sources(MILVUS_COLLECTION_NAME)\n",
    "    \n",
    "    # Filter and chunk documents\n",
    "    chunks = filter_and_chunk_documents(docs, existing_sources, CHUNK_SIZE, CHUNK_OVERLAP)\n",
    "    \n",
    "    # Add to vector store\n",
    "    success = add_to_vector_store(chunks, MILVUS_COLLECTION_NAME, EMBEDDING_MODEL, host, port)\n",
    "    \n",
    "    # Confirm total stored vectors\n",
    "    try:\n",
    "        collection = Collection(MILVUS_COLLECTION_NAME)\n",
    "        logger.info(f\"✅ Total vectors stored: {collection.num_entities}\")\n",
    "    except Exception as e:\n",
    "        logger.error(f\"❌ Error checking collection size: {str(e)}\")\n"
   ]
  },
  {
   "cell_type": "code",
   "execution_count": 29,
   "id": "c0647a97",
   "metadata": {},
   "outputs": [
    {
     "name": "stderr",
     "output_type": "stream",
     "text": [
      "2025-05-04 18:58:14,648 - INFO - ✅ Connected to Milvus server at localhost:19530\n",
      "2025-05-04 18:58:14,649 - INFO - Found 5 PDF files:\n"
     ]
    },
    {
     "name": "stderr",
     "output_type": "stream",
     "text": [
      "2025-05-04 18:58:14,649 - INFO -   Getting Started _ RADS - Reporting and Data Systems Support.pdf\n",
      "2025-05-04 18:58:14,649 - INFO -   Imaging Features _ RADS - Reporting and Data Systems Support.pdf\n",
      "2025-05-04 18:58:14,649 - INFO -   Gastrointestinal Imaging_ The Requisites (Requisites in Radiology) 3rd ed ( PDFDrive ).pdf\n",
      "2025-05-04 18:58:14,650 - INFO -   Genitourinary Radiology_ Radiology Requisites Series ( PDFDrive ) (1).pdf\n",
      "2025-05-04 18:58:14,650 - INFO -   LI-RADS 2018 Core.pdf\n",
      "2025-05-04 18:58:16,712 - INFO - ✅ Loaded 855 pages from your PDFs\n",
      "2025-05-04 18:58:16,727 - INFO - Total entities in collection: 2240\n",
      "2025-05-04 18:58:16,745 - INFO - ✅ Retrieved 1 unique source paths from Milvus\n",
      "2025-05-04 18:58:16,746 - INFO - 🛡  Skipping 0 pages already uploaded\n",
      "2025-05-04 18:58:16,746 - INFO - 🔄  Will process 855 new pages\n",
      "2025-05-04 18:58:16,783 - INFO - ✅  Created 1901 chunks from new documents\n",
      "2025-05-04 18:58:16,786 - INFO - Use pytorch device_name: mps\n",
      "2025-05-04 18:58:16,786 - INFO - Load pretrained SentenceTransformer: sentence-transformers/all-MiniLM-L6-v2\n",
      "2025-05-04 18:58:17,892 - INFO - Initialized embedder: sentence-transformers/all-MiniLM-L6-v2\n",
      "2025-05-04 18:58:17,910 - INFO - Creating new collection: A list of valid ids are required when auto_id is False.\n",
      "2025-05-04 18:58:24,743 - INFO - ✅ Created new collection 'medical_knowledge_base_v2' with 1901 chunks\n",
      "2025-05-04 18:58:24,745 - INFO - Processing took 7.96 seconds (238.79 chunks/second)\n",
      "2025-05-04 18:58:24,750 - INFO - ✅ Total vectors stored: 2240\n"
     ]
    }
   ],
   "source": [
    "if __name__ == \"__main__\":\n",
    "    main()"
   ]
  },
  {
   "cell_type": "markdown",
   "id": "fb83c276",
   "metadata": {},
   "source": [
    "---"
   ]
  },
  {
   "cell_type": "code",
   "execution_count": 1,
   "id": "5bac1b70",
   "metadata": {},
   "outputs": [],
   "source": [
    "from pathlib import Path\n",
    "from langchain_community.document_loaders import DirectoryLoader, PyMuPDFLoader\n",
    "from langchain_text_splitters import RecursiveCharacterTextSplitter"
   ]
  },
  {
   "cell_type": "code",
   "execution_count": null,
   "id": "41006fb2",
   "metadata": {},
   "outputs": [
    {
     "name": "stdout",
     "output_type": "stream",
     "text": [
      "Found 30 PDF files:\n",
      "   s00261-019-02302-x.pdf\n",
      "   LI-RADS US Surveillance v2024 Core.pdf\n",
      "   PIRADS V2-1.pdf\n",
      "   Diagnostic Imaging Genitourinary ( PDFDrive ).pdf\n",
      "   Radiology Illustrated_ Hepatobiliary and Pancreatic Radiology ( PDFDrive ).pdf\n",
      "   Diagnostic Imaging_ Abdomen_ Published by Amirsys® ( PDFDrive ).pdf\n",
      "   1-s2.0-S0720048X23000712-main.pdf\n",
      "   prostatemri2.pdf\n",
      "   LI-RADS CTMR Radiation TRA v2024 Core.pdf\n",
      "   Liver imaging _ MRI with CT correlation ( PDFDrive ).pdf\n",
      "   Reporting _ RADS - Reporting and Data Systems Support.pdf\n",
      "   LIRADS Lexicon Table.pdf\n",
      "   Getting Started _ RADS - Reporting and Data Systems Support.pdf\n",
      "   Imaging Features _ RADS - Reporting and Data Systems Support.pdf\n",
      "   CT and MRI of the Whole Body, 2-Volume Set, 6e, Volume I ( PDFDrive ).pdf\n",
      "   Mayo Clinic Gastrointestinal Imaging Review ( PDFDrive ).pdf\n",
      "   Management _ RADS - Reporting and Data Systems Support.pdf\n",
      "   Gastrointestinal Imaging_ The Requisites (Requisites in Radiology) 3rd ed ( PDFDrive ).pdf\n",
      "   LI-RADS CTMR Nonradiation TRA v2024 Core.pdf\n",
      "   Treatment Response _ RADS - Reporting and Data Systems Support.pdf\n",
      "   Genitourinary Radiology_ Radiology Requisites Series ( PDFDrive ) (1).pdf\n",
      "   LI-RADS 2018 Core.pdf\n",
      "   Diagnostic Categories _ RADS - Reporting and Data Systems Support.pdf\n",
      "   Diagnostic Imaging_ Gastrointestinal ( PDFDrive ).pdf\n",
      "   What's New in v2018 _ RADS - Reporting and Data Systems Support.pdf\n",
      "   Technique _ RADS - Reporting and Data Systems Support.pdf\n",
      "   Application _ RADS - Reporting and Data Systems Support.pdf\n",
      "   Diagnosis _ RADS - Reporting and Data Systems Support.pdf\n",
      "   MRI of the prostate_ a practical approach ( PDFDrive ).pdf\n",
      "   westphalen-et-al-2020-variability-of-the-positive-predictive-value-of-pi-rads-for-prostate-mri-across-26-centers.pdf\n"
     ]
    }
   ],
   "source": [
    "data_directory = \"/Users/brunamedeiros/Documents/University of Chicago/Spring 2025 - Capstone I/FINAL_DATASET_TEST\"\n",
    "\n",
    "# Find PDFs on disk\n",
    "pdf_files = list(Path(data_directory).rglob(\"*.pdf\"))\n",
    "print(f\"Found {len(pdf_files)} PDF files:\")\n",
    "for p in pdf_files:\n",
    "    print(\"  \", p.name)"
   ]
  },
  {
   "cell_type": "code",
   "execution_count": 6,
   "id": "f2e964d2",
   "metadata": {},
   "outputs": [
    {
     "name": "stdout",
     "output_type": "stream",
     "text": [
      "\n",
      "Loaded 7560 pages from your PDFs\n"
     ]
    }
   ],
   "source": [
    "# Load every page as a Document\n",
    "loader = DirectoryLoader(\n",
    "    data_directory, \n",
    "    glob=\"**/*.pdf\", \n",
    "    loader_cls=PyMuPDFLoader)\n",
    "docs = loader.load()\n",
    "print(f\"\\nLoaded {len(docs)} pages from your PDFs\")"
   ]
  },
  {
   "cell_type": "markdown",
   "id": "cb7c92c6",
   "metadata": {},
   "source": [
    "# Embeddings"
   ]
  },
  {
   "cell_type": "code",
   "execution_count": 9,
   "id": "3d3f7967",
   "metadata": {},
   "outputs": [],
   "source": [
    "# Embed + Store in Milvus\n",
    "from pymilvus import connections\n",
    "from langchain_huggingface import HuggingFaceEmbeddings\n",
    "from langchain_community.vectorstores import Milvus\n",
    "from pymilvus import connections, utility\n",
    "from pymilvus import Collection\n",
    "\n",
    "# Visualization \n",
    "from pymilvus.orm.collection import Collection\n",
    "from sklearn.decomposition import PCA\n",
    "import matplotlib.pyplot as plt\n",
    "import numpy as np\n",
    "from sklearn.decomposition import PCA"
   ]
  },
  {
   "cell_type": "code",
   "execution_count": 10,
   "id": "1417ecef",
   "metadata": {},
   "outputs": [],
   "source": [
    "# Connect to Milvus\n",
    "connections.disconnect(\"default\")  # force reset\n",
    "connections.connect(host=\"localhost\", port=\"19530\")\n",
    "#print(utility.list_collections())  # confirm it"
   ]
  },
  {
   "cell_type": "markdown",
   "id": "3e1ad199",
   "metadata": {},
   "source": [
    "- pull all existing `source` field values from Milvus collection\n",
    "- Drop any page whoe `doc.metadata[\"source\"]` matches one of those, to never re-add the same PDF page twice\n",
    "- split *only* new pages into `chunks`"
   ]
  },
  {
   "cell_type": "code",
   "execution_count": null,
   "id": "0939be3c",
   "metadata": {},
   "outputs": [],
   "source": [
    "# query existing 'source' metadata from Milvus\n",
    "col = Collection(\"medical_knowledge_base_v2\")\n",
    "existing = col.query(expr=\"\", output_fields=[\"source\"], limit=100000)\n",
    "already_uploaded_sources = {row[\"source\"] for row in existing}\n",
    "\n",
    "# filter out docs whose source PDF is already in Milvus\n",
    "new_docs = [doc for doc in docs if doc.metadata[\"source\"] not in already_uploaded_sources]\n",
    "print(f\"🛡  Skipping {len(docs) - len(new_docs)} pages already uploaded\")\n",
    "print(f\"🔄  Will re-chunk {len(new_docs)} new pages\")"
   ]
  },
  {
   "cell_type": "code",
   "execution_count": null,
   "id": "2d47e2e5",
   "metadata": {},
   "outputs": [],
   "source": [
    "# re-chunk only new pages\n",
    "splitter = RecursiveCharacterTextSplitter(chunk_size=1000, chunk_overlap=200)\n",
    "chunks = splitter.split_documents(new_docs)\n",
    "print(f\"✅  Deduplication done, {len(chunks)} new chunks ready\")"
   ]
  },
  {
   "cell_type": "code",
   "execution_count": null,
   "id": "f3471a79",
   "metadata": {},
   "outputs": [
    {
     "name": "stdout",
     "output_type": "stream",
     "text": [
      "✅ Created new collection 'medical_knowledge_base_v2' with 2240 chunks.\n"
     ]
    }
   ],
   "source": [
    "# Initialize Hugging Face embedder\n",
    "embedder = HuggingFaceEmbeddings(model_name=\"sentence-transformers/all-MiniLM-L6-v2\")\n",
    "\n",
    "# Embed and insert into Milvus\n",
    "collection_name = \"medical_knowledge_base_v2\"\n",
    "\n",
    "try:\n",
    "    # Try to connect to an existing Milvus collection\n",
    "    vector_store = Milvus(\n",
    "        embedding_function=embedder,\n",
    "        collection_name=collection_name,\n",
    "        connection_args={\"host\": \"localhost\", \"port\": \"19530\"}\n",
    "    )\n",
    "    vector_store.add_documents(chunks)\n",
    "    print(f\"✅ Added {len(chunks)} chunks to existing collection '{collection_name}'.\")\n",
    "except Exception:\n",
    "    # If collection doesn't exist, create it and insert\n",
    "    vector_store = Milvus.from_documents(\n",
    "        documents=chunks,\n",
    "        embedding=embedder,\n",
    "        collection_name=collection_name,\n",
    "        connection_args={\"host\": \"localhost\", \"port\": \"19530\"}\n",
    "    )\n",
    "    print(f\"✅ Created new collection '{collection_name}' with {len(chunks)} chunks.\")"
   ]
  },
  {
   "cell_type": "code",
   "execution_count": null,
   "id": "75950d1b",
   "metadata": {},
   "outputs": [
    {
     "name": "stdout",
     "output_type": "stream",
     "text": [
      "✅ Total vectors stored: 2240\n"
     ]
    }
   ],
   "source": [
    "# Confirm total stored vectors\n",
    "collection = Collection(\"medical_knowledge_base_v2\")\n",
    "print(\"✅ Total vectors stored:\", collection.num_entities)"
   ]
  },
  {
   "cell_type": "code",
   "execution_count": null,
   "id": "0cee6f16",
   "metadata": {},
   "outputs": [],
   "source": []
  }
 ],
 "metadata": {
  "kernelspec": {
   "display_name": "capstone",
   "language": "python",
   "name": "python3"
  },
  "language_info": {
   "codemirror_mode": {
    "name": "ipython",
    "version": 3
   },
   "file_extension": ".py",
   "mimetype": "text/x-python",
   "name": "python",
   "nbconvert_exporter": "python",
   "pygments_lexer": "ipython3",
   "version": "3.10.16"
  }
 },
 "nbformat": 4,
 "nbformat_minor": 5
}
