{
 "cells": [
  {
   "cell_type": "markdown",
   "id": "b9c2e853",
   "metadata": {},
   "source": [
    "# Information\n",
    "- Milvus running on local host. Need to change it when placing on cloud\n",
    "- Only one PDF was loaded into milvus, so need to update it\n",
    "\n",
    "\n",
    "### Information on architecture built\n",
    "- MILVUS STORAGE name: `medical_knowledge_base_v2`\n",
    "- embedding model: `sentence-transformers/all-MiniLM-L6-v2`"
   ]
  },
  {
   "cell_type": "markdown",
   "id": "1e62ec8c",
   "metadata": {},
   "source": [
    "# Loading PDFs"
   ]
  },
  {
   "cell_type": "code",
   "execution_count": 48,
   "id": "5bac1b70",
   "metadata": {},
   "outputs": [],
   "source": [
    "from pathlib import Path\n",
    "from langchain_community.document_loaders import DirectoryLoader, PyMuPDFLoader\n",
    "from langchain_text_splitters import RecursiveCharacterTextSplitter"
   ]
  },
  {
   "cell_type": "code",
   "execution_count": 49,
   "id": "41006fb2",
   "metadata": {},
   "outputs": [
    {
     "name": "stdout",
     "output_type": "stream",
     "text": [
      "Found 1 PDF files:\n",
      "   Diagnostic Imaging Genitourinary ( PDFDrive ).pdf\n"
     ]
    }
   ],
   "source": [
    "data_directory = \"/Users/brunamedeiros/Documents/University of Chicago/Spring 2025 - Capstone I/FINAL DATASET\"\n",
    "\n",
    "# Check how many PDF files you have on disk\n",
    "pdf_files = list(Path(data_directory).rglob(\"*.pdf\"))\n",
    "print(f\"Found {len(pdf_files)} PDF files:\")\n",
    "for p in pdf_files:\n",
    "    print(\"  \", p.name)"
   ]
  },
  {
   "cell_type": "code",
   "execution_count": 50,
   "id": "f2e964d2",
   "metadata": {},
   "outputs": [
    {
     "name": "stdout",
     "output_type": "stream",
     "text": [
      "\n",
      "Loaded 641 pages from your PDFs\n",
      "\n",
      "After splitting, you have 2240 chunks\n",
      "\n",
      "Sample chunk (200 chars): THIRD EDITION\n",
      "\n",
      "Char count of doc[8]: 4\n",
      "\n",
      "Sample text: viii\n"
     ]
    }
   ],
   "source": [
    "# Load every page as a Document\n",
    "loader = DirectoryLoader(data_directory, glob=\"**/*.pdf\", loader_cls=PyMuPDFLoader)\n",
    "docs = loader.load()\n",
    "print(f\"\\nLoaded {len(docs)} pages from your PDFs\")\n",
    "\n",
    "# Split\n",
    "splitter = RecursiveCharacterTextSplitter(chunk_size=1000, chunk_overlap=200)\n",
    "chunks = splitter.split_documents(docs)\n",
    "print(f\"\\nAfter splitting, you have {len(chunks)} chunks\")\n",
    "print(\"\\nSample chunk (200 chars):\", chunks[0].page_content[:200])\n",
    "\n",
    "# Sanity Check\n",
    "print(\"\\nChar count of doc[8]:\", len(docs[8].page_content))\n",
    "print(\"\\nSample text:\", docs[8].page_content[:500])\n"
   ]
  },
  {
   "cell_type": "markdown",
   "id": "cb7c92c6",
   "metadata": {},
   "source": [
    "# Embeddings"
   ]
  },
  {
   "cell_type": "code",
   "execution_count": 73,
   "id": "3d3f7967",
   "metadata": {},
   "outputs": [],
   "source": [
    "# Embed + Store in Milvus\n",
    "from pymilvus import connections\n",
    "from langchain_huggingface import HuggingFaceEmbeddings\n",
    "from langchain_community.vectorstores import Milvus\n",
    "from pymilvus import connections, utility\n",
    "from pymilvus import Collection\n",
    "\n",
    "# Visualization \n",
    "from pymilvus.orm.collection import Collection\n",
    "from sklearn.decomposition import PCA\n",
    "import matplotlib.pyplot as plt\n",
    "import numpy as np\n",
    "from sklearn.decomposition import PCA"
   ]
  },
  {
   "cell_type": "code",
   "execution_count": 59,
   "id": "1417ecef",
   "metadata": {},
   "outputs": [
    {
     "name": "stdout",
     "output_type": "stream",
     "text": [
      "[]\n"
     ]
    }
   ],
   "source": [
    "# Connect to Milvus\n",
    "connections.disconnect(\"default\")  # force reset\n",
    "connections.connect(host=\"localhost\", port=\"19530\")\n",
    "print(utility.list_collections())  # confirm it"
   ]
  },
  {
   "cell_type": "code",
   "execution_count": null,
   "id": "f3471a79",
   "metadata": {},
   "outputs": [
    {
     "name": "stdout",
     "output_type": "stream",
     "text": [
      "✅ Created new collection 'medical_knowledge_base_v2' with 2240 chunks.\n"
     ]
    }
   ],
   "source": [
    "# Initialize Hugging Face embedder\n",
    "embedder = HuggingFaceEmbeddings(model_name=\"sentence-transformers/all-MiniLM-L6-v2\")\n",
    "\n",
    "# Embed and insert into Milvus\n",
    "collection_name = \"medical_knowledge_base_v2\"\n",
    "\n",
    "try:\n",
    "    # Try to connect to an existing Milvus collection\n",
    "    vector_store = Milvus(\n",
    "        embedding_function=embedder,\n",
    "        collection_name=collection_name,\n",
    "        connection_args={\"host\": \"localhost\", \"port\": \"19530\"}\n",
    "    )\n",
    "    vector_store.add_documents(chunks)\n",
    "    print(f\"✅ Added {len(chunks)} chunks to existing collection '{collection_name}'.\")\n",
    "except Exception:\n",
    "    # If collection doesn't exist, create it and insert\n",
    "    vector_store = Milvus.from_documents(\n",
    "        documents=chunks,\n",
    "        embedding=embedder,\n",
    "        collection_name=collection_name,\n",
    "        connection_args={\"host\": \"localhost\", \"port\": \"19530\"}\n",
    "    )\n",
    "    print(f\"✅ Created new collection '{collection_name}' with {len(chunks)} chunks.\")"
   ]
  },
  {
   "cell_type": "code",
   "execution_count": null,
   "id": "75950d1b",
   "metadata": {},
   "outputs": [
    {
     "name": "stdout",
     "output_type": "stream",
     "text": [
      "✅ Total vectors stored: 2240\n"
     ]
    }
   ],
   "source": [
    "# Confirm total stored vectors\n",
    "collection = Collection(\"medical_knowledge_base_v2\")\n",
    "print(\"✅ Total vectors stored:\", collection.num_entities)"
   ]
  },
  {
   "cell_type": "code",
   "execution_count": 74,
   "id": "f1a7bf66",
   "metadata": {},
   "outputs": [
    {
     "data": {
      "image/png": "[encoded data removed]",
      "text/plain": [
       "<Figure size 640x480 with 1 Axes>"
      ]
     },
     "metadata": {},
     "output_type": "display_data"
    }
   ],
   "source": [
    "\n",
    "# 1. Reconnect to vector store\n",
    "embedder = HuggingFaceEmbeddings(model_name=\"sentence-transformers/all-MiniLM-L6-v2\")\n",
    "vs = Milvus(\n",
    "    embedding_function=embedder,\n",
    "    collection_name=\"medical_knowledge_base_v2\",\n",
    "    connection_args={\"host\": \"localhost\", \"port\": \"19530\"},\n",
    ")\n",
    "\n",
    "# 2. Embed a dummy query and search for top 200 vectors\n",
    "query = \"radiology imaging of the kidney\"\n",
    "results = vs.similarity_search_with_score(query, k=200)\n",
    "\n",
    "# 3. Extract embeddings (recompute them)\n",
    "vecs = np.array([embedder.embed_query(doc.page_content) for doc, _ in results])\n",
    "\n",
    "# 4. Reduce + plot\n",
    "coords = PCA(n_components=2).fit_transform(vecs)\n",
    "plt.scatter(coords[:, 0], coords[:, 1])\n",
    "plt.title(\"PCA of 200 retrieved embeddings\")\n",
    "plt.show()\n"
   ]
  },
  {
   "cell_type": "code",
   "execution_count": null,
   "id": "0cee6f16",
   "metadata": {},
   "outputs": [],
   "source": []
  }
 ],
 "metadata": {
  "kernelspec": {
   "display_name": "capstone",
   "language": "python",
   "name": "python3"
  },
  "language_info": {
   "codemirror_mode": {
    "name": "ipython",
    "version": 3
   },
   "file_extension": ".py",
   "mimetype": "text/x-python",
   "name": "python",
   "nbconvert_exporter": "python",
   "pygments_lexer": "ipython3",
   "version": "3.10.16"
  }
 },
 "nbformat": 4,
 "nbformat_minor": 5
}
